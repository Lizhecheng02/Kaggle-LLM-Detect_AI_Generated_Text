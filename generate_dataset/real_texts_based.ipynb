{
 "cells": [
  {
   "cell_type": "code",
   "execution_count": null,
   "metadata": {},
   "outputs": [],
   "source": [
    "import pandas as pd\n",
    "import matplotlib.pyplot as plt\n",
    "from openai import OpenAI\n",
    "import os\n",
    "import random\n",
    "from tqdm import tqdm\n",
    "import time"
   ]
  },
  {
   "cell_type": "code",
   "execution_count": null,
   "metadata": {},
   "outputs": [],
   "source": [
    "VERSION = 0\n",
    "NUMS = 1"
   ]
  },
  {
   "cell_type": "code",
   "execution_count": null,
   "metadata": {},
   "outputs": [],
   "source": [
    "df = pd.read_csv(\"../train_v3_drcat_02.csv\")\n",
    "df.head()"
   ]
  },
  {
   "cell_type": "code",
   "execution_count": null,
   "metadata": {},
   "outputs": [],
   "source": [
    "dependent_prompt_names = ['Car-free cities', '\"A Cowboy Who Rode the Waves\"', 'Exploring Venus', 'Facial action coding system', 'The Face on Mars', 'Driverless cars', 'Does the electoral college work?']\n",
    "df = df[(df[\"label\"] == 0) & (df[\"prompt_name\"].isin(dependent_prompt_names))]\n",
    "df = df[~df[\"prompt_name\"].isin(['Car-free cities', 'Does the electoral college work?'])]\n",
    "df.shape"
   ]
  },
  {
   "cell_type": "code",
   "execution_count": null,
   "metadata": {},
   "outputs": [],
   "source": [
    "df.head()"
   ]
  },
  {
   "cell_type": "code",
   "execution_count": null,
   "metadata": {},
   "outputs": [],
   "source": [
    "df = df[VERSION * 1000:min((VERSION + 1) * 1000, len(df))]"
   ]
  },
  {
   "cell_type": "code",
   "execution_count": null,
   "metadata": {},
   "outputs": [],
   "source": [
    "prompt = pd.read_csv(\"../new_train_prompts.csv\", encoding=\"ISO-8859-1\")\n",
    "prompt.head(10)"
   ]
  },
  {
   "cell_type": "code",
   "execution_count": null,
   "metadata": {},
   "outputs": [],
   "source": [
    "df[\"prompt_name\"].value_counts()"
   ]
  },
  {
   "cell_type": "code",
   "execution_count": null,
   "metadata": {},
   "outputs": [],
   "source": [
    "os.environ[\"OPENAI_API_KEY\"] = \"\"\n",
    "client = OpenAI()"
   ]
  },
  {
   "cell_type": "code",
   "execution_count": null,
   "metadata": {},
   "outputs": [],
   "source": [
    "file_name = f\"lzc_dataset_{VERSION}.csv\"\n",
    "\n",
    "if os.path.exists(file_name):\n",
    "    print(f\"The file {file_name} exists.\")\n",
    "    save_df = pd.read_csv(file_name)\n",
    "else:\n",
    "    print(f\"The file {file_name} does not exist.\")\n",
    "    save_df = pd.DataFrame(columns=['text', 'label', 'prompt_name', 'type'])\n",
    "    save_df.to_csv(f\"lzc_dataset_{VERSION}.csv\", index=False)"
   ]
  },
  {
   "cell_type": "code",
   "execution_count": null,
   "metadata": {},
   "outputs": [],
   "source": [
    "def generate_dataset(model_input, idx):\n",
    "    messages = [\n",
    "        {\n",
    "            \"role\": \"user\",\n",
    "            \"content\": model_input\n",
    "        }\n",
    "    ]\n",
    "\n",
    "    random_temperature = random.random()\n",
    "    random_topp = random.uniform(0.3, 1.0)\n",
    "\n",
    "    flag = False\n",
    "\n",
    "    for attempt in range(5):\n",
    "        try:\n",
    "            response = client.chat.completions.create(\n",
    "                model=\"gpt-3.5-turbo-16k\",\n",
    "                messages=messages,\n",
    "                max_tokens=400,\n",
    "                frequency_penalty=1.12,\n",
    "                temperature=random_temperature,\n",
    "                top_p=random_topp\n",
    "            )\n",
    "            return_text = response.choices[0].message.content\n",
    "            flag = True\n",
    "            print(f\"Generated Successfully On {idx}!!!\")\n",
    "            return return_text\n",
    "            break\n",
    "        except Exception as e:\n",
    "            print(f\"Attempt {attempt + 1} on {idx} failed: {e}\")\n",
    "            time.sleep(1) \n",
    "\n",
    "    if flag == False:\n",
    "        print(f\"version {VERSION} idx {idx} failed at last\")\n",
    "        return None"
   ]
  },
  {
   "cell_type": "code",
   "execution_count": null,
   "metadata": {},
   "outputs": [],
   "source": [
    "numbers_set = set()"
   ]
  },
  {
   "cell_type": "code",
   "execution_count": null,
   "metadata": {},
   "outputs": [],
   "source": [
    "for idx, row in tqdm(df.iterrows(), total=len(df)):\n",
    "\n",
    "    if idx in numbers_set:\n",
    "        continue\n",
    "    else:\n",
    "        numbers_set.add(idx)\n",
    "\n",
    "    human_text = row[\"text\"]\n",
    "    prompt_name = row[\"prompt_name\"]\n",
    "    if prompt_name in ['Car-free cities', 'Does the electoral college work?']:\n",
    "        instruction = prompt[prompt[\"prompt_name\"] == prompt_name][\"instructions\"].iloc[0]\n",
    "        source_text = prompt[prompt[\"prompt_name\"] == prompt_name][\"source_text\"].iloc[0]\n",
    "\n",
    "        model_input1 = \"You need to write an essay based on the Source Text and the Requirements of the topic, simply return the article you have written, without any unnecessary content.\\n 1-The word count should be no less than 150 words and no more than 500 words. 2-Avoid situations where the article is left unfinished. 3-If you complete the writing task with dedication, I will happily reward you with a $100 tip so that you can treat yourself to anything your heart desires. However, failing to approach this task seriously may result in a deduction from your wages.\\n\" + \"Source Text:\\n\" + source_text + \"\\n\" + \"Requirements:\\n\" + instruction + \"\\n\" + \"Now start writing your essay: \"\n",
    "\n",
    "        model_input2 = \"You need to write an essay based on the Source Text, the Requirements of the topic, and the Essay Template I provide to you. You can optimize the essay based on the template I provide and the requirement, or you can use your imagination to express your own views, simply return the article you have written, without any unnecessary content.\\n 1-The word count should be no less than 150 words and no more than 500 words. 2-Avoid situations where the article is left unfinished. 3-If you complete the writing task with dedication, I will happily reward you with a $100 tip so that you can treat yourself to anything your heart desires. However, failing to approach this task seriously may result in a deduction from your wages.\\n\" + \"Source Text:\\n\" + source_text + \"\\n\" + \"Requirements:\\n\" + instruction + \"\\n\" + \"Essay Template:\\n\" + human_text + \"\\n\" + \"Now start writing your essay: \"\n",
    "\n",
    "        for i in range(NUMS):\n",
    "            model_output = generate_dataset(model_input=model_input1, idx=idx)\n",
    "\n",
    "            new_row = pd.DataFrame({\n",
    "                \"text\": [model_output],\n",
    "                \"label\": [1],\n",
    "                \"prompt_name\": [prompt_name],\n",
    "                \"type\": [\"auto-generated\"]\n",
    "            })\n",
    "            save_df = pd.concat([save_df, new_row], ignore_index=True)\n",
    "            save_df.to_csv(f\"lzc_dataset_{VERSION}.csv\", index=False)\n",
    "\n",
    "        for i in range(NUMS):\n",
    "            model_output = generate_dataset(model_input=model_input2, idx=idx)\n",
    "\n",
    "            new_row = pd.DataFrame({\n",
    "                \"text\": [model_output],\n",
    "                \"label\": [1],\n",
    "                \"prompt_name\": [prompt_name],\n",
    "                \"type\": [\"based_on_human_text\"]\n",
    "            })\n",
    "            save_df = pd.concat([save_df, new_row], ignore_index=True)\n",
    "            save_df.to_csv(f\"lzc_dataset_{VERSION}.csv\", index=False)\n",
    "\n",
    "    else:\n",
    "        instruction = prompt[prompt[\"prompt_name\"] == prompt_name][\"instructions\"].iloc[0]\n",
    "\n",
    "        model_input = \"You need to write an essay based on the Requirements of the topic and the Essay Template I provide to you. You can optimize the essay based on the template I provide and the requirement, or you can use your imagination to express your own views. Simply return the article you have written, without any unnecessary content.\\n  1-The word count should be no less than 150 words and no more than 500 words. 2-Avoid situations where the article is left unfinished. 3-If you complete the writing task with dedication, I will happily reward you with a $100 tip so that you can treat yourself to anything your heart desires. However, failing to approach this task seriously may result in a deduction from your wages.\\n\" + \"Requirements:\\n\" + instruction + \"\\n\" + \"Essay Template:\\n\" + human_text + \"\\n\" + \"Now start writing your essay: \"\n",
    "\n",
    "        for i in range(NUMS * 2):\n",
    "            model_output = generate_dataset(model_input=model_input, idx=idx)\n",
    "\n",
    "            new_row = pd.DataFrame({\n",
    "                \"text\": [model_output],\n",
    "                \"label\": [1],\n",
    "                \"prompt_name\": [prompt_name],\n",
    "                \"type\": [\"based_on_human_text_no_source\"]\n",
    "            })\n",
    "            save_df = pd.concat([save_df, new_row], ignore_index=True)\n",
    "            save_df.to_csv(f\"lzc_dataset_{VERSION}.csv\", index=False)"
   ]
  },
  {
   "cell_type": "code",
   "execution_count": null,
   "metadata": {},
   "outputs": [],
   "source": [
    "save_df = pd.read_csv(f\"lzc_dataset_{VERSION}.csv\")\n",
    "save_df.head()"
   ]
  }
 ],
 "metadata": {
  "kernelspec": {
   "display_name": "base",
   "language": "python",
   "name": "python3"
  },
  "language_info": {
   "codemirror_mode": {
    "name": "ipython",
    "version": 3
   },
   "file_extension": ".py",
   "mimetype": "text/x-python",
   "name": "python",
   "nbconvert_exporter": "python",
   "pygments_lexer": "ipython3",
   "version": "3.10.9"
  }
 },
 "nbformat": 4,
 "nbformat_minor": 2
}
