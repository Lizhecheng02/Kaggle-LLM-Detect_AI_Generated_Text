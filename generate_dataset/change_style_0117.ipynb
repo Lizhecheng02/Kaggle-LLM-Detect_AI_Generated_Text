{
 "cells": [
  {
   "cell_type": "code",
   "execution_count": null,
   "metadata": {},
   "outputs": [],
   "source": [
    "import pandas as pd\n",
    "import matplotlib.pyplot as plt\n",
    "from openai import OpenAI\n",
    "import os\n",
    "import random\n",
    "from tqdm import tqdm\n",
    "import time"
   ]
  },
  {
   "cell_type": "code",
   "execution_count": null,
   "metadata": {},
   "outputs": [],
   "source": [
    "VERSION = 0"
   ]
  },
  {
   "cell_type": "code",
   "execution_count": null,
   "metadata": {},
   "outputs": [],
   "source": [
    "df = pd.read_csv(\"../train_v3_drcat_02.csv\")\n",
    "df.head()"
   ]
  },
  {
   "cell_type": "code",
   "execution_count": null,
   "metadata": {},
   "outputs": [],
   "source": [
    "dependent_prompt_names = ['Car-free cities', '\"A Cowboy Who Rode the Waves\"', 'Exploring Venus',\n",
    "                          'Facial action coding system', 'The Face on Mars', 'Driverless cars', 'Does the electoral college work?']\n",
    "df = df[(df[\"label\"] == 0) & (df[\"prompt_name\"].isin(dependent_prompt_names))]\n",
    "df.shape"
   ]
  },
  {
   "cell_type": "code",
   "execution_count": null,
   "metadata": {},
   "outputs": [],
   "source": [
    "df.head()"
   ]
  },
  {
   "cell_type": "code",
   "execution_count": null,
   "metadata": {},
   "outputs": [],
   "source": [
    "df = df[VERSION * 1000:min((VERSION + 1) * 1000, len(df))]"
   ]
  },
  {
   "cell_type": "code",
   "execution_count": null,
   "metadata": {},
   "outputs": [],
   "source": [
    "prompt = pd.read_csv(\"../new_train_prompts.csv\", encoding=\"ISO-8859-1\")\n",
    "prompt.head(10)"
   ]
  },
  {
   "cell_type": "code",
   "execution_count": null,
   "metadata": {},
   "outputs": [],
   "source": [
    "df[\"prompt_name\"].value_counts()"
   ]
  },
  {
   "cell_type": "code",
   "execution_count": null,
   "metadata": {},
   "outputs": [],
   "source": [
    "os.environ[\"OPENAI_API_KEY\"] = \"\"\n",
    "client = OpenAI()"
   ]
  },
  {
   "cell_type": "code",
   "execution_count": null,
   "metadata": {},
   "outputs": [],
   "source": [
    "file_name = f\"lzc_dataset_0117_{VERSION}.csv\"\n",
    "\n",
    "if os.path.exists(file_name):\n",
    "    print(f\"The file {file_name} exists.\")\n",
    "    save_df = pd.read_csv(file_name)\n",
    "else:\n",
    "    print(f\"The file {file_name} does not exist.\")\n",
    "    save_df = pd.DataFrame(columns=['text', 'label', 'prompt_name', 'type'])\n",
    "    save_df.to_csv(f\"lzc_dataset_0117_{VERSION}.csv\", index=False)"
   ]
  },
  {
   "cell_type": "code",
   "execution_count": null,
   "metadata": {},
   "outputs": [],
   "source": [
    "def generate_dataset(model_input, idx):\n",
    "    messages = [\n",
    "        {\n",
    "            \"role\": \"user\",\n",
    "            \"content\": model_input\n",
    "        }\n",
    "    ]\n",
    "\n",
    "    random_temperature = random.uniform(0.5, 1.0)\n",
    "    random_topp = random.uniform(0.5, 1.0)\n",
    "\n",
    "    flag = False\n",
    "\n",
    "    for attempt in range(5):\n",
    "        try:\n",
    "            response = client.chat.completions.create(\n",
    "                model=\"gpt-3.5-turbo-1106\",\n",
    "                messages=messages,\n",
    "                max_tokens=1024,\n",
    "                frequency_penalty=1.12,\n",
    "                temperature=random_temperature,\n",
    "                top_p=random_topp\n",
    "            )\n",
    "            return_text = response.choices[0].message.content\n",
    "            flag = True\n",
    "            print(f\"Generated Successfully On {idx}!!!\")\n",
    "            return return_text\n",
    "            break\n",
    "        except Exception as e:\n",
    "            print(f\"Attempt {attempt + 1} on {idx} failed: {e}\")\n",
    "            time.sleep(1)\n",
    "\n",
    "    if flag == False:\n",
    "        print(f\"version {VERSION} idx {idx} failed at last\")\n",
    "        return None"
   ]
  },
  {
   "cell_type": "code",
   "execution_count": null,
   "metadata": {},
   "outputs": [],
   "source": [
    "numbers_set = set()"
   ]
  },
  {
   "cell_type": "code",
   "execution_count": null,
   "metadata": {},
   "outputs": [],
   "source": [
    "for idx, row in tqdm(df.iterrows(), total=len(df)):\n",
    "\n",
    "    if idx in numbers_set:\n",
    "        continue\n",
    "    else:\n",
    "        numbers_set.add(idx)\n",
    "\n",
    "    human_text = row[\"text\"]\n",
    "    prompt_name = row[\"prompt_name\"]\n",
    "\n",
    "    model_input1 = \"The following is a human-written article. Now, please go through the following text, optimizing sentence structures, correcting grammatical errors, while ensuring that the meaning of the article remains unchanged. Just return the modified article.\\n\" + \"article: \" + human_text\n",
    "\n",
    "    model_input2 = \"The following is a human-written article. Now, please rewrite this article in your writing style, also optimize sentence structures and correct grammatical errors. You must ensure that the meaning of the article remains unchanged. Just return the modified article.\\n\" + \"article: \" + human_text\n",
    "\n",
    "    model_input3 = \"The following is a human-written article. Now, please rewrite this article in your writing style. You must ensure that the meaning of the article remains unchanged. Just return the modified article.\\n\" + \"article: \" + human_text\n",
    "\n",
    "    for i in range(1):\n",
    "        model_output = generate_dataset(model_input=model_input1, idx=idx)\n",
    "\n",
    "        new_row = pd.DataFrame({\n",
    "            \"text\": [model_output],\n",
    "            \"label\": [1],\n",
    "            \"prompt_name\": [prompt_name],\n",
    "            \"type\": [\"auto-generated\"]\n",
    "        })\n",
    "        save_df = pd.concat([save_df, new_row], ignore_index=True)\n",
    "        save_df.to_csv(f\"lzc_dataset_0117_{VERSION}.csv\", index=False)\n",
    "\n",
    "    for i in range(1):\n",
    "        model_output = generate_dataset(model_input=model_input2, idx=idx)\n",
    "\n",
    "        new_row = pd.DataFrame({\n",
    "            \"text\": [model_output],\n",
    "            \"label\": [1],\n",
    "            \"prompt_name\": [prompt_name],\n",
    "            \"type\": [\"auto-generated\"]\n",
    "        })\n",
    "        save_df = pd.concat([save_df, new_row], ignore_index=True)\n",
    "        save_df.to_csv(f\"lzc_dataset_0117_{VERSION}.csv\", index=False)\n",
    "\n",
    "    for i in range(1):\n",
    "        model_output = generate_dataset(model_input=model_input3, idx=idx)\n",
    "\n",
    "        new_row = pd.DataFrame({\n",
    "            \"text\": [model_output],\n",
    "            \"label\": [1],\n",
    "            \"prompt_name\": [prompt_name],\n",
    "            \"type\": [\"auto-generated\"]\n",
    "        })\n",
    "        save_df = pd.concat([save_df, new_row], ignore_index=True)\n",
    "        save_df.to_csv(f\"lzc_dataset_0117_{VERSION}.csv\", index=False)"
   ]
  },
  {
   "cell_type": "code",
   "execution_count": null,
   "metadata": {},
   "outputs": [],
   "source": [
    "save_df = pd.read_csv(f\"lzc_dataset_0117_{VERSION}.csv\")\n",
    "save_df.head()"
   ]
  }
 ],
 "metadata": {
  "kernelspec": {
   "display_name": "base",
   "language": "python",
   "name": "python3"
  },
  "language_info": {
   "codemirror_mode": {
    "name": "ipython",
    "version": 3
   },
   "file_extension": ".py",
   "mimetype": "text/x-python",
   "name": "python",
   "nbconvert_exporter": "python",
   "pygments_lexer": "ipython3",
   "version": "3.10.9"
  }
 },
 "nbformat": 4,
 "nbformat_minor": 2
}
