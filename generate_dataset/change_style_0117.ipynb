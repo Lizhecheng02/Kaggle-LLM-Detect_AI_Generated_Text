{
 "cells": [
  {
   "cell_type": "code",
   "execution_count": 1,
   "metadata": {},
   "outputs": [],
   "source": [
    "import pandas as pd\n",
    "import matplotlib.pyplot as plt\n",
    "from openai import OpenAI\n",
    "import os\n",
    "import random\n",
    "from tqdm import tqdm\n",
    "import time"
   ]
  },
  {
   "cell_type": "code",
   "execution_count": 2,
   "metadata": {},
   "outputs": [],
   "source": [
    "VERSION = 0\n",
    "NUMS = 1"
   ]
  },
  {
   "cell_type": "code",
   "execution_count": 3,
   "metadata": {},
   "outputs": [
    {
     "data": {
      "text/html": [
       "<div>\n",
       "<style scoped>\n",
       "    .dataframe tbody tr th:only-of-type {\n",
       "        vertical-align: middle;\n",
       "    }\n",
       "\n",
       "    .dataframe tbody tr th {\n",
       "        vertical-align: top;\n",
       "    }\n",
       "\n",
       "    .dataframe thead th {\n",
       "        text-align: right;\n",
       "    }\n",
       "</style>\n",
       "<table border=\"1\" class=\"dataframe\">\n",
       "  <thead>\n",
       "    <tr style=\"text-align: right;\">\n",
       "      <th></th>\n",
       "      <th>text</th>\n",
       "      <th>label</th>\n",
       "      <th>prompt_name</th>\n",
       "      <th>source</th>\n",
       "      <th>RDizzl3_seven</th>\n",
       "      <th>model</th>\n",
       "    </tr>\n",
       "  </thead>\n",
       "  <tbody>\n",
       "    <tr>\n",
       "      <th>0</th>\n",
       "      <td>Phones\\n\\nModern humans today are always on th...</td>\n",
       "      <td>0</td>\n",
       "      <td>Phones and driving</td>\n",
       "      <td>persuade_corpus</td>\n",
       "      <td>False</td>\n",
       "      <td>human</td>\n",
       "    </tr>\n",
       "    <tr>\n",
       "      <th>1</th>\n",
       "      <td>This essay will explain if drivers should or s...</td>\n",
       "      <td>0</td>\n",
       "      <td>Phones and driving</td>\n",
       "      <td>persuade_corpus</td>\n",
       "      <td>False</td>\n",
       "      <td>human</td>\n",
       "    </tr>\n",
       "    <tr>\n",
       "      <th>2</th>\n",
       "      <td>Driving while the use of cellular devices\\n\\nT...</td>\n",
       "      <td>0</td>\n",
       "      <td>Phones and driving</td>\n",
       "      <td>persuade_corpus</td>\n",
       "      <td>False</td>\n",
       "      <td>human</td>\n",
       "    </tr>\n",
       "    <tr>\n",
       "      <th>3</th>\n",
       "      <td>Phones &amp; Driving\\n\\nDrivers should not be able...</td>\n",
       "      <td>0</td>\n",
       "      <td>Phones and driving</td>\n",
       "      <td>persuade_corpus</td>\n",
       "      <td>False</td>\n",
       "      <td>human</td>\n",
       "    </tr>\n",
       "    <tr>\n",
       "      <th>4</th>\n",
       "      <td>Cell Phone Operation While Driving\\n\\nThe abil...</td>\n",
       "      <td>0</td>\n",
       "      <td>Phones and driving</td>\n",
       "      <td>persuade_corpus</td>\n",
       "      <td>False</td>\n",
       "      <td>human</td>\n",
       "    </tr>\n",
       "  </tbody>\n",
       "</table>\n",
       "</div>"
      ],
      "text/plain": [
       "                                                text  label  \\\n",
       "0  Phones\\n\\nModern humans today are always on th...      0   \n",
       "1  This essay will explain if drivers should or s...      0   \n",
       "2  Driving while the use of cellular devices\\n\\nT...      0   \n",
       "3  Phones & Driving\\n\\nDrivers should not be able...      0   \n",
       "4  Cell Phone Operation While Driving\\n\\nThe abil...      0   \n",
       "\n",
       "          prompt_name           source  RDizzl3_seven  model  \n",
       "0  Phones and driving  persuade_corpus          False  human  \n",
       "1  Phones and driving  persuade_corpus          False  human  \n",
       "2  Phones and driving  persuade_corpus          False  human  \n",
       "3  Phones and driving  persuade_corpus          False  human  \n",
       "4  Phones and driving  persuade_corpus          False  human  "
      ]
     },
     "execution_count": 3,
     "metadata": {},
     "output_type": "execute_result"
    }
   ],
   "source": [
    "df = pd.read_csv(\"../train_v3_drcat_02.csv\")\n",
    "df.head()"
   ]
  },
  {
   "cell_type": "code",
   "execution_count": 4,
   "metadata": {},
   "outputs": [
    {
     "data": {
      "text/plain": [
       "(14249, 6)"
      ]
     },
     "execution_count": 4,
     "metadata": {},
     "output_type": "execute_result"
    }
   ],
   "source": [
    "dependent_prompt_names = ['Car-free cities', '\"A Cowboy Who Rode the Waves\"', 'Exploring Venus',\n",
    "                          'Facial action coding system', 'The Face on Mars', 'Driverless cars', 'Does the electoral college work?']\n",
    "df = df[(df[\"label\"] == 0) & (df[\"prompt_name\"].isin(dependent_prompt_names))]\n",
    "df.shape"
   ]
  },
  {
   "cell_type": "code",
   "execution_count": 5,
   "metadata": {},
   "outputs": [
    {
     "data": {
      "text/html": [
       "<div>\n",
       "<style scoped>\n",
       "    .dataframe tbody tr th:only-of-type {\n",
       "        vertical-align: middle;\n",
       "    }\n",
       "\n",
       "    .dataframe tbody tr th {\n",
       "        vertical-align: top;\n",
       "    }\n",
       "\n",
       "    .dataframe thead th {\n",
       "        text-align: right;\n",
       "    }\n",
       "</style>\n",
       "<table border=\"1\" class=\"dataframe\">\n",
       "  <thead>\n",
       "    <tr style=\"text-align: right;\">\n",
       "      <th></th>\n",
       "      <th>text</th>\n",
       "      <th>label</th>\n",
       "      <th>prompt_name</th>\n",
       "      <th>source</th>\n",
       "      <th>RDizzl3_seven</th>\n",
       "      <th>model</th>\n",
       "    </tr>\n",
       "  </thead>\n",
       "  <tbody>\n",
       "    <tr>\n",
       "      <th>1168</th>\n",
       "      <td>Cars have been around for awhile and they have...</td>\n",
       "      <td>0</td>\n",
       "      <td>Car-free cities</td>\n",
       "      <td>persuade_corpus</td>\n",
       "      <td>True</td>\n",
       "      <td>human</td>\n",
       "    </tr>\n",
       "    <tr>\n",
       "      <th>1169</th>\n",
       "      <td>Have you ever thought what it would be like no...</td>\n",
       "      <td>0</td>\n",
       "      <td>Car-free cities</td>\n",
       "      <td>persuade_corpus</td>\n",
       "      <td>True</td>\n",
       "      <td>human</td>\n",
       "    </tr>\n",
       "    <tr>\n",
       "      <th>1170</th>\n",
       "      <td>What you are about to read is going to give yo...</td>\n",
       "      <td>0</td>\n",
       "      <td>Car-free cities</td>\n",
       "      <td>persuade_corpus</td>\n",
       "      <td>True</td>\n",
       "      <td>human</td>\n",
       "    </tr>\n",
       "    <tr>\n",
       "      <th>1171</th>\n",
       "      <td>cars have many flaws nd and in this day and ag...</td>\n",
       "      <td>0</td>\n",
       "      <td>Car-free cities</td>\n",
       "      <td>persuade_corpus</td>\n",
       "      <td>True</td>\n",
       "      <td>human</td>\n",
       "    </tr>\n",
       "    <tr>\n",
       "      <th>1172</th>\n",
       "      <td>There are many advantages of limiting car usag...</td>\n",
       "      <td>0</td>\n",
       "      <td>Car-free cities</td>\n",
       "      <td>persuade_corpus</td>\n",
       "      <td>True</td>\n",
       "      <td>human</td>\n",
       "    </tr>\n",
       "  </tbody>\n",
       "</table>\n",
       "</div>"
      ],
      "text/plain": [
       "                                                   text  label  \\\n",
       "1168  Cars have been around for awhile and they have...      0   \n",
       "1169  Have you ever thought what it would be like no...      0   \n",
       "1170  What you are about to read is going to give yo...      0   \n",
       "1171  cars have many flaws nd and in this day and ag...      0   \n",
       "1172  There are many advantages of limiting car usag...      0   \n",
       "\n",
       "          prompt_name           source  RDizzl3_seven  model  \n",
       "1168  Car-free cities  persuade_corpus           True  human  \n",
       "1169  Car-free cities  persuade_corpus           True  human  \n",
       "1170  Car-free cities  persuade_corpus           True  human  \n",
       "1171  Car-free cities  persuade_corpus           True  human  \n",
       "1172  Car-free cities  persuade_corpus           True  human  "
      ]
     },
     "execution_count": 5,
     "metadata": {},
     "output_type": "execute_result"
    }
   ],
   "source": [
    "df.head()"
   ]
  },
  {
   "cell_type": "code",
   "execution_count": 6,
   "metadata": {},
   "outputs": [],
   "source": [
    "df = df[VERSION * 1000:min((VERSION + 1) * 1000, len(df))]"
   ]
  },
  {
   "cell_type": "code",
   "execution_count": 7,
   "metadata": {},
   "outputs": [
    {
     "data": {
      "text/html": [
       "<div>\n",
       "<style scoped>\n",
       "    .dataframe tbody tr th:only-of-type {\n",
       "        vertical-align: middle;\n",
       "    }\n",
       "\n",
       "    .dataframe tbody tr th {\n",
       "        vertical-align: top;\n",
       "    }\n",
       "\n",
       "    .dataframe thead th {\n",
       "        text-align: right;\n",
       "    }\n",
       "</style>\n",
       "<table border=\"1\" class=\"dataframe\">\n",
       "  <thead>\n",
       "    <tr style=\"text-align: right;\">\n",
       "      <th></th>\n",
       "      <th>prompt_id</th>\n",
       "      <th>prompt_name</th>\n",
       "      <th>instructions</th>\n",
       "      <th>source_text</th>\n",
       "    </tr>\n",
       "  </thead>\n",
       "  <tbody>\n",
       "    <tr>\n",
       "      <th>0</th>\n",
       "      <td>0</td>\n",
       "      <td>Car-free cities</td>\n",
       "      <td>Write an explanatory essay to inform fellow ci...</td>\n",
       "      <td># In German Suburb, Life Goes On Without Cars ...</td>\n",
       "    </tr>\n",
       "    <tr>\n",
       "      <th>1</th>\n",
       "      <td>1</td>\n",
       "      <td>Does the electoral college work?</td>\n",
       "      <td>Write a letter to your state senator in which ...</td>\n",
       "      <td># What Is the Electoral College? by the Office...</td>\n",
       "    </tr>\n",
       "    <tr>\n",
       "      <th>2</th>\n",
       "      <td>2</td>\n",
       "      <td>Exploring Venus</td>\n",
       "      <td>In \"The Challenge of Exploring Venus,\" the aut...</td>\n",
       "      <td># Unmasking the Face on Mars by Dr. Tony Phill...</td>\n",
       "    </tr>\n",
       "    <tr>\n",
       "      <th>3</th>\n",
       "      <td>3</td>\n",
       "      <td>The Face on Mars</td>\n",
       "      <td>You have read the article 'Unmasking the Face ...</td>\n",
       "      <td>NaN</td>\n",
       "    </tr>\n",
       "    <tr>\n",
       "      <th>4</th>\n",
       "      <td>4</td>\n",
       "      <td>Facial action coding system</td>\n",
       "      <td>In the article \"Making Mona Lisa Smile,\" the a...</td>\n",
       "      <td>1. **FACS Definition**:\\n   - The Facial Actio...</td>\n",
       "    </tr>\n",
       "    <tr>\n",
       "      <th>5</th>\n",
       "      <td>5</td>\n",
       "      <td>Driverless cars</td>\n",
       "      <td>In the article ¡°Driverless Cars are Coming,¡±...</td>\n",
       "      <td># Autonomous Vehicles: Evolution, Challenges, ...</td>\n",
       "    </tr>\n",
       "    <tr>\n",
       "      <th>6</th>\n",
       "      <td>6</td>\n",
       "      <td>\"A Cowboy Who Rode the Waves\"</td>\n",
       "      <td>You have just read the article, 'A Cowboy Who ...</td>\n",
       "      <td># Seagoing Cowboys: A Historical Overview\\n\\n1...</td>\n",
       "    </tr>\n",
       "  </tbody>\n",
       "</table>\n",
       "</div>"
      ],
      "text/plain": [
       "   prompt_id                       prompt_name  \\\n",
       "0          0                   Car-free cities   \n",
       "1          1  Does the electoral college work?   \n",
       "2          2                   Exploring Venus   \n",
       "3          3                  The Face on Mars   \n",
       "4          4       Facial action coding system   \n",
       "5          5                   Driverless cars   \n",
       "6          6     \"A Cowboy Who Rode the Waves\"   \n",
       "\n",
       "                                        instructions  \\\n",
       "0  Write an explanatory essay to inform fellow ci...   \n",
       "1  Write a letter to your state senator in which ...   \n",
       "2  In \"The Challenge of Exploring Venus,\" the aut...   \n",
       "3  You have read the article 'Unmasking the Face ...   \n",
       "4  In the article \"Making Mona Lisa Smile,\" the a...   \n",
       "5  In the article ¡°Driverless Cars are Coming,¡±...   \n",
       "6  You have just read the article, 'A Cowboy Who ...   \n",
       "\n",
       "                                         source_text  \n",
       "0  # In German Suburb, Life Goes On Without Cars ...  \n",
       "1  # What Is the Electoral College? by the Office...  \n",
       "2  # Unmasking the Face on Mars by Dr. Tony Phill...  \n",
       "3                                                NaN  \n",
       "4  1. **FACS Definition**:\\n   - The Facial Actio...  \n",
       "5  # Autonomous Vehicles: Evolution, Challenges, ...  \n",
       "6  # Seagoing Cowboys: A Historical Overview\\n\\n1...  "
      ]
     },
     "execution_count": 7,
     "metadata": {},
     "output_type": "execute_result"
    }
   ],
   "source": [
    "prompt = pd.read_csv(\"../new_train_prompts.csv\", encoding=\"ISO-8859-1\")\n",
    "prompt.head(10)"
   ]
  },
  {
   "cell_type": "code",
   "execution_count": 8,
   "metadata": {},
   "outputs": [
    {
     "data": {
      "text/plain": [
       "prompt_name\n",
       "Car-free cities    1000\n",
       "Name: count, dtype: int64"
      ]
     },
     "execution_count": 8,
     "metadata": {},
     "output_type": "execute_result"
    }
   ],
   "source": [
    "df[\"prompt_name\"].value_counts()"
   ]
  },
  {
   "cell_type": "code",
   "execution_count": 9,
   "metadata": {},
   "outputs": [],
   "source": [
    "os.environ[\"OPENAI_API_KEY\"] = \"\"\n",
    "client = OpenAI()"
   ]
  },
  {
   "cell_type": "code",
   "execution_count": 10,
   "metadata": {},
   "outputs": [
    {
     "name": "stdout",
     "output_type": "stream",
     "text": [
      "The file lzc_dataset_0117_0.csv does not exist.\n"
     ]
    }
   ],
   "source": [
    "file_name = f\"lzc_dataset_0117_{VERSION}.csv\"\n",
    "\n",
    "if os.path.exists(file_name):\n",
    "    print(f\"The file {file_name} exists.\")\n",
    "    save_df = pd.read_csv(file_name)\n",
    "else:\n",
    "    print(f\"The file {file_name} does not exist.\")\n",
    "    save_df = pd.DataFrame(columns=['text', 'label', 'prompt_name', 'type'])\n",
    "    save_df.to_csv(f\"lzc_dataset_0117_{VERSION}.csv\", index=False)"
   ]
  },
  {
   "cell_type": "code",
   "execution_count": 11,
   "metadata": {},
   "outputs": [],
   "source": [
    "def generate_dataset(model_input, idx):\n",
    "    messages = [\n",
    "        {\n",
    "            \"role\": \"user\",\n",
    "            \"content\": model_input\n",
    "        }\n",
    "    ]\n",
    "\n",
    "    random_temperature = random.random()\n",
    "    random_topp = random.uniform(0.5, 1.0)\n",
    "\n",
    "    flag = False\n",
    "\n",
    "    for attempt in range(5):\n",
    "        try:\n",
    "            response = client.chat.completions.create(\n",
    "                model=\"gpt-3.5-turbo-1106\",\n",
    "                messages=messages,\n",
    "                max_tokens=1024,\n",
    "                frequency_penalty=1.12,\n",
    "                temperature=random_temperature,\n",
    "                top_p=random_topp\n",
    "            )\n",
    "            return_text = response.choices[0].message.content\n",
    "            flag = True\n",
    "            print(f\"Generated Successfully On {idx}!!!\")\n",
    "            return return_text\n",
    "            break\n",
    "        except Exception as e:\n",
    "            print(f\"Attempt {attempt + 1} on {idx} failed: {e}\")\n",
    "            time.sleep(1)\n",
    "\n",
    "    if flag == False:\n",
    "        print(f\"version {VERSION} idx {idx} failed at last\")\n",
    "        return None"
   ]
  },
  {
   "cell_type": "code",
   "execution_count": 12,
   "metadata": {},
   "outputs": [],
   "source": [
    "numbers_set = set()"
   ]
  },
  {
   "cell_type": "code",
   "execution_count": 13,
   "metadata": {},
   "outputs": [
    {
     "name": "stderr",
     "output_type": "stream",
     "text": [
      "  0%|          | 0/1000 [00:00<?, ?it/s]"
     ]
    },
    {
     "name": "stdout",
     "output_type": "stream",
     "text": [
      "Generated Successfully On 1168!!!\n",
      "Generated Successfully On 1168!!!\n"
     ]
    },
    {
     "name": "stderr",
     "output_type": "stream",
     "text": [
      "  0%|          | 1/1000 [00:30<8:23:57, 30.27s/it]"
     ]
    },
    {
     "name": "stdout",
     "output_type": "stream",
     "text": [
      "Generated Successfully On 1168!!!\n",
      "Generated Successfully On 1169!!!\n",
      "Generated Successfully On 1169!!!\n"
     ]
    },
    {
     "name": "stderr",
     "output_type": "stream",
     "text": [
      "  0%|          | 2/1000 [00:45<6:00:31, 21.67s/it]"
     ]
    },
    {
     "name": "stdout",
     "output_type": "stream",
     "text": [
      "Generated Successfully On 1169!!!\n",
      "Generated Successfully On 1170!!!\n",
      "Generated Successfully On 1170!!!\n"
     ]
    },
    {
     "name": "stderr",
     "output_type": "stream",
     "text": [
      "  0%|          | 3/1000 [01:12<6:37:16, 23.91s/it]"
     ]
    },
    {
     "name": "stdout",
     "output_type": "stream",
     "text": [
      "Generated Successfully On 1170!!!\n",
      "Generated Successfully On 1171!!!\n",
      "Generated Successfully On 1171!!!\n"
     ]
    },
    {
     "name": "stderr",
     "output_type": "stream",
     "text": [
      "  0%|          | 4/1000 [01:29<5:51:49, 21.19s/it]"
     ]
    },
    {
     "name": "stdout",
     "output_type": "stream",
     "text": [
      "Generated Successfully On 1171!!!\n",
      "Generated Successfully On 1172!!!\n",
      "Generated Successfully On 1172!!!\n"
     ]
    },
    {
     "name": "stderr",
     "output_type": "stream",
     "text": [
      "  0%|          | 5/1000 [01:54<6:14:47, 22.60s/it]"
     ]
    },
    {
     "name": "stdout",
     "output_type": "stream",
     "text": [
      "Generated Successfully On 1172!!!\n",
      "Generated Successfully On 1173!!!\n",
      "Generated Successfully On 1173!!!\n"
     ]
    },
    {
     "name": "stderr",
     "output_type": "stream",
     "text": [
      "  1%|          | 6/1000 [02:31<7:36:06, 27.53s/it]"
     ]
    },
    {
     "name": "stdout",
     "output_type": "stream",
     "text": [
      "Generated Successfully On 1173!!!\n",
      "Generated Successfully On 1174!!!\n",
      "Generated Successfully On 1174!!!\n"
     ]
    },
    {
     "name": "stderr",
     "output_type": "stream",
     "text": [
      "  1%|          | 7/1000 [02:58<7:32:24, 27.34s/it]"
     ]
    },
    {
     "name": "stdout",
     "output_type": "stream",
     "text": [
      "Generated Successfully On 1174!!!\n",
      "Generated Successfully On 1175!!!\n",
      "Generated Successfully On 1175!!!\n"
     ]
    },
    {
     "name": "stderr",
     "output_type": "stream",
     "text": [
      "  1%|          | 8/1000 [03:30<7:53:03, 28.61s/it]"
     ]
    },
    {
     "name": "stdout",
     "output_type": "stream",
     "text": [
      "Generated Successfully On 1175!!!\n",
      "Generated Successfully On 1176!!!\n",
      "Generated Successfully On 1176!!!\n"
     ]
    },
    {
     "name": "stderr",
     "output_type": "stream",
     "text": [
      "  1%|          | 9/1000 [04:11<8:58:26, 32.60s/it]"
     ]
    },
    {
     "name": "stdout",
     "output_type": "stream",
     "text": [
      "Generated Successfully On 1176!!!\n",
      "Generated Successfully On 1177!!!\n",
      "Generated Successfully On 1177!!!\n"
     ]
    },
    {
     "name": "stderr",
     "output_type": "stream",
     "text": [
      "  1%|          | 10/1000 [04:48<9:22:53, 34.11s/it]"
     ]
    },
    {
     "name": "stdout",
     "output_type": "stream",
     "text": [
      "Generated Successfully On 1177!!!\n",
      "Generated Successfully On 1178!!!\n",
      "Generated Successfully On 1178!!!\n"
     ]
    },
    {
     "name": "stderr",
     "output_type": "stream",
     "text": [
      "  1%|          | 11/1000 [05:18<9:01:09, 32.83s/it]"
     ]
    },
    {
     "name": "stdout",
     "output_type": "stream",
     "text": [
      "Generated Successfully On 1178!!!\n",
      "Generated Successfully On 1179!!!\n",
      "Generated Successfully On 1179!!!\n"
     ]
    },
    {
     "name": "stderr",
     "output_type": "stream",
     "text": [
      "  1%|          | 12/1000 [05:45<8:29:17, 30.93s/it]"
     ]
    },
    {
     "name": "stdout",
     "output_type": "stream",
     "text": [
      "Generated Successfully On 1179!!!\n",
      "Generated Successfully On 1180!!!\n",
      "Generated Successfully On 1180!!!\n"
     ]
    },
    {
     "name": "stderr",
     "output_type": "stream",
     "text": [
      "  1%|▏         | 13/1000 [06:31<9:44:07, 35.51s/it]"
     ]
    },
    {
     "name": "stdout",
     "output_type": "stream",
     "text": [
      "Generated Successfully On 1180!!!\n",
      "Generated Successfully On 1181!!!\n",
      "Generated Successfully On 1181!!!\n"
     ]
    },
    {
     "name": "stderr",
     "output_type": "stream",
     "text": [
      "  1%|▏         | 14/1000 [07:05<9:35:27, 35.02s/it]"
     ]
    },
    {
     "name": "stdout",
     "output_type": "stream",
     "text": [
      "Generated Successfully On 1181!!!\n",
      "Generated Successfully On 1182!!!\n",
      "Generated Successfully On 1182!!!\n"
     ]
    },
    {
     "name": "stderr",
     "output_type": "stream",
     "text": [
      "  2%|▏         | 15/1000 [07:32<8:57:10, 32.72s/it]"
     ]
    },
    {
     "name": "stdout",
     "output_type": "stream",
     "text": [
      "Generated Successfully On 1182!!!\n",
      "Generated Successfully On 1183!!!\n",
      "Generated Successfully On 1183!!!\n"
     ]
    },
    {
     "name": "stderr",
     "output_type": "stream",
     "text": [
      "  2%|▏         | 16/1000 [07:55<8:08:26, 29.78s/it]"
     ]
    },
    {
     "name": "stdout",
     "output_type": "stream",
     "text": [
      "Generated Successfully On 1183!!!\n",
      "Generated Successfully On 1184!!!\n",
      "Generated Successfully On 1184!!!\n"
     ]
    },
    {
     "name": "stderr",
     "output_type": "stream",
     "text": [
      "  2%|▏         | 17/1000 [08:25<8:07:36, 29.76s/it]"
     ]
    },
    {
     "name": "stdout",
     "output_type": "stream",
     "text": [
      "Generated Successfully On 1184!!!\n",
      "Generated Successfully On 1185!!!\n",
      "Generated Successfully On 1185!!!\n"
     ]
    },
    {
     "name": "stderr",
     "output_type": "stream",
     "text": [
      "  2%|▏         | 18/1000 [08:47<7:28:30, 27.40s/it]"
     ]
    },
    {
     "name": "stdout",
     "output_type": "stream",
     "text": [
      "Generated Successfully On 1185!!!\n",
      "Generated Successfully On 1186!!!\n",
      "Generated Successfully On 1186!!!\n"
     ]
    },
    {
     "name": "stderr",
     "output_type": "stream",
     "text": [
      "  2%|▏         | 19/1000 [09:12<7:15:50, 26.66s/it]"
     ]
    },
    {
     "name": "stdout",
     "output_type": "stream",
     "text": [
      "Generated Successfully On 1186!!!\n",
      "Generated Successfully On 1187!!!\n",
      "Generated Successfully On 1187!!!\n"
     ]
    },
    {
     "name": "stderr",
     "output_type": "stream",
     "text": [
      "  2%|▏         | 20/1000 [09:29<6:27:12, 23.71s/it]"
     ]
    },
    {
     "name": "stdout",
     "output_type": "stream",
     "text": [
      "Generated Successfully On 1187!!!\n",
      "Generated Successfully On 1188!!!\n",
      "Generated Successfully On 1188!!!\n"
     ]
    },
    {
     "name": "stderr",
     "output_type": "stream",
     "text": [
      "  2%|▏         | 21/1000 [10:01<7:07:32, 26.20s/it]"
     ]
    },
    {
     "name": "stdout",
     "output_type": "stream",
     "text": [
      "Generated Successfully On 1188!!!\n",
      "Generated Successfully On 1189!!!\n",
      "Generated Successfully On 1189!!!\n"
     ]
    },
    {
     "name": "stderr",
     "output_type": "stream",
     "text": [
      "  2%|▏         | 22/1000 [10:41<8:16:02, 30.43s/it]"
     ]
    },
    {
     "name": "stdout",
     "output_type": "stream",
     "text": [
      "Generated Successfully On 1189!!!\n",
      "Generated Successfully On 1190!!!\n",
      "Generated Successfully On 1190!!!\n"
     ]
    },
    {
     "name": "stderr",
     "output_type": "stream",
     "text": [
      "  2%|▏         | 23/1000 [11:11<8:15:09, 30.41s/it]"
     ]
    },
    {
     "name": "stdout",
     "output_type": "stream",
     "text": [
      "Generated Successfully On 1190!!!\n",
      "Generated Successfully On 1191!!!\n",
      "Generated Successfully On 1191!!!\n"
     ]
    },
    {
     "name": "stderr",
     "output_type": "stream",
     "text": [
      "  2%|▏         | 24/1000 [11:38<7:57:36, 29.36s/it]"
     ]
    },
    {
     "name": "stdout",
     "output_type": "stream",
     "text": [
      "Generated Successfully On 1191!!!\n",
      "Generated Successfully On 1192!!!\n",
      "Generated Successfully On 1192!!!\n"
     ]
    },
    {
     "name": "stderr",
     "output_type": "stream",
     "text": [
      "  2%|▎         | 25/1000 [12:03<7:34:11, 27.95s/it]"
     ]
    },
    {
     "name": "stdout",
     "output_type": "stream",
     "text": [
      "Generated Successfully On 1192!!!\n",
      "Generated Successfully On 1193!!!\n",
      "Generated Successfully On 1193!!!\n"
     ]
    },
    {
     "name": "stderr",
     "output_type": "stream",
     "text": [
      "  3%|▎         | 26/1000 [12:31<7:32:53, 27.90s/it]"
     ]
    },
    {
     "name": "stdout",
     "output_type": "stream",
     "text": [
      "Generated Successfully On 1193!!!\n",
      "Generated Successfully On 1194!!!\n",
      "Generated Successfully On 1194!!!\n"
     ]
    },
    {
     "name": "stderr",
     "output_type": "stream",
     "text": [
      "  3%|▎         | 27/1000 [13:05<8:06:15, 29.98s/it]"
     ]
    },
    {
     "name": "stdout",
     "output_type": "stream",
     "text": [
      "Generated Successfully On 1194!!!\n",
      "Generated Successfully On 1195!!!\n",
      "Generated Successfully On 1195!!!\n"
     ]
    },
    {
     "name": "stderr",
     "output_type": "stream",
     "text": [
      "  3%|▎         | 28/1000 [13:39<8:24:40, 31.15s/it]"
     ]
    },
    {
     "name": "stdout",
     "output_type": "stream",
     "text": [
      "Generated Successfully On 1195!!!\n",
      "Generated Successfully On 1196!!!\n",
      "Generated Successfully On 1196!!!\n"
     ]
    },
    {
     "name": "stderr",
     "output_type": "stream",
     "text": [
      "  3%|▎         | 29/1000 [14:04<7:54:05, 29.29s/it]"
     ]
    },
    {
     "name": "stdout",
     "output_type": "stream",
     "text": [
      "Generated Successfully On 1196!!!\n",
      "Generated Successfully On 1197!!!\n",
      "Generated Successfully On 1197!!!\n"
     ]
    },
    {
     "name": "stderr",
     "output_type": "stream",
     "text": [
      "  3%|▎         | 30/1000 [14:44<8:44:59, 32.47s/it]"
     ]
    },
    {
     "name": "stdout",
     "output_type": "stream",
     "text": [
      "Generated Successfully On 1197!!!\n",
      "Generated Successfully On 1198!!!\n",
      "Generated Successfully On 1198!!!\n"
     ]
    },
    {
     "name": "stderr",
     "output_type": "stream",
     "text": [
      "  3%|▎         | 31/1000 [15:11<8:17:08, 30.78s/it]"
     ]
    },
    {
     "name": "stdout",
     "output_type": "stream",
     "text": [
      "Generated Successfully On 1198!!!\n",
      "Generated Successfully On 1199!!!\n",
      "Generated Successfully On 1199!!!\n"
     ]
    },
    {
     "name": "stderr",
     "output_type": "stream",
     "text": [
      "  3%|▎         | 32/1000 [15:36<7:46:41, 28.93s/it]"
     ]
    },
    {
     "name": "stdout",
     "output_type": "stream",
     "text": [
      "Generated Successfully On 1199!!!\n",
      "Generated Successfully On 1200!!!\n",
      "Generated Successfully On 1200!!!\n"
     ]
    },
    {
     "name": "stderr",
     "output_type": "stream",
     "text": [
      "  3%|▎         | 33/1000 [15:55<6:59:03, 26.00s/it]"
     ]
    },
    {
     "name": "stdout",
     "output_type": "stream",
     "text": [
      "Generated Successfully On 1200!!!\n",
      "Generated Successfully On 1201!!!\n",
      "Generated Successfully On 1201!!!\n"
     ]
    },
    {
     "name": "stderr",
     "output_type": "stream",
     "text": [
      "  3%|▎         | 34/1000 [16:27<7:27:07, 27.77s/it]"
     ]
    },
    {
     "name": "stdout",
     "output_type": "stream",
     "text": [
      "Generated Successfully On 1201!!!\n",
      "Generated Successfully On 1202!!!\n",
      "Generated Successfully On 1202!!!\n"
     ]
    },
    {
     "name": "stderr",
     "output_type": "stream",
     "text": [
      "  4%|▎         | 35/1000 [17:13<8:56:25, 33.35s/it]"
     ]
    },
    {
     "name": "stdout",
     "output_type": "stream",
     "text": [
      "Generated Successfully On 1202!!!\n",
      "Generated Successfully On 1203!!!\n",
      "Generated Successfully On 1203!!!\n"
     ]
    },
    {
     "name": "stderr",
     "output_type": "stream",
     "text": [
      "  4%|▎         | 36/1000 [17:56<9:43:11, 36.30s/it]"
     ]
    },
    {
     "name": "stdout",
     "output_type": "stream",
     "text": [
      "Generated Successfully On 1203!!!\n",
      "Generated Successfully On 1204!!!\n",
      "Generated Successfully On 1204!!!\n"
     ]
    },
    {
     "name": "stderr",
     "output_type": "stream",
     "text": [
      "  4%|▎         | 37/1000 [18:24<9:00:32, 33.68s/it]"
     ]
    },
    {
     "name": "stdout",
     "output_type": "stream",
     "text": [
      "Generated Successfully On 1204!!!\n",
      "Generated Successfully On 1205!!!\n",
      "Generated Successfully On 1205!!!\n"
     ]
    },
    {
     "name": "stderr",
     "output_type": "stream",
     "text": [
      "  4%|▍         | 38/1000 [18:57<8:56:02, 33.43s/it]"
     ]
    },
    {
     "name": "stdout",
     "output_type": "stream",
     "text": [
      "Generated Successfully On 1205!!!\n",
      "Generated Successfully On 1206!!!\n",
      "Generated Successfully On 1206!!!\n"
     ]
    },
    {
     "name": "stderr",
     "output_type": "stream",
     "text": [
      "  4%|▍         | 39/1000 [19:28<8:43:44, 32.70s/it]"
     ]
    },
    {
     "name": "stdout",
     "output_type": "stream",
     "text": [
      "Generated Successfully On 1206!!!\n",
      "Generated Successfully On 1207!!!\n",
      "Generated Successfully On 1207!!!\n"
     ]
    },
    {
     "name": "stderr",
     "output_type": "stream",
     "text": [
      "  4%|▍         | 40/1000 [20:03<8:56:59, 33.56s/it]"
     ]
    },
    {
     "name": "stdout",
     "output_type": "stream",
     "text": [
      "Generated Successfully On 1207!!!\n",
      "Generated Successfully On 1208!!!\n",
      "Generated Successfully On 1208!!!\n"
     ]
    },
    {
     "name": "stderr",
     "output_type": "stream",
     "text": [
      "  4%|▍         | 41/1000 [20:38<9:02:23, 33.93s/it]"
     ]
    },
    {
     "name": "stdout",
     "output_type": "stream",
     "text": [
      "Generated Successfully On 1208!!!\n",
      "Generated Successfully On 1209!!!\n",
      "Generated Successfully On 1209!!!\n"
     ]
    },
    {
     "name": "stderr",
     "output_type": "stream",
     "text": [
      "  4%|▍         | 42/1000 [21:45<11:37:55, 43.71s/it]"
     ]
    },
    {
     "name": "stdout",
     "output_type": "stream",
     "text": [
      "Generated Successfully On 1209!!!\n",
      "Generated Successfully On 1210!!!\n",
      "Generated Successfully On 1210!!!\n"
     ]
    },
    {
     "name": "stderr",
     "output_type": "stream",
     "text": [
      "  4%|▍         | 43/1000 [22:02<9:31:58, 35.86s/it] "
     ]
    },
    {
     "name": "stdout",
     "output_type": "stream",
     "text": [
      "Generated Successfully On 1210!!!\n",
      "Generated Successfully On 1211!!!\n",
      "Generated Successfully On 1211!!!\n"
     ]
    },
    {
     "name": "stderr",
     "output_type": "stream",
     "text": [
      "  4%|▍         | 44/1000 [22:44<9:59:56, 37.65s/it]"
     ]
    },
    {
     "name": "stdout",
     "output_type": "stream",
     "text": [
      "Generated Successfully On 1211!!!\n",
      "Generated Successfully On 1212!!!\n",
      "Generated Successfully On 1212!!!\n"
     ]
    },
    {
     "name": "stderr",
     "output_type": "stream",
     "text": [
      "  4%|▍         | 45/1000 [23:21<9:56:18, 37.46s/it]"
     ]
    },
    {
     "name": "stdout",
     "output_type": "stream",
     "text": [
      "Generated Successfully On 1212!!!\n",
      "Generated Successfully On 1213!!!\n",
      "Generated Successfully On 1213!!!\n"
     ]
    },
    {
     "name": "stderr",
     "output_type": "stream",
     "text": [
      "  5%|▍         | 46/1000 [23:42<8:36:37, 32.49s/it]"
     ]
    },
    {
     "name": "stdout",
     "output_type": "stream",
     "text": [
      "Generated Successfully On 1213!!!\n",
      "Generated Successfully On 1214!!!\n",
      "Generated Successfully On 1214!!!\n"
     ]
    },
    {
     "name": "stderr",
     "output_type": "stream",
     "text": [
      "  5%|▍         | 47/1000 [24:14<8:35:34, 32.46s/it]"
     ]
    },
    {
     "name": "stdout",
     "output_type": "stream",
     "text": [
      "Generated Successfully On 1214!!!\n",
      "Generated Successfully On 1215!!!\n",
      "Generated Successfully On 1215!!!\n"
     ]
    },
    {
     "name": "stderr",
     "output_type": "stream",
     "text": [
      "  5%|▍         | 48/1000 [24:33<7:29:10, 28.31s/it]"
     ]
    },
    {
     "name": "stdout",
     "output_type": "stream",
     "text": [
      "Generated Successfully On 1215!!!\n",
      "Generated Successfully On 1216!!!\n",
      "Generated Successfully On 1216!!!\n"
     ]
    },
    {
     "name": "stderr",
     "output_type": "stream",
     "text": [
      "  5%|▍         | 49/1000 [25:09<8:05:17, 30.62s/it]"
     ]
    },
    {
     "name": "stdout",
     "output_type": "stream",
     "text": [
      "Generated Successfully On 1216!!!\n",
      "Generated Successfully On 1217!!!\n",
      "Generated Successfully On 1217!!!\n"
     ]
    },
    {
     "name": "stderr",
     "output_type": "stream",
     "text": [
      "  5%|▌         | 50/1000 [25:30<7:21:40, 27.90s/it]"
     ]
    },
    {
     "name": "stdout",
     "output_type": "stream",
     "text": [
      "Generated Successfully On 1217!!!\n",
      "Generated Successfully On 1218!!!\n",
      "Generated Successfully On 1218!!!\n"
     ]
    },
    {
     "name": "stderr",
     "output_type": "stream",
     "text": [
      "  5%|▌         | 51/1000 [25:54<7:02:21, 26.70s/it]"
     ]
    },
    {
     "name": "stdout",
     "output_type": "stream",
     "text": [
      "Generated Successfully On 1218!!!\n",
      "Generated Successfully On 1219!!!\n",
      "Generated Successfully On 1219!!!\n"
     ]
    },
    {
     "name": "stderr",
     "output_type": "stream",
     "text": [
      "  5%|▌         | 52/1000 [26:24<7:16:47, 27.64s/it]"
     ]
    },
    {
     "name": "stdout",
     "output_type": "stream",
     "text": [
      "Generated Successfully On 1219!!!\n",
      "Generated Successfully On 1220!!!\n",
      "Generated Successfully On 1220!!!\n"
     ]
    },
    {
     "name": "stderr",
     "output_type": "stream",
     "text": [
      "  5%|▌         | 53/1000 [26:53<7:21:12, 27.95s/it]"
     ]
    },
    {
     "name": "stdout",
     "output_type": "stream",
     "text": [
      "Generated Successfully On 1220!!!\n",
      "Generated Successfully On 1221!!!\n",
      "Generated Successfully On 1221!!!\n"
     ]
    },
    {
     "name": "stderr",
     "output_type": "stream",
     "text": [
      "  5%|▌         | 54/1000 [27:26<7:46:59, 29.62s/it]"
     ]
    },
    {
     "name": "stdout",
     "output_type": "stream",
     "text": [
      "Generated Successfully On 1221!!!\n",
      "Generated Successfully On 1222!!!\n",
      "Generated Successfully On 1222!!!\n"
     ]
    },
    {
     "name": "stderr",
     "output_type": "stream",
     "text": [
      "  6%|▌         | 55/1000 [27:52<7:26:27, 28.35s/it]"
     ]
    },
    {
     "name": "stdout",
     "output_type": "stream",
     "text": [
      "Generated Successfully On 1222!!!\n",
      "Generated Successfully On 1223!!!\n",
      "Generated Successfully On 1223!!!\n"
     ]
    },
    {
     "name": "stderr",
     "output_type": "stream",
     "text": [
      "  6%|▌         | 56/1000 [28:10<6:37:05, 25.24s/it]"
     ]
    },
    {
     "name": "stdout",
     "output_type": "stream",
     "text": [
      "Generated Successfully On 1223!!!\n",
      "Generated Successfully On 1224!!!\n",
      "Generated Successfully On 1224!!!\n"
     ]
    },
    {
     "name": "stderr",
     "output_type": "stream",
     "text": [
      "  6%|▌         | 57/1000 [28:56<8:13:57, 31.43s/it]"
     ]
    },
    {
     "name": "stdout",
     "output_type": "stream",
     "text": [
      "Generated Successfully On 1224!!!\n",
      "Generated Successfully On 1225!!!\n",
      "Generated Successfully On 1225!!!\n"
     ]
    },
    {
     "name": "stderr",
     "output_type": "stream",
     "text": [
      "  6%|▌         | 58/1000 [29:20<7:41:54, 29.42s/it]"
     ]
    },
    {
     "name": "stdout",
     "output_type": "stream",
     "text": [
      "Generated Successfully On 1225!!!\n",
      "Generated Successfully On 1226!!!\n",
      "Generated Successfully On 1226!!!\n"
     ]
    },
    {
     "name": "stderr",
     "output_type": "stream",
     "text": [
      "  6%|▌         | 59/1000 [29:53<7:54:42, 30.27s/it]"
     ]
    },
    {
     "name": "stdout",
     "output_type": "stream",
     "text": [
      "Generated Successfully On 1226!!!\n",
      "Generated Successfully On 1227!!!\n",
      "Generated Successfully On 1227!!!\n"
     ]
    },
    {
     "name": "stderr",
     "output_type": "stream",
     "text": [
      "  6%|▌         | 60/1000 [30:27<8:15:33, 31.63s/it]"
     ]
    },
    {
     "name": "stdout",
     "output_type": "stream",
     "text": [
      "Generated Successfully On 1227!!!\n",
      "Generated Successfully On 1228!!!\n",
      "Generated Successfully On 1228!!!\n"
     ]
    },
    {
     "name": "stderr",
     "output_type": "stream",
     "text": [
      "  6%|▌         | 61/1000 [30:47<7:16:50, 27.91s/it]"
     ]
    },
    {
     "name": "stdout",
     "output_type": "stream",
     "text": [
      "Generated Successfully On 1228!!!\n",
      "Generated Successfully On 1229!!!\n",
      "Generated Successfully On 1229!!!\n"
     ]
    },
    {
     "name": "stderr",
     "output_type": "stream",
     "text": [
      "  6%|▌         | 62/1000 [31:11<6:57:46, 26.72s/it]"
     ]
    },
    {
     "name": "stdout",
     "output_type": "stream",
     "text": [
      "Generated Successfully On 1229!!!\n",
      "Generated Successfully On 1230!!!\n",
      "Generated Successfully On 1230!!!\n"
     ]
    },
    {
     "name": "stderr",
     "output_type": "stream",
     "text": [
      "  6%|▋         | 63/1000 [34:08<18:42:23, 71.87s/it]"
     ]
    },
    {
     "name": "stdout",
     "output_type": "stream",
     "text": [
      "Generated Successfully On 1230!!!\n",
      "Generated Successfully On 1231!!!\n",
      "Generated Successfully On 1231!!!\n"
     ]
    },
    {
     "name": "stderr",
     "output_type": "stream",
     "text": [
      "  6%|▋         | 64/1000 [34:23<14:15:17, 54.83s/it]"
     ]
    },
    {
     "name": "stdout",
     "output_type": "stream",
     "text": [
      "Generated Successfully On 1231!!!\n",
      "Generated Successfully On 1232!!!\n",
      "Generated Successfully On 1232!!!\n"
     ]
    },
    {
     "name": "stderr",
     "output_type": "stream",
     "text": [
      "  6%|▋         | 65/1000 [34:48<11:56:46, 46.00s/it]"
     ]
    },
    {
     "name": "stdout",
     "output_type": "stream",
     "text": [
      "Generated Successfully On 1232!!!\n",
      "Generated Successfully On 1233!!!\n",
      "Generated Successfully On 1233!!!\n"
     ]
    },
    {
     "name": "stderr",
     "output_type": "stream",
     "text": [
      "  7%|▋         | 66/1000 [35:23<11:05:05, 42.73s/it]"
     ]
    },
    {
     "name": "stdout",
     "output_type": "stream",
     "text": [
      "Generated Successfully On 1233!!!\n",
      "Generated Successfully On 1234!!!\n",
      "Generated Successfully On 1234!!!\n"
     ]
    },
    {
     "name": "stderr",
     "output_type": "stream",
     "text": [
      "  7%|▋         | 67/1000 [35:56<10:19:59, 39.87s/it]"
     ]
    },
    {
     "name": "stdout",
     "output_type": "stream",
     "text": [
      "Generated Successfully On 1234!!!\n",
      "Generated Successfully On 1235!!!\n",
      "Generated Successfully On 1235!!!\n"
     ]
    },
    {
     "name": "stderr",
     "output_type": "stream",
     "text": [
      "  7%|▋         | 68/1000 [36:32<9:59:21, 38.59s/it] "
     ]
    },
    {
     "name": "stdout",
     "output_type": "stream",
     "text": [
      "Generated Successfully On 1235!!!\n",
      "Generated Successfully On 1236!!!\n",
      "Generated Successfully On 1236!!!\n"
     ]
    },
    {
     "name": "stderr",
     "output_type": "stream",
     "text": [
      "  7%|▋         | 69/1000 [37:10<9:57:48, 38.53s/it]"
     ]
    },
    {
     "name": "stdout",
     "output_type": "stream",
     "text": [
      "Generated Successfully On 1236!!!\n",
      "Generated Successfully On 1237!!!\n",
      "Generated Successfully On 1237!!!\n"
     ]
    },
    {
     "name": "stderr",
     "output_type": "stream",
     "text": [
      "  7%|▋         | 70/1000 [37:28<8:21:37, 32.36s/it]"
     ]
    },
    {
     "name": "stdout",
     "output_type": "stream",
     "text": [
      "Generated Successfully On 1237!!!\n",
      "Generated Successfully On 1238!!!\n",
      "Generated Successfully On 1238!!!\n"
     ]
    },
    {
     "name": "stderr",
     "output_type": "stream",
     "text": [
      "  7%|▋         | 71/1000 [38:09<8:59:34, 34.85s/it]"
     ]
    },
    {
     "name": "stdout",
     "output_type": "stream",
     "text": [
      "Generated Successfully On 1238!!!\n",
      "Generated Successfully On 1239!!!\n",
      "Generated Successfully On 1239!!!\n"
     ]
    },
    {
     "name": "stderr",
     "output_type": "stream",
     "text": [
      "  7%|▋         | 72/1000 [39:03<10:26:21, 40.50s/it]"
     ]
    },
    {
     "name": "stdout",
     "output_type": "stream",
     "text": [
      "Generated Successfully On 1239!!!\n",
      "Generated Successfully On 1240!!!\n",
      "Generated Successfully On 1240!!!\n"
     ]
    },
    {
     "name": "stderr",
     "output_type": "stream",
     "text": [
      "  7%|▋         | 73/1000 [39:30<9:24:15, 36.52s/it] "
     ]
    },
    {
     "name": "stdout",
     "output_type": "stream",
     "text": [
      "Generated Successfully On 1240!!!\n",
      "Generated Successfully On 1241!!!\n",
      "Generated Successfully On 1241!!!\n"
     ]
    },
    {
     "name": "stderr",
     "output_type": "stream",
     "text": [
      "  7%|▋         | 74/1000 [40:07<9:26:03, 36.68s/it]"
     ]
    },
    {
     "name": "stdout",
     "output_type": "stream",
     "text": [
      "Generated Successfully On 1241!!!\n",
      "Generated Successfully On 1242!!!\n",
      "Generated Successfully On 1242!!!\n"
     ]
    },
    {
     "name": "stderr",
     "output_type": "stream",
     "text": [
      "  8%|▊         | 75/1000 [40:25<7:56:29, 30.91s/it]"
     ]
    },
    {
     "name": "stdout",
     "output_type": "stream",
     "text": [
      "Generated Successfully On 1242!!!\n",
      "Generated Successfully On 1243!!!\n",
      "Generated Successfully On 1243!!!\n"
     ]
    },
    {
     "name": "stderr",
     "output_type": "stream",
     "text": [
      "  8%|▊         | 76/1000 [40:52<7:38:22, 29.76s/it]"
     ]
    },
    {
     "name": "stdout",
     "output_type": "stream",
     "text": [
      "Generated Successfully On 1243!!!\n",
      "Generated Successfully On 1244!!!\n",
      "Generated Successfully On 1244!!!\n"
     ]
    },
    {
     "name": "stderr",
     "output_type": "stream",
     "text": [
      "  8%|▊         | 77/1000 [41:17<7:16:21, 28.37s/it]"
     ]
    },
    {
     "name": "stdout",
     "output_type": "stream",
     "text": [
      "Generated Successfully On 1244!!!\n",
      "Generated Successfully On 1245!!!\n",
      "Generated Successfully On 1245!!!\n"
     ]
    },
    {
     "name": "stderr",
     "output_type": "stream",
     "text": [
      "  8%|▊         | 78/1000 [41:56<8:07:06, 31.70s/it]"
     ]
    },
    {
     "name": "stdout",
     "output_type": "stream",
     "text": [
      "Generated Successfully On 1245!!!\n",
      "Generated Successfully On 1246!!!\n",
      "Generated Successfully On 1246!!!\n"
     ]
    },
    {
     "name": "stderr",
     "output_type": "stream",
     "text": [
      "  8%|▊         | 79/1000 [42:26<7:56:59, 31.07s/it]"
     ]
    },
    {
     "name": "stdout",
     "output_type": "stream",
     "text": [
      "Generated Successfully On 1246!!!\n",
      "Generated Successfully On 1247!!!\n",
      "Generated Successfully On 1247!!!\n"
     ]
    },
    {
     "name": "stderr",
     "output_type": "stream",
     "text": [
      "  8%|▊         | 80/1000 [43:09<8:53:21, 34.78s/it]"
     ]
    },
    {
     "name": "stdout",
     "output_type": "stream",
     "text": [
      "Generated Successfully On 1247!!!\n",
      "Generated Successfully On 1248!!!\n",
      "Generated Successfully On 1248!!!\n"
     ]
    },
    {
     "name": "stderr",
     "output_type": "stream",
     "text": [
      "  8%|▊         | 81/1000 [43:39<8:28:17, 33.19s/it]"
     ]
    },
    {
     "name": "stdout",
     "output_type": "stream",
     "text": [
      "Generated Successfully On 1248!!!\n",
      "Generated Successfully On 1249!!!\n",
      "Generated Successfully On 1249!!!\n"
     ]
    },
    {
     "name": "stderr",
     "output_type": "stream",
     "text": [
      "  8%|▊         | 82/1000 [44:02<7:42:18, 30.22s/it]"
     ]
    },
    {
     "name": "stdout",
     "output_type": "stream",
     "text": [
      "Generated Successfully On 1249!!!\n",
      "Generated Successfully On 1250!!!\n",
      "Generated Successfully On 1250!!!\n"
     ]
    },
    {
     "name": "stderr",
     "output_type": "stream",
     "text": [
      "  8%|▊         | 83/1000 [44:34<7:49:15, 30.70s/it]"
     ]
    },
    {
     "name": "stdout",
     "output_type": "stream",
     "text": [
      "Generated Successfully On 1250!!!\n",
      "Generated Successfully On 1251!!!\n",
      "Generated Successfully On 1251!!!\n"
     ]
    },
    {
     "name": "stderr",
     "output_type": "stream",
     "text": [
      "  8%|▊         | 84/1000 [45:01<7:34:32, 29.77s/it]"
     ]
    },
    {
     "name": "stdout",
     "output_type": "stream",
     "text": [
      "Generated Successfully On 1251!!!\n",
      "Generated Successfully On 1252!!!\n",
      "Generated Successfully On 1252!!!\n"
     ]
    },
    {
     "name": "stderr",
     "output_type": "stream",
     "text": [
      "  8%|▊         | 85/1000 [45:25<7:03:37, 27.78s/it]"
     ]
    },
    {
     "name": "stdout",
     "output_type": "stream",
     "text": [
      "Generated Successfully On 1252!!!\n",
      "Generated Successfully On 1253!!!\n",
      "Generated Successfully On 1253!!!\n"
     ]
    },
    {
     "name": "stderr",
     "output_type": "stream",
     "text": [
      "  9%|▊         | 86/1000 [45:53<7:06:14, 27.98s/it]"
     ]
    },
    {
     "name": "stdout",
     "output_type": "stream",
     "text": [
      "Generated Successfully On 1253!!!\n",
      "Generated Successfully On 1254!!!\n",
      "Generated Successfully On 1254!!!\n"
     ]
    },
    {
     "name": "stderr",
     "output_type": "stream",
     "text": [
      "  9%|▊         | 87/1000 [46:17<6:46:32, 26.72s/it]"
     ]
    },
    {
     "name": "stdout",
     "output_type": "stream",
     "text": [
      "Generated Successfully On 1254!!!\n",
      "Generated Successfully On 1255!!!\n",
      "Generated Successfully On 1255!!!\n"
     ]
    },
    {
     "name": "stderr",
     "output_type": "stream",
     "text": [
      "  9%|▉         | 88/1000 [46:42<6:39:00, 26.25s/it]"
     ]
    },
    {
     "name": "stdout",
     "output_type": "stream",
     "text": [
      "Generated Successfully On 1255!!!\n",
      "Generated Successfully On 1256!!!\n",
      "Generated Successfully On 1256!!!\n"
     ]
    },
    {
     "name": "stderr",
     "output_type": "stream",
     "text": [
      "  9%|▉         | 89/1000 [47:25<7:55:12, 31.30s/it]"
     ]
    },
    {
     "name": "stdout",
     "output_type": "stream",
     "text": [
      "Generated Successfully On 1256!!!\n",
      "Generated Successfully On 1257!!!\n",
      "Generated Successfully On 1257!!!\n"
     ]
    },
    {
     "name": "stderr",
     "output_type": "stream",
     "text": [
      "  9%|▉         | 90/1000 [47:48<7:16:51, 28.80s/it]"
     ]
    },
    {
     "name": "stdout",
     "output_type": "stream",
     "text": [
      "Generated Successfully On 1257!!!\n",
      "Generated Successfully On 1258!!!\n",
      "Generated Successfully On 1258!!!\n"
     ]
    },
    {
     "name": "stderr",
     "output_type": "stream",
     "text": [
      "  9%|▉         | 91/1000 [48:13<6:57:51, 27.58s/it]"
     ]
    },
    {
     "name": "stdout",
     "output_type": "stream",
     "text": [
      "Generated Successfully On 1258!!!\n",
      "Generated Successfully On 1259!!!\n",
      "Generated Successfully On 1259!!!\n"
     ]
    },
    {
     "name": "stderr",
     "output_type": "stream",
     "text": [
      "  9%|▉         | 92/1000 [48:59<8:24:25, 33.33s/it]"
     ]
    },
    {
     "name": "stdout",
     "output_type": "stream",
     "text": [
      "Generated Successfully On 1259!!!\n",
      "Generated Successfully On 1260!!!\n",
      "Generated Successfully On 1260!!!\n"
     ]
    },
    {
     "name": "stderr",
     "output_type": "stream",
     "text": [
      "  9%|▉         | 93/1000 [49:31<8:15:21, 32.77s/it]"
     ]
    },
    {
     "name": "stdout",
     "output_type": "stream",
     "text": [
      "Generated Successfully On 1260!!!\n",
      "Generated Successfully On 1261!!!\n",
      "Generated Successfully On 1261!!!\n"
     ]
    },
    {
     "name": "stderr",
     "output_type": "stream",
     "text": [
      "  9%|▉         | 94/1000 [49:48<7:04:06, 28.09s/it]"
     ]
    },
    {
     "name": "stdout",
     "output_type": "stream",
     "text": [
      "Generated Successfully On 1261!!!\n",
      "Generated Successfully On 1262!!!\n",
      "Generated Successfully On 1262!!!\n"
     ]
    },
    {
     "name": "stderr",
     "output_type": "stream",
     "text": [
      " 10%|▉         | 95/1000 [50:16<7:04:22, 28.14s/it]"
     ]
    },
    {
     "name": "stdout",
     "output_type": "stream",
     "text": [
      "Generated Successfully On 1262!!!\n",
      "Generated Successfully On 1263!!!\n",
      "Generated Successfully On 1263!!!\n"
     ]
    },
    {
     "name": "stderr",
     "output_type": "stream",
     "text": [
      " 10%|▉         | 96/1000 [51:00<8:12:41, 32.70s/it]"
     ]
    },
    {
     "name": "stdout",
     "output_type": "stream",
     "text": [
      "Generated Successfully On 1263!!!\n",
      "Generated Successfully On 1264!!!\n",
      "Generated Successfully On 1264!!!\n"
     ]
    },
    {
     "name": "stderr",
     "output_type": "stream",
     "text": [
      " 10%|▉         | 97/1000 [51:24<7:34:49, 30.22s/it]"
     ]
    },
    {
     "name": "stdout",
     "output_type": "stream",
     "text": [
      "Generated Successfully On 1264!!!\n",
      "Generated Successfully On 1265!!!\n",
      "Generated Successfully On 1265!!!\n"
     ]
    },
    {
     "name": "stderr",
     "output_type": "stream",
     "text": [
      " 10%|▉         | 98/1000 [51:49<7:11:11, 28.68s/it]"
     ]
    },
    {
     "name": "stdout",
     "output_type": "stream",
     "text": [
      "Generated Successfully On 1265!!!\n",
      "Generated Successfully On 1266!!!\n",
      "Generated Successfully On 1266!!!\n"
     ]
    },
    {
     "name": "stderr",
     "output_type": "stream",
     "text": [
      " 10%|▉         | 99/1000 [52:12<6:45:05, 26.98s/it]"
     ]
    },
    {
     "name": "stdout",
     "output_type": "stream",
     "text": [
      "Generated Successfully On 1266!!!\n",
      "Generated Successfully On 1267!!!\n",
      "Generated Successfully On 1267!!!\n"
     ]
    },
    {
     "name": "stderr",
     "output_type": "stream",
     "text": [
      " 10%|█         | 100/1000 [52:49<7:28:23, 29.89s/it]"
     ]
    },
    {
     "name": "stdout",
     "output_type": "stream",
     "text": [
      "Generated Successfully On 1267!!!\n",
      "Generated Successfully On 1268!!!\n",
      "Generated Successfully On 1268!!!\n"
     ]
    },
    {
     "name": "stderr",
     "output_type": "stream",
     "text": [
      " 10%|█         | 101/1000 [53:29<8:13:27, 32.93s/it]"
     ]
    },
    {
     "name": "stdout",
     "output_type": "stream",
     "text": [
      "Generated Successfully On 1268!!!\n",
      "Generated Successfully On 1269!!!\n",
      "Generated Successfully On 1269!!!\n"
     ]
    },
    {
     "name": "stderr",
     "output_type": "stream",
     "text": [
      " 10%|█         | 102/1000 [53:57<7:52:25, 31.56s/it]"
     ]
    },
    {
     "name": "stdout",
     "output_type": "stream",
     "text": [
      "Generated Successfully On 1269!!!\n",
      "Generated Successfully On 1270!!!\n",
      "Generated Successfully On 1270!!!\n"
     ]
    },
    {
     "name": "stderr",
     "output_type": "stream",
     "text": [
      " 10%|█         | 103/1000 [54:51<9:32:28, 38.29s/it]"
     ]
    },
    {
     "name": "stdout",
     "output_type": "stream",
     "text": [
      "Generated Successfully On 1270!!!\n",
      "Generated Successfully On 1271!!!\n",
      "Generated Successfully On 1271!!!\n"
     ]
    },
    {
     "name": "stderr",
     "output_type": "stream",
     "text": [
      " 10%|█         | 104/1000 [55:21<8:52:51, 35.68s/it]"
     ]
    },
    {
     "name": "stdout",
     "output_type": "stream",
     "text": [
      "Generated Successfully On 1271!!!\n",
      "Generated Successfully On 1272!!!\n",
      "Generated Successfully On 1272!!!\n"
     ]
    },
    {
     "name": "stderr",
     "output_type": "stream",
     "text": [
      " 10%|█         | 105/1000 [55:56<8:49:58, 35.53s/it]"
     ]
    },
    {
     "name": "stdout",
     "output_type": "stream",
     "text": [
      "Generated Successfully On 1272!!!\n",
      "Generated Successfully On 1273!!!\n",
      "Generated Successfully On 1273!!!\n"
     ]
    },
    {
     "name": "stderr",
     "output_type": "stream",
     "text": [
      " 11%|█         | 106/1000 [56:26<8:23:43, 33.81s/it]"
     ]
    },
    {
     "name": "stdout",
     "output_type": "stream",
     "text": [
      "Generated Successfully On 1273!!!\n",
      "Generated Successfully On 1274!!!\n",
      "Generated Successfully On 1274!!!\n"
     ]
    },
    {
     "name": "stderr",
     "output_type": "stream",
     "text": [
      " 11%|█         | 107/1000 [56:49<7:35:53, 30.63s/it]"
     ]
    },
    {
     "name": "stdout",
     "output_type": "stream",
     "text": [
      "Generated Successfully On 1274!!!\n",
      "Generated Successfully On 1275!!!\n",
      "Generated Successfully On 1275!!!\n"
     ]
    },
    {
     "name": "stderr",
     "output_type": "stream",
     "text": [
      " 11%|█         | 108/1000 [57:23<7:48:15, 31.50s/it]"
     ]
    },
    {
     "name": "stdout",
     "output_type": "stream",
     "text": [
      "Generated Successfully On 1275!!!\n",
      "Generated Successfully On 1276!!!\n",
      "Generated Successfully On 1276!!!\n"
     ]
    },
    {
     "name": "stderr",
     "output_type": "stream",
     "text": [
      " 11%|█         | 109/1000 [57:52<7:37:12, 30.79s/it]"
     ]
    },
    {
     "name": "stdout",
     "output_type": "stream",
     "text": [
      "Generated Successfully On 1276!!!\n",
      "Generated Successfully On 1277!!!\n",
      "Generated Successfully On 1277!!!\n"
     ]
    },
    {
     "name": "stderr",
     "output_type": "stream",
     "text": [
      " 11%|█         | 110/1000 [58:47<9:25:52, 38.15s/it]"
     ]
    },
    {
     "name": "stdout",
     "output_type": "stream",
     "text": [
      "Generated Successfully On 1277!!!\n",
      "Generated Successfully On 1278!!!\n",
      "Generated Successfully On 1278!!!\n"
     ]
    },
    {
     "name": "stderr",
     "output_type": "stream",
     "text": [
      " 11%|█         | 111/1000 [59:12<8:25:03, 34.09s/it]"
     ]
    },
    {
     "name": "stdout",
     "output_type": "stream",
     "text": [
      "Generated Successfully On 1278!!!\n",
      "Generated Successfully On 1279!!!\n",
      "Generated Successfully On 1279!!!\n"
     ]
    },
    {
     "name": "stderr",
     "output_type": "stream",
     "text": [
      " 11%|█         | 112/1000 [59:42<8:07:48, 32.96s/it]"
     ]
    },
    {
     "name": "stdout",
     "output_type": "stream",
     "text": [
      "Generated Successfully On 1279!!!\n",
      "Generated Successfully On 1280!!!\n",
      "Generated Successfully On 1280!!!\n"
     ]
    },
    {
     "name": "stderr",
     "output_type": "stream",
     "text": [
      " 11%|█▏        | 113/1000 [1:00:04<7:20:05, 29.77s/it]"
     ]
    },
    {
     "name": "stdout",
     "output_type": "stream",
     "text": [
      "Generated Successfully On 1280!!!\n",
      "Generated Successfully On 1281!!!\n",
      "Generated Successfully On 1281!!!\n"
     ]
    },
    {
     "name": "stderr",
     "output_type": "stream",
     "text": [
      " 11%|█▏        | 114/1000 [1:00:26<6:43:11, 27.30s/it]"
     ]
    },
    {
     "name": "stdout",
     "output_type": "stream",
     "text": [
      "Generated Successfully On 1281!!!\n",
      "Generated Successfully On 1282!!!\n",
      "Generated Successfully On 1282!!!\n"
     ]
    },
    {
     "name": "stderr",
     "output_type": "stream",
     "text": [
      " 12%|█▏        | 115/1000 [1:01:00<7:14:11, 29.44s/it]"
     ]
    },
    {
     "name": "stdout",
     "output_type": "stream",
     "text": [
      "Generated Successfully On 1282!!!\n",
      "Generated Successfully On 1283!!!\n",
      "Generated Successfully On 1283!!!\n"
     ]
    },
    {
     "name": "stderr",
     "output_type": "stream",
     "text": [
      " 12%|█▏        | 116/1000 [1:01:29<7:11:49, 29.31s/it]"
     ]
    },
    {
     "name": "stdout",
     "output_type": "stream",
     "text": [
      "Generated Successfully On 1283!!!\n",
      "Generated Successfully On 1284!!!\n",
      "Generated Successfully On 1284!!!\n"
     ]
    },
    {
     "name": "stderr",
     "output_type": "stream",
     "text": [
      " 12%|█▏        | 117/1000 [1:02:09<7:58:18, 32.50s/it]"
     ]
    },
    {
     "name": "stdout",
     "output_type": "stream",
     "text": [
      "Generated Successfully On 1284!!!\n",
      "Generated Successfully On 1285!!!\n",
      "Generated Successfully On 1285!!!\n"
     ]
    },
    {
     "name": "stderr",
     "output_type": "stream",
     "text": [
      " 12%|█▏        | 118/1000 [1:02:47<8:21:33, 34.12s/it]"
     ]
    },
    {
     "name": "stdout",
     "output_type": "stream",
     "text": [
      "Generated Successfully On 1285!!!\n",
      "Generated Successfully On 1286!!!\n",
      "Generated Successfully On 1286!!!\n"
     ]
    },
    {
     "name": "stderr",
     "output_type": "stream",
     "text": [
      " 12%|█▏        | 119/1000 [1:03:22<8:23:07, 34.27s/it]"
     ]
    },
    {
     "name": "stdout",
     "output_type": "stream",
     "text": [
      "Generated Successfully On 1286!!!\n",
      "Generated Successfully On 1287!!!\n",
      "Generated Successfully On 1287!!!\n"
     ]
    },
    {
     "name": "stderr",
     "output_type": "stream",
     "text": [
      " 12%|█▏        | 120/1000 [1:03:41<7:17:57, 29.86s/it]"
     ]
    },
    {
     "name": "stdout",
     "output_type": "stream",
     "text": [
      "Generated Successfully On 1287!!!\n",
      "Generated Successfully On 1288!!!\n",
      "Generated Successfully On 1288!!!\n"
     ]
    },
    {
     "name": "stderr",
     "output_type": "stream",
     "text": [
      " 12%|█▏        | 121/1000 [1:04:17<7:44:56, 31.74s/it]"
     ]
    },
    {
     "name": "stdout",
     "output_type": "stream",
     "text": [
      "Generated Successfully On 1288!!!\n",
      "Generated Successfully On 1289!!!\n",
      "Generated Successfully On 1289!!!\n"
     ]
    },
    {
     "name": "stderr",
     "output_type": "stream",
     "text": [
      " 12%|█▏        | 122/1000 [1:04:43<7:18:07, 29.94s/it]"
     ]
    },
    {
     "name": "stdout",
     "output_type": "stream",
     "text": [
      "Generated Successfully On 1289!!!\n",
      "Generated Successfully On 1290!!!\n",
      "Generated Successfully On 1290!!!\n"
     ]
    },
    {
     "name": "stderr",
     "output_type": "stream",
     "text": [
      " 12%|█▏        | 123/1000 [1:05:24<8:04:49, 33.17s/it]"
     ]
    },
    {
     "name": "stdout",
     "output_type": "stream",
     "text": [
      "Generated Successfully On 1290!!!\n",
      "Generated Successfully On 1291!!!\n",
      "Generated Successfully On 1291!!!\n"
     ]
    },
    {
     "name": "stderr",
     "output_type": "stream",
     "text": [
      " 12%|█▏        | 124/1000 [1:05:40<6:47:34, 27.92s/it]"
     ]
    },
    {
     "name": "stdout",
     "output_type": "stream",
     "text": [
      "Generated Successfully On 1291!!!\n",
      "Generated Successfully On 1292!!!\n",
      "Generated Successfully On 1292!!!\n"
     ]
    },
    {
     "name": "stderr",
     "output_type": "stream",
     "text": [
      " 12%|█▎        | 125/1000 [1:06:01<6:19:52, 26.05s/it]"
     ]
    },
    {
     "name": "stdout",
     "output_type": "stream",
     "text": [
      "Generated Successfully On 1292!!!\n",
      "Generated Successfully On 1293!!!\n",
      "Generated Successfully On 1293!!!\n"
     ]
    },
    {
     "name": "stderr",
     "output_type": "stream",
     "text": [
      " 13%|█▎        | 126/1000 [1:06:37<7:03:17, 29.06s/it]"
     ]
    },
    {
     "name": "stdout",
     "output_type": "stream",
     "text": [
      "Generated Successfully On 1293!!!\n",
      "Generated Successfully On 1294!!!\n",
      "Generated Successfully On 1294!!!\n"
     ]
    },
    {
     "name": "stderr",
     "output_type": "stream",
     "text": [
      " 13%|█▎        | 127/1000 [1:07:07<7:04:51, 29.20s/it]"
     ]
    },
    {
     "name": "stdout",
     "output_type": "stream",
     "text": [
      "Generated Successfully On 1294!!!\n",
      "Generated Successfully On 1295!!!\n",
      "Generated Successfully On 1295!!!\n"
     ]
    },
    {
     "name": "stderr",
     "output_type": "stream",
     "text": [
      " 13%|█▎        | 128/1000 [1:07:29<6:33:27, 27.07s/it]"
     ]
    },
    {
     "name": "stdout",
     "output_type": "stream",
     "text": [
      "Generated Successfully On 1295!!!\n",
      "Generated Successfully On 1296!!!\n",
      "Generated Successfully On 1296!!!\n"
     ]
    },
    {
     "name": "stderr",
     "output_type": "stream",
     "text": [
      " 13%|█▎        | 129/1000 [1:08:03<7:05:15, 29.29s/it]"
     ]
    },
    {
     "name": "stdout",
     "output_type": "stream",
     "text": [
      "Generated Successfully On 1296!!!\n",
      "Generated Successfully On 1297!!!\n",
      "Generated Successfully On 1297!!!\n"
     ]
    },
    {
     "name": "stderr",
     "output_type": "stream",
     "text": [
      " 13%|█▎        | 130/1000 [1:08:14<5:43:05, 23.66s/it]"
     ]
    },
    {
     "name": "stdout",
     "output_type": "stream",
     "text": [
      "Generated Successfully On 1297!!!\n",
      "Generated Successfully On 1298!!!\n",
      "Generated Successfully On 1298!!!\n"
     ]
    },
    {
     "name": "stderr",
     "output_type": "stream",
     "text": [
      " 13%|█▎        | 131/1000 [1:08:32<5:16:36, 21.86s/it]"
     ]
    },
    {
     "name": "stdout",
     "output_type": "stream",
     "text": [
      "Generated Successfully On 1298!!!\n",
      "Generated Successfully On 1299!!!\n",
      "Generated Successfully On 1299!!!\n"
     ]
    },
    {
     "name": "stderr",
     "output_type": "stream",
     "text": [
      " 13%|█▎        | 132/1000 [1:09:15<6:51:47, 28.46s/it]"
     ]
    },
    {
     "name": "stdout",
     "output_type": "stream",
     "text": [
      "Generated Successfully On 1299!!!\n",
      "Generated Successfully On 1300!!!\n",
      "Generated Successfully On 1300!!!\n"
     ]
    },
    {
     "name": "stderr",
     "output_type": "stream",
     "text": [
      " 13%|█▎        | 133/1000 [1:09:48<7:08:11, 29.63s/it]"
     ]
    },
    {
     "name": "stdout",
     "output_type": "stream",
     "text": [
      "Generated Successfully On 1300!!!\n",
      "Generated Successfully On 1301!!!\n",
      "Generated Successfully On 1301!!!\n"
     ]
    },
    {
     "name": "stderr",
     "output_type": "stream",
     "text": [
      " 13%|█▎        | 134/1000 [1:10:15<6:57:11, 28.90s/it]"
     ]
    },
    {
     "name": "stdout",
     "output_type": "stream",
     "text": [
      "Generated Successfully On 1301!!!\n",
      "Generated Successfully On 1302!!!\n",
      "Generated Successfully On 1302!!!\n"
     ]
    },
    {
     "name": "stderr",
     "output_type": "stream",
     "text": [
      " 14%|█▎        | 135/1000 [1:10:49<7:16:33, 30.28s/it]"
     ]
    },
    {
     "name": "stdout",
     "output_type": "stream",
     "text": [
      "Generated Successfully On 1302!!!\n",
      "Generated Successfully On 1303!!!\n",
      "Generated Successfully On 1303!!!\n"
     ]
    },
    {
     "name": "stderr",
     "output_type": "stream",
     "text": [
      " 14%|█▎        | 136/1000 [1:11:24<7:40:30, 31.98s/it]"
     ]
    },
    {
     "name": "stdout",
     "output_type": "stream",
     "text": [
      "Generated Successfully On 1303!!!\n",
      "Generated Successfully On 1304!!!\n",
      "Generated Successfully On 1304!!!\n"
     ]
    },
    {
     "name": "stderr",
     "output_type": "stream",
     "text": [
      " 14%|█▎        | 137/1000 [1:11:48<7:04:59, 29.55s/it]"
     ]
    },
    {
     "name": "stdout",
     "output_type": "stream",
     "text": [
      "Generated Successfully On 1304!!!\n",
      "Generated Successfully On 1305!!!\n",
      "Generated Successfully On 1305!!!\n"
     ]
    },
    {
     "name": "stderr",
     "output_type": "stream",
     "text": [
      " 14%|█▍        | 138/1000 [1:12:10<6:28:23, 27.03s/it]"
     ]
    },
    {
     "name": "stdout",
     "output_type": "stream",
     "text": [
      "Generated Successfully On 1305!!!\n",
      "Generated Successfully On 1306!!!\n",
      "Generated Successfully On 1306!!!\n"
     ]
    },
    {
     "name": "stderr",
     "output_type": "stream",
     "text": [
      " 14%|█▍        | 139/1000 [1:12:45<7:04:31, 29.58s/it]"
     ]
    },
    {
     "name": "stdout",
     "output_type": "stream",
     "text": [
      "Generated Successfully On 1306!!!\n",
      "Generated Successfully On 1307!!!\n",
      "Generated Successfully On 1307!!!\n"
     ]
    },
    {
     "name": "stderr",
     "output_type": "stream",
     "text": [
      " 14%|█▍        | 140/1000 [1:13:18<7:20:02, 30.70s/it]"
     ]
    },
    {
     "name": "stdout",
     "output_type": "stream",
     "text": [
      "Generated Successfully On 1307!!!\n",
      "Generated Successfully On 1308!!!\n",
      "Generated Successfully On 1308!!!\n"
     ]
    },
    {
     "name": "stderr",
     "output_type": "stream",
     "text": [
      " 14%|█▍        | 141/1000 [1:13:52<7:32:32, 31.61s/it]"
     ]
    },
    {
     "name": "stdout",
     "output_type": "stream",
     "text": [
      "Generated Successfully On 1308!!!\n",
      "Generated Successfully On 1309!!!\n",
      "Generated Successfully On 1309!!!\n"
     ]
    },
    {
     "name": "stderr",
     "output_type": "stream",
     "text": [
      " 14%|█▍        | 142/1000 [1:14:12<6:41:30, 28.08s/it]"
     ]
    },
    {
     "name": "stdout",
     "output_type": "stream",
     "text": [
      "Generated Successfully On 1309!!!\n",
      "Generated Successfully On 1310!!!\n",
      "Generated Successfully On 1310!!!\n"
     ]
    },
    {
     "name": "stderr",
     "output_type": "stream",
     "text": [
      " 14%|█▍        | 143/1000 [1:15:05<8:30:07, 35.72s/it]"
     ]
    },
    {
     "name": "stdout",
     "output_type": "stream",
     "text": [
      "Generated Successfully On 1310!!!\n",
      "Generated Successfully On 1311!!!\n",
      "Generated Successfully On 1311!!!\n"
     ]
    },
    {
     "name": "stderr",
     "output_type": "stream",
     "text": [
      " 14%|█▍        | 144/1000 [1:15:22<7:08:59, 30.07s/it]"
     ]
    },
    {
     "name": "stdout",
     "output_type": "stream",
     "text": [
      "Generated Successfully On 1311!!!\n",
      "Generated Successfully On 1312!!!\n",
      "Generated Successfully On 1312!!!\n"
     ]
    },
    {
     "name": "stderr",
     "output_type": "stream",
     "text": [
      " 14%|█▍        | 145/1000 [1:15:59<7:36:07, 32.01s/it]"
     ]
    },
    {
     "name": "stdout",
     "output_type": "stream",
     "text": [
      "Generated Successfully On 1312!!!\n",
      "Generated Successfully On 1313!!!\n",
      "Generated Successfully On 1313!!!\n"
     ]
    },
    {
     "name": "stderr",
     "output_type": "stream",
     "text": [
      " 15%|█▍        | 146/1000 [1:16:28<7:21:13, 31.00s/it]"
     ]
    },
    {
     "name": "stdout",
     "output_type": "stream",
     "text": [
      "Generated Successfully On 1313!!!\n",
      "Generated Successfully On 1314!!!\n",
      "Generated Successfully On 1314!!!\n"
     ]
    },
    {
     "name": "stderr",
     "output_type": "stream",
     "text": [
      " 15%|█▍        | 147/1000 [1:16:52<6:54:19, 29.14s/it]"
     ]
    },
    {
     "name": "stdout",
     "output_type": "stream",
     "text": [
      "Generated Successfully On 1314!!!\n",
      "Generated Successfully On 1315!!!\n",
      "Generated Successfully On 1315!!!\n"
     ]
    },
    {
     "name": "stderr",
     "output_type": "stream",
     "text": [
      " 15%|█▍        | 148/1000 [1:17:24<7:03:47, 29.84s/it]"
     ]
    },
    {
     "name": "stdout",
     "output_type": "stream",
     "text": [
      "Generated Successfully On 1315!!!\n",
      "Generated Successfully On 1316!!!\n",
      "Generated Successfully On 1316!!!\n"
     ]
    },
    {
     "name": "stderr",
     "output_type": "stream",
     "text": [
      " 15%|█▍        | 149/1000 [1:17:47<6:35:37, 27.89s/it]"
     ]
    },
    {
     "name": "stdout",
     "output_type": "stream",
     "text": [
      "Generated Successfully On 1316!!!\n",
      "Generated Successfully On 1317!!!\n",
      "Generated Successfully On 1317!!!\n"
     ]
    },
    {
     "name": "stderr",
     "output_type": "stream",
     "text": [
      " 15%|█▌        | 150/1000 [1:18:29<7:33:02, 31.98s/it]"
     ]
    },
    {
     "name": "stdout",
     "output_type": "stream",
     "text": [
      "Generated Successfully On 1317!!!\n",
      "Generated Successfully On 1318!!!\n",
      "Generated Successfully On 1318!!!\n"
     ]
    },
    {
     "name": "stderr",
     "output_type": "stream",
     "text": [
      " 15%|█▌        | 151/1000 [1:18:50<6:47:19, 28.79s/it]"
     ]
    },
    {
     "name": "stdout",
     "output_type": "stream",
     "text": [
      "Generated Successfully On 1318!!!\n",
      "Generated Successfully On 1319!!!\n",
      "Generated Successfully On 1319!!!\n"
     ]
    },
    {
     "name": "stderr",
     "output_type": "stream",
     "text": [
      " 15%|█▌        | 152/1000 [1:19:11<6:14:12, 26.48s/it]"
     ]
    },
    {
     "name": "stdout",
     "output_type": "stream",
     "text": [
      "Generated Successfully On 1319!!!\n",
      "Generated Successfully On 1320!!!\n",
      "Generated Successfully On 1320!!!\n"
     ]
    },
    {
     "name": "stderr",
     "output_type": "stream",
     "text": [
      " 15%|█▌        | 153/1000 [1:19:40<6:24:13, 27.22s/it]"
     ]
    },
    {
     "name": "stdout",
     "output_type": "stream",
     "text": [
      "Generated Successfully On 1320!!!\n",
      "Generated Successfully On 1321!!!\n",
      "Generated Successfully On 1321!!!\n"
     ]
    },
    {
     "name": "stderr",
     "output_type": "stream",
     "text": [
      " 15%|█▌        | 154/1000 [1:20:18<7:09:50, 30.49s/it]"
     ]
    },
    {
     "name": "stdout",
     "output_type": "stream",
     "text": [
      "Generated Successfully On 1321!!!\n",
      "Generated Successfully On 1322!!!\n",
      "Generated Successfully On 1322!!!\n"
     ]
    },
    {
     "name": "stderr",
     "output_type": "stream",
     "text": [
      " 16%|█▌        | 155/1000 [1:21:01<8:00:26, 34.11s/it]"
     ]
    },
    {
     "name": "stdout",
     "output_type": "stream",
     "text": [
      "Generated Successfully On 1322!!!\n",
      "Generated Successfully On 1323!!!\n",
      "Generated Successfully On 1323!!!\n"
     ]
    },
    {
     "name": "stderr",
     "output_type": "stream",
     "text": [
      " 16%|█▌        | 156/1000 [1:21:22<7:04:08, 30.15s/it]"
     ]
    },
    {
     "name": "stdout",
     "output_type": "stream",
     "text": [
      "Generated Successfully On 1323!!!\n",
      "Generated Successfully On 1324!!!\n",
      "Generated Successfully On 1324!!!\n"
     ]
    },
    {
     "name": "stderr",
     "output_type": "stream",
     "text": [
      " 16%|█▌        | 157/1000 [1:22:01<7:43:04, 32.96s/it]"
     ]
    },
    {
     "name": "stdout",
     "output_type": "stream",
     "text": [
      "Generated Successfully On 1324!!!\n",
      "Generated Successfully On 1325!!!\n",
      "Generated Successfully On 1325!!!\n"
     ]
    },
    {
     "name": "stderr",
     "output_type": "stream",
     "text": [
      " 16%|█▌        | 158/1000 [1:22:31<7:28:54, 31.99s/it]"
     ]
    },
    {
     "name": "stdout",
     "output_type": "stream",
     "text": [
      "Generated Successfully On 1325!!!\n",
      "Generated Successfully On 1326!!!\n",
      "Generated Successfully On 1326!!!\n"
     ]
    },
    {
     "name": "stderr",
     "output_type": "stream",
     "text": [
      " 16%|█▌        | 159/1000 [1:22:51<6:38:24, 28.42s/it]"
     ]
    },
    {
     "name": "stdout",
     "output_type": "stream",
     "text": [
      "Generated Successfully On 1326!!!\n",
      "Generated Successfully On 1327!!!\n",
      "Generated Successfully On 1327!!!\n"
     ]
    },
    {
     "name": "stderr",
     "output_type": "stream",
     "text": [
      " 16%|█▌        | 160/1000 [1:25:11<14:26:30, 61.89s/it]"
     ]
    },
    {
     "name": "stdout",
     "output_type": "stream",
     "text": [
      "Generated Successfully On 1327!!!\n",
      "Generated Successfully On 1328!!!\n",
      "Generated Successfully On 1328!!!\n"
     ]
    },
    {
     "name": "stderr",
     "output_type": "stream",
     "text": [
      " 16%|█▌        | 161/1000 [1:25:42<12:14:47, 52.55s/it]"
     ]
    },
    {
     "name": "stdout",
     "output_type": "stream",
     "text": [
      "Generated Successfully On 1328!!!\n",
      "Generated Successfully On 1329!!!\n",
      "Generated Successfully On 1329!!!\n"
     ]
    },
    {
     "name": "stderr",
     "output_type": "stream",
     "text": [
      " 16%|█▌        | 162/1000 [1:26:30<11:55:48, 51.25s/it]"
     ]
    },
    {
     "name": "stdout",
     "output_type": "stream",
     "text": [
      "Generated Successfully On 1329!!!\n",
      "Generated Successfully On 1330!!!\n",
      "Generated Successfully On 1330!!!\n"
     ]
    },
    {
     "name": "stderr",
     "output_type": "stream",
     "text": [
      " 16%|█▋        | 163/1000 [1:27:06<10:49:15, 46.54s/it]"
     ]
    },
    {
     "name": "stdout",
     "output_type": "stream",
     "text": [
      "Generated Successfully On 1330!!!\n",
      "Generated Successfully On 1331!!!\n",
      "Generated Successfully On 1331!!!\n"
     ]
    },
    {
     "name": "stderr",
     "output_type": "stream",
     "text": [
      " 16%|█▋        | 164/1000 [1:27:29<9:12:01, 39.62s/it] "
     ]
    },
    {
     "name": "stdout",
     "output_type": "stream",
     "text": [
      "Generated Successfully On 1331!!!\n",
      "Generated Successfully On 1332!!!\n",
      "Generated Successfully On 1332!!!\n"
     ]
    },
    {
     "name": "stderr",
     "output_type": "stream",
     "text": [
      " 16%|█▋        | 165/1000 [1:28:27<10:26:07, 44.99s/it]"
     ]
    },
    {
     "name": "stdout",
     "output_type": "stream",
     "text": [
      "Generated Successfully On 1332!!!\n",
      "Generated Successfully On 1333!!!\n",
      "Generated Successfully On 1333!!!\n"
     ]
    },
    {
     "name": "stderr",
     "output_type": "stream",
     "text": [
      " 17%|█▋        | 166/1000 [1:28:56<9:20:17, 40.31s/it] "
     ]
    },
    {
     "name": "stdout",
     "output_type": "stream",
     "text": [
      "Generated Successfully On 1333!!!\n",
      "Generated Successfully On 1334!!!\n",
      "Generated Successfully On 1334!!!\n"
     ]
    },
    {
     "name": "stderr",
     "output_type": "stream",
     "text": [
      " 17%|█▋        | 167/1000 [1:29:34<9:08:54, 39.54s/it]"
     ]
    },
    {
     "name": "stdout",
     "output_type": "stream",
     "text": [
      "Generated Successfully On 1334!!!\n",
      "Generated Successfully On 1335!!!\n",
      "Generated Successfully On 1335!!!\n"
     ]
    },
    {
     "name": "stderr",
     "output_type": "stream",
     "text": [
      " 17%|█▋        | 168/1000 [1:30:00<8:11:44, 35.46s/it]"
     ]
    },
    {
     "name": "stdout",
     "output_type": "stream",
     "text": [
      "Generated Successfully On 1335!!!\n",
      "Generated Successfully On 1336!!!\n",
      "Generated Successfully On 1336!!!\n"
     ]
    },
    {
     "name": "stderr",
     "output_type": "stream",
     "text": [
      " 17%|█▋        | 169/1000 [1:30:27<7:38:43, 33.12s/it]"
     ]
    },
    {
     "name": "stdout",
     "output_type": "stream",
     "text": [
      "Generated Successfully On 1336!!!\n",
      "Generated Successfully On 1337!!!\n",
      "Generated Successfully On 1337!!!\n"
     ]
    },
    {
     "name": "stderr",
     "output_type": "stream",
     "text": [
      " 17%|█▋        | 170/1000 [1:30:56<7:21:10, 31.89s/it]"
     ]
    },
    {
     "name": "stdout",
     "output_type": "stream",
     "text": [
      "Generated Successfully On 1337!!!\n",
      "Generated Successfully On 1338!!!\n",
      "Generated Successfully On 1338!!!\n"
     ]
    },
    {
     "name": "stderr",
     "output_type": "stream",
     "text": [
      " 17%|█▋        | 171/1000 [1:31:23<6:58:33, 30.29s/it]"
     ]
    },
    {
     "name": "stdout",
     "output_type": "stream",
     "text": [
      "Generated Successfully On 1338!!!\n",
      "Generated Successfully On 1339!!!\n",
      "Generated Successfully On 1339!!!\n"
     ]
    },
    {
     "name": "stderr",
     "output_type": "stream",
     "text": [
      " 17%|█▋        | 172/1000 [1:31:40<6:04:25, 26.41s/it]"
     ]
    },
    {
     "name": "stdout",
     "output_type": "stream",
     "text": [
      "Generated Successfully On 1339!!!\n",
      "Generated Successfully On 1340!!!\n",
      "Generated Successfully On 1340!!!\n"
     ]
    },
    {
     "name": "stderr",
     "output_type": "stream",
     "text": [
      " 17%|█▋        | 173/1000 [1:32:12<6:25:17, 27.95s/it]"
     ]
    },
    {
     "name": "stdout",
     "output_type": "stream",
     "text": [
      "Generated Successfully On 1340!!!\n",
      "Generated Successfully On 1341!!!\n",
      "Generated Successfully On 1341!!!\n"
     ]
    },
    {
     "name": "stderr",
     "output_type": "stream",
     "text": [
      " 17%|█▋        | 174/1000 [1:32:47<6:56:13, 30.23s/it]"
     ]
    },
    {
     "name": "stdout",
     "output_type": "stream",
     "text": [
      "Generated Successfully On 1341!!!\n",
      "Generated Successfully On 1342!!!\n",
      "Generated Successfully On 1342!!!\n"
     ]
    },
    {
     "name": "stderr",
     "output_type": "stream",
     "text": [
      " 18%|█▊        | 175/1000 [1:33:14<6:41:34, 29.21s/it]"
     ]
    },
    {
     "name": "stdout",
     "output_type": "stream",
     "text": [
      "Generated Successfully On 1342!!!\n",
      "Generated Successfully On 1343!!!\n",
      "Generated Successfully On 1343!!!\n"
     ]
    },
    {
     "name": "stderr",
     "output_type": "stream",
     "text": [
      " 18%|█▊        | 176/1000 [1:33:57<7:36:32, 33.24s/it]"
     ]
    },
    {
     "name": "stdout",
     "output_type": "stream",
     "text": [
      "Generated Successfully On 1343!!!\n",
      "Generated Successfully On 1344!!!\n",
      "Generated Successfully On 1344!!!\n"
     ]
    },
    {
     "name": "stderr",
     "output_type": "stream",
     "text": [
      " 18%|█▊        | 177/1000 [1:34:26<7:19:49, 32.07s/it]"
     ]
    },
    {
     "name": "stdout",
     "output_type": "stream",
     "text": [
      "Generated Successfully On 1344!!!\n",
      "Generated Successfully On 1345!!!\n",
      "Generated Successfully On 1345!!!\n"
     ]
    },
    {
     "name": "stderr",
     "output_type": "stream",
     "text": [
      " 18%|█▊        | 178/1000 [1:35:23<9:00:43, 39.47s/it]"
     ]
    },
    {
     "name": "stdout",
     "output_type": "stream",
     "text": [
      "Generated Successfully On 1345!!!\n",
      "Generated Successfully On 1346!!!\n",
      "Generated Successfully On 1346!!!\n"
     ]
    },
    {
     "name": "stderr",
     "output_type": "stream",
     "text": [
      " 18%|█▊        | 179/1000 [1:35:58<8:43:42, 38.27s/it]"
     ]
    },
    {
     "name": "stdout",
     "output_type": "stream",
     "text": [
      "Generated Successfully On 1346!!!\n",
      "Generated Successfully On 1347!!!\n",
      "Generated Successfully On 1347!!!\n"
     ]
    },
    {
     "name": "stderr",
     "output_type": "stream",
     "text": [
      " 18%|█▊        | 180/1000 [1:36:37<8:44:05, 38.35s/it]"
     ]
    },
    {
     "name": "stdout",
     "output_type": "stream",
     "text": [
      "Generated Successfully On 1347!!!\n",
      "Generated Successfully On 1348!!!\n",
      "Generated Successfully On 1348!!!\n"
     ]
    },
    {
     "name": "stderr",
     "output_type": "stream",
     "text": [
      " 18%|█▊        | 181/1000 [1:37:07<8:08:20, 35.78s/it]"
     ]
    },
    {
     "name": "stdout",
     "output_type": "stream",
     "text": [
      "Generated Successfully On 1348!!!\n",
      "Generated Successfully On 1349!!!\n",
      "Generated Successfully On 1349!!!\n"
     ]
    },
    {
     "name": "stderr",
     "output_type": "stream",
     "text": [
      " 18%|█▊        | 182/1000 [1:37:37<7:46:14, 34.20s/it]"
     ]
    },
    {
     "name": "stdout",
     "output_type": "stream",
     "text": [
      "Generated Successfully On 1349!!!\n",
      "Generated Successfully On 1350!!!\n",
      "Generated Successfully On 1350!!!\n"
     ]
    },
    {
     "name": "stderr",
     "output_type": "stream",
     "text": [
      " 18%|█▊        | 183/1000 [1:38:10<7:40:38, 33.83s/it]"
     ]
    },
    {
     "name": "stdout",
     "output_type": "stream",
     "text": [
      "Generated Successfully On 1350!!!\n",
      "Generated Successfully On 1351!!!\n",
      "Generated Successfully On 1351!!!\n"
     ]
    },
    {
     "name": "stderr",
     "output_type": "stream",
     "text": [
      " 18%|█▊        | 184/1000 [1:38:29<6:40:41, 29.46s/it]"
     ]
    },
    {
     "name": "stdout",
     "output_type": "stream",
     "text": [
      "Generated Successfully On 1351!!!\n",
      "Generated Successfully On 1352!!!\n",
      "Generated Successfully On 1352!!!\n"
     ]
    },
    {
     "name": "stderr",
     "output_type": "stream",
     "text": [
      " 18%|█▊        | 185/1000 [1:38:47<5:52:27, 25.95s/it]"
     ]
    },
    {
     "name": "stdout",
     "output_type": "stream",
     "text": [
      "Generated Successfully On 1352!!!\n",
      "Generated Successfully On 1353!!!\n",
      "Generated Successfully On 1353!!!\n"
     ]
    },
    {
     "name": "stderr",
     "output_type": "stream",
     "text": [
      " 19%|█▊        | 186/1000 [1:39:07<5:28:10, 24.19s/it]"
     ]
    },
    {
     "name": "stdout",
     "output_type": "stream",
     "text": [
      "Generated Successfully On 1353!!!\n",
      "Generated Successfully On 1354!!!\n",
      "Generated Successfully On 1354!!!\n"
     ]
    },
    {
     "name": "stderr",
     "output_type": "stream",
     "text": [
      " 19%|█▊        | 187/1000 [1:39:54<6:58:02, 30.85s/it]"
     ]
    },
    {
     "name": "stdout",
     "output_type": "stream",
     "text": [
      "Generated Successfully On 1354!!!\n",
      "Generated Successfully On 1355!!!\n",
      "Generated Successfully On 1355!!!\n"
     ]
    },
    {
     "name": "stderr",
     "output_type": "stream",
     "text": [
      " 19%|█▉        | 188/1000 [1:40:38<7:51:56, 34.87s/it]"
     ]
    },
    {
     "name": "stdout",
     "output_type": "stream",
     "text": [
      "Generated Successfully On 1355!!!\n",
      "Generated Successfully On 1356!!!\n",
      "Generated Successfully On 1356!!!\n"
     ]
    },
    {
     "name": "stderr",
     "output_type": "stream",
     "text": [
      " 19%|█▉        | 189/1000 [1:41:25<8:41:51, 38.61s/it]"
     ]
    },
    {
     "name": "stdout",
     "output_type": "stream",
     "text": [
      "Generated Successfully On 1356!!!\n",
      "Generated Successfully On 1357!!!\n",
      "Generated Successfully On 1357!!!\n"
     ]
    },
    {
     "name": "stderr",
     "output_type": "stream",
     "text": [
      " 19%|█▉        | 190/1000 [1:42:04<8:42:24, 38.70s/it]"
     ]
    },
    {
     "name": "stdout",
     "output_type": "stream",
     "text": [
      "Generated Successfully On 1357!!!\n",
      "Generated Successfully On 1358!!!\n",
      "Generated Successfully On 1358!!!\n"
     ]
    },
    {
     "name": "stderr",
     "output_type": "stream",
     "text": [
      " 19%|█▉        | 191/1000 [1:42:48<9:03:33, 40.31s/it]"
     ]
    },
    {
     "name": "stdout",
     "output_type": "stream",
     "text": [
      "Generated Successfully On 1358!!!\n",
      "Generated Successfully On 1359!!!\n",
      "Generated Successfully On 1359!!!\n"
     ]
    },
    {
     "name": "stderr",
     "output_type": "stream",
     "text": [
      " 19%|█▉        | 192/1000 [1:43:09<7:43:21, 34.41s/it]"
     ]
    },
    {
     "name": "stdout",
     "output_type": "stream",
     "text": [
      "Generated Successfully On 1359!!!\n",
      "Generated Successfully On 1360!!!\n",
      "Generated Successfully On 1360!!!\n"
     ]
    },
    {
     "name": "stderr",
     "output_type": "stream",
     "text": [
      " 19%|█▉        | 193/1000 [1:43:32<6:56:48, 30.99s/it]"
     ]
    },
    {
     "name": "stdout",
     "output_type": "stream",
     "text": [
      "Generated Successfully On 1360!!!\n",
      "Generated Successfully On 1361!!!\n",
      "Generated Successfully On 1361!!!\n"
     ]
    },
    {
     "name": "stderr",
     "output_type": "stream",
     "text": [
      " 19%|█▉        | 194/1000 [1:44:08<7:18:02, 32.61s/it]"
     ]
    },
    {
     "name": "stdout",
     "output_type": "stream",
     "text": [
      "Generated Successfully On 1361!!!\n",
      "Generated Successfully On 1362!!!\n",
      "Generated Successfully On 1362!!!\n"
     ]
    },
    {
     "name": "stderr",
     "output_type": "stream",
     "text": [
      " 20%|█▉        | 195/1000 [1:44:40<7:13:11, 32.29s/it]"
     ]
    },
    {
     "name": "stdout",
     "output_type": "stream",
     "text": [
      "Generated Successfully On 1362!!!\n",
      "Generated Successfully On 1363!!!\n",
      "Generated Successfully On 1363!!!\n"
     ]
    },
    {
     "name": "stderr",
     "output_type": "stream",
     "text": [
      " 20%|█▉        | 196/1000 [1:45:34<8:41:19, 38.90s/it]"
     ]
    },
    {
     "name": "stdout",
     "output_type": "stream",
     "text": [
      "Generated Successfully On 1363!!!\n",
      "Generated Successfully On 1364!!!\n",
      "Generated Successfully On 1364!!!\n"
     ]
    },
    {
     "name": "stderr",
     "output_type": "stream",
     "text": [
      " 20%|█▉        | 197/1000 [1:47:40<14:28:36, 64.90s/it]"
     ]
    },
    {
     "name": "stdout",
     "output_type": "stream",
     "text": [
      "Generated Successfully On 1364!!!\n",
      "Generated Successfully On 1365!!!\n",
      "Generated Successfully On 1365!!!\n"
     ]
    },
    {
     "name": "stderr",
     "output_type": "stream",
     "text": [
      " 20%|█▉        | 198/1000 [1:48:06<11:52:16, 53.29s/it]"
     ]
    },
    {
     "name": "stdout",
     "output_type": "stream",
     "text": [
      "Generated Successfully On 1365!!!\n",
      "Generated Successfully On 1366!!!\n",
      "Generated Successfully On 1366!!!\n"
     ]
    },
    {
     "name": "stderr",
     "output_type": "stream",
     "text": [
      " 20%|█▉        | 199/1000 [1:48:36<10:20:03, 46.45s/it]"
     ]
    },
    {
     "name": "stdout",
     "output_type": "stream",
     "text": [
      "Generated Successfully On 1366!!!\n",
      "Generated Successfully On 1367!!!\n",
      "Generated Successfully On 1367!!!\n"
     ]
    },
    {
     "name": "stderr",
     "output_type": "stream",
     "text": [
      " 20%|██        | 200/1000 [1:48:54<8:22:46, 37.71s/it] "
     ]
    },
    {
     "name": "stdout",
     "output_type": "stream",
     "text": [
      "Generated Successfully On 1367!!!\n",
      "Generated Successfully On 1368!!!\n",
      "Generated Successfully On 1368!!!\n"
     ]
    },
    {
     "name": "stderr",
     "output_type": "stream",
     "text": [
      " 20%|██        | 201/1000 [1:49:38<8:50:11, 39.81s/it]"
     ]
    },
    {
     "name": "stdout",
     "output_type": "stream",
     "text": [
      "Generated Successfully On 1368!!!\n",
      "Generated Successfully On 1369!!!\n",
      "Generated Successfully On 1369!!!\n"
     ]
    },
    {
     "name": "stderr",
     "output_type": "stream",
     "text": [
      " 20%|██        | 202/1000 [1:50:12<8:26:25, 38.08s/it]"
     ]
    },
    {
     "name": "stdout",
     "output_type": "stream",
     "text": [
      "Generated Successfully On 1369!!!\n",
      "Generated Successfully On 1370!!!\n",
      "Generated Successfully On 1370!!!\n"
     ]
    },
    {
     "name": "stderr",
     "output_type": "stream",
     "text": [
      " 20%|██        | 203/1000 [1:50:49<8:19:39, 37.62s/it]"
     ]
    },
    {
     "name": "stdout",
     "output_type": "stream",
     "text": [
      "Generated Successfully On 1370!!!\n",
      "Generated Successfully On 1371!!!\n",
      "Generated Successfully On 1371!!!\n"
     ]
    },
    {
     "name": "stderr",
     "output_type": "stream",
     "text": [
      " 20%|██        | 204/1000 [1:51:14<7:29:52, 33.91s/it]"
     ]
    },
    {
     "name": "stdout",
     "output_type": "stream",
     "text": [
      "Generated Successfully On 1371!!!\n",
      "Generated Successfully On 1372!!!\n",
      "Generated Successfully On 1372!!!\n"
     ]
    },
    {
     "name": "stderr",
     "output_type": "stream",
     "text": [
      " 20%|██        | 205/1000 [1:51:45<7:15:16, 32.85s/it]"
     ]
    },
    {
     "name": "stdout",
     "output_type": "stream",
     "text": [
      "Generated Successfully On 1372!!!\n",
      "Generated Successfully On 1373!!!\n",
      "Generated Successfully On 1373!!!\n"
     ]
    },
    {
     "name": "stderr",
     "output_type": "stream",
     "text": [
      " 21%|██        | 206/1000 [1:52:22<7:31:29, 34.12s/it]"
     ]
    },
    {
     "name": "stdout",
     "output_type": "stream",
     "text": [
      "Generated Successfully On 1373!!!\n",
      "Generated Successfully On 1374!!!\n",
      "Generated Successfully On 1374!!!\n"
     ]
    },
    {
     "name": "stderr",
     "output_type": "stream",
     "text": [
      " 21%|██        | 207/1000 [1:52:44<6:46:10, 30.73s/it]"
     ]
    },
    {
     "name": "stdout",
     "output_type": "stream",
     "text": [
      "Generated Successfully On 1374!!!\n",
      "Generated Successfully On 1375!!!\n",
      "Generated Successfully On 1375!!!\n"
     ]
    },
    {
     "name": "stderr",
     "output_type": "stream",
     "text": [
      " 21%|██        | 208/1000 [1:53:21<7:08:40, 32.48s/it]"
     ]
    },
    {
     "name": "stdout",
     "output_type": "stream",
     "text": [
      "Generated Successfully On 1375!!!\n",
      "Generated Successfully On 1376!!!\n",
      "Generated Successfully On 1376!!!\n"
     ]
    },
    {
     "name": "stderr",
     "output_type": "stream",
     "text": [
      " 21%|██        | 209/1000 [1:53:49<6:50:27, 31.13s/it]"
     ]
    },
    {
     "name": "stdout",
     "output_type": "stream",
     "text": [
      "Generated Successfully On 1376!!!\n",
      "Generated Successfully On 1377!!!\n",
      "Generated Successfully On 1377!!!\n"
     ]
    },
    {
     "name": "stderr",
     "output_type": "stream",
     "text": [
      " 21%|██        | 210/1000 [1:54:10<6:10:47, 28.16s/it]"
     ]
    },
    {
     "name": "stdout",
     "output_type": "stream",
     "text": [
      "Generated Successfully On 1377!!!\n",
      "Generated Successfully On 1378!!!\n",
      "Generated Successfully On 1378!!!\n"
     ]
    },
    {
     "name": "stderr",
     "output_type": "stream",
     "text": [
      " 21%|██        | 211/1000 [1:54:45<6:36:25, 30.15s/it]"
     ]
    },
    {
     "name": "stdout",
     "output_type": "stream",
     "text": [
      "Generated Successfully On 1378!!!\n",
      "Generated Successfully On 1379!!!\n",
      "Generated Successfully On 1379!!!\n"
     ]
    }
   ],
   "source": [
    "for idx, row in tqdm(df.iterrows(), total=len(df)):\n",
    "\n",
    "    if idx in numbers_set:\n",
    "        continue\n",
    "    else:\n",
    "        numbers_set.add(idx)\n",
    "\n",
    "    human_text = row[\"text\"]\n",
    "    prompt_name = row[\"prompt_name\"]\n",
    "\n",
    "    model_input1 = \"The following is a human-written article. Now, please go through the following text, optimizing sentence structures, correcting grammatical errors, while ensuring that the meaning of the article remains unchanged. Just return the modified article.\\n\" + \"article: \" + human_text\n",
    "\n",
    "    model_input2 = \"The following is a human-written article. Now, please rewrite this article in your writing style, optimizing sentence structures and correcting grammatical errors, while ensuring that the meaning of the article remains unchanged. Just return the modified article.\\n\" + \"article: \" + human_text\n",
    "\n",
    "    for i in range(1):\n",
    "        model_output = generate_dataset(model_input=model_input1, idx=idx)\n",
    "\n",
    "        new_row = pd.DataFrame({\n",
    "            \"text\": [model_output],\n",
    "            \"label\": [1],\n",
    "            \"prompt_name\": [prompt_name],\n",
    "            \"type\": [\"auto-generated\"]\n",
    "        })\n",
    "        save_df = pd.concat([save_df, new_row], ignore_index=True)\n",
    "        save_df.to_csv(f\"lzc_dataset_0117_{VERSION}.csv\", index=False)\n",
    "\n",
    "    for i in range(1):\n",
    "        model_output = generate_dataset(model_input=model_input2, idx=idx)\n",
    "\n",
    "        new_row = pd.DataFrame({\n",
    "            \"text\": [model_output],\n",
    "            \"label\": [1],\n",
    "            \"prompt_name\": [prompt_name],\n",
    "            \"type\": [\"auto-generated\"]\n",
    "        })\n",
    "        save_df = pd.concat([save_df, new_row], ignore_index=True)\n",
    "        save_df.to_csv(f\"lzc_dataset_0117_{VERSION}.csv\", index=False)"
   ]
  },
  {
   "cell_type": "code",
   "execution_count": null,
   "metadata": {},
   "outputs": [],
   "source": [
    "save_df = pd.read_csv(f\"lzc_dataset_0117_{VERSION}.csv\")\n",
    "save_df.head()"
   ]
  }
 ],
 "metadata": {
  "kernelspec": {
   "display_name": "base",
   "language": "python",
   "name": "python3"
  },
  "language_info": {
   "codemirror_mode": {
    "name": "ipython",
    "version": 3
   },
   "file_extension": ".py",
   "mimetype": "text/x-python",
   "name": "python",
   "nbconvert_exporter": "python",
   "pygments_lexer": "ipython3",
   "version": "3.10.9"
  }
 },
 "nbformat": 4,
 "nbformat_minor": 2
}
