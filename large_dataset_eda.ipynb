{
 "cells": [
  {
   "cell_type": "code",
   "execution_count": 3,
   "metadata": {},
   "outputs": [],
   "source": [
    "import pandas as pd\n",
    "import matplotlib.pyplot as plt"
   ]
  },
  {
   "cell_type": "code",
   "execution_count": 2,
   "metadata": {},
   "outputs": [
    {
     "data": {
      "text/html": [
       "<div>\n",
       "<style scoped>\n",
       "    .dataframe tbody tr th:only-of-type {\n",
       "        vertical-align: middle;\n",
       "    }\n",
       "\n",
       "    .dataframe tbody tr th {\n",
       "        vertical-align: top;\n",
       "    }\n",
       "\n",
       "    .dataframe thead th {\n",
       "        text-align: right;\n",
       "    }\n",
       "</style>\n",
       "<table border=\"1\" class=\"dataframe\">\n",
       "  <thead>\n",
       "    <tr style=\"text-align: right;\">\n",
       "      <th></th>\n",
       "      <th>text</th>\n",
       "      <th>source</th>\n",
       "      <th>prompt_id</th>\n",
       "      <th>text_length</th>\n",
       "      <th>word_count</th>\n",
       "    </tr>\n",
       "  </thead>\n",
       "  <tbody>\n",
       "    <tr>\n",
       "      <th>0</th>\n",
       "      <td>Federal law supersedes state law, and cannabis...</td>\n",
       "      <td>Bloom-7B</td>\n",
       "      <td>0</td>\n",
       "      <td>967</td>\n",
       "      <td>157</td>\n",
       "    </tr>\n",
       "    <tr>\n",
       "      <th>1</th>\n",
       "      <td>Miles feels restless after working all day. He...</td>\n",
       "      <td>Bloom-7B</td>\n",
       "      <td>0</td>\n",
       "      <td>5068</td>\n",
       "      <td>778</td>\n",
       "    </tr>\n",
       "    <tr>\n",
       "      <th>2</th>\n",
       "      <td>So first of I am danish. That means that I fol...</td>\n",
       "      <td>Bloom-7B</td>\n",
       "      <td>0</td>\n",
       "      <td>1602</td>\n",
       "      <td>267</td>\n",
       "    </tr>\n",
       "    <tr>\n",
       "      <th>3</th>\n",
       "      <td>In this paper we present a novel rule-based ap...</td>\n",
       "      <td>Bloom-7B</td>\n",
       "      <td>0</td>\n",
       "      <td>5469</td>\n",
       "      <td>848</td>\n",
       "    </tr>\n",
       "    <tr>\n",
       "      <th>4</th>\n",
       "      <td>Most social progressives, love democracy, and ...</td>\n",
       "      <td>Bloom-7B</td>\n",
       "      <td>0</td>\n",
       "      <td>2379</td>\n",
       "      <td>380</td>\n",
       "    </tr>\n",
       "  </tbody>\n",
       "</table>\n",
       "</div>"
      ],
      "text/plain": [
       "                                                text    source  prompt_id  \\\n",
       "0  Federal law supersedes state law, and cannabis...  Bloom-7B          0   \n",
       "1  Miles feels restless after working all day. He...  Bloom-7B          0   \n",
       "2  So first of I am danish. That means that I fol...  Bloom-7B          0   \n",
       "3  In this paper we present a novel rule-based ap...  Bloom-7B          0   \n",
       "4  Most social progressives, love democracy, and ...  Bloom-7B          0   \n",
       "\n",
       "   text_length  word_count  \n",
       "0          967         157  \n",
       "1         5068         778  \n",
       "2         1602         267  \n",
       "3         5469         848  \n",
       "4         2379         380  "
      ]
     },
     "execution_count": 2,
     "metadata": {},
     "output_type": "execute_result"
    }
   ],
   "source": [
    "data = pd.read_csv(\"./large dataset/data.csv\")\n",
    "data.head()"
   ]
  },
  {
   "cell_type": "code",
   "execution_count": 8,
   "metadata": {},
   "outputs": [
    {
     "data": {
      "image/png": "[encoded data removed]",
      "text/plain": [
       "<Figure size 640x480 with 1 Axes>"
      ]
     },
     "metadata": {},
     "output_type": "display_data"
    }
   ],
   "source": [
    "data['prompt_id'].value_counts().sort_values(ascending=False)[:5].plot(\n",
    "    kind=\"bar\",\n",
    ")\n",
    "plt.xticks(rotation=360)\n",
    "plt.show()"
   ]
  }
 ],
 "metadata": {
  "kernelspec": {
   "display_name": "base",
   "language": "python",
   "name": "python3"
  },
  "language_info": {
   "codemirror_mode": {
    "name": "ipython",
    "version": 3
   },
   "file_extension": ".py",
   "mimetype": "text/x-python",
   "name": "python",
   "nbconvert_exporter": "python",
   "pygments_lexer": "ipython3",
   "version": "3.10.9"
  }
 },
 "nbformat": 4,
 "nbformat_minor": 2
}
