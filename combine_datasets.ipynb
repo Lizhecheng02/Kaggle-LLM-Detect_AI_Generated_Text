{
 "cells": [
  {
   "cell_type": "code",
   "execution_count": 1,
   "id": "38076e0a",
   "metadata": {
    "_cell_guid": "b1076dfc-b9ad-4769-8c92-a6c4dae69d19",
    "_uuid": "8f2839f25d086af736a60e9eeb907d3b93b6e0e5",
    "execution": {
     "iopub.execute_input": "2024-01-12T03:54:03.209084Z",
     "iopub.status.busy": "2024-01-12T03:54:03.208526Z",
     "iopub.status.idle": "2024-01-12T03:54:03.531778Z",
     "shell.execute_reply": "2024-01-12T03:54:03.530927Z"
    },
    "papermill": {
     "duration": 0.33017,
     "end_time": "2024-01-12T03:54:03.533744",
     "exception": false,
     "start_time": "2024-01-12T03:54:03.203574",
     "status": "completed"
    },
    "tags": []
   },
   "outputs": [
    {
     "name": "stdout",
     "output_type": "stream",
     "text": [
      "/kaggle/input/slimpajama-train-chunk1-sel/merged_df_sel150_600_1324132.csv\n",
      "/kaggle/input/human-vs-llm-text-corpus/distribution.parquet\n",
      "/kaggle/input/human-vs-llm-text-corpus/data.parquet\n",
      "/kaggle/input/human-vs-llm-text-corpus/distribution.csv\n",
      "/kaggle/input/human-vs-llm-text-corpus/prompts.csv\n",
      "/kaggle/input/human-vs-llm-text-corpus/data.csv\n",
      "/kaggle/input/human-vs-llm-text-corpus/prompts.parquet\n",
      "/kaggle/input/splitted-800k-llm-ai-detected-text/data.parquet\n",
      "/kaggle/input/splitted-800k-llm-ai-detected-text/split_text_simple_512.csv\n",
      "/kaggle/input/splitted-800k-llm-ai-detected-text/132w_dataset.csv\n",
      "/kaggle/input/splitted-800k-llm-ai-detected-text/30w_wiki_dataset.csv\n",
      "/kaggle/input/splitted-800k-llm-ai-detected-text/split_text_improved_512.csv\n",
      "/kaggle/input/splitted-800k-llm-ai-detected-text/data.csv\n"
     ]
    }
   ],
   "source": [
    "# This Python 3 environment comes with many helpful analytics libraries installed\n",
    "# It is defined by the kaggle/python Docker image: https://github.com/kaggle/docker-python\n",
    "# For example, here\"s several helpful packages to load\n",
    "\n",
    "import numpy as np # linear algebra\n",
    "import pandas as pd # data processing, CSV file I/O (e.g. pd.read_csv)\n",
    "\n",
    "# Input data files are available in the read-only \"../input/\" directory\n",
    "# For example, running this (by clicking run or pressing Shift+Enter) will list all files under the input directory\n",
    "\n",
    "import os\n",
    "for dirname, _, filenames in os.walk(\"/kaggle/input\"):\n",
    "    for filename in filenames:\n",
    "        print(os.path.join(dirname, filename))\n",
    "\n",
    "# You can write up to 20GB to the current directory (/kaggle/working/) that gets preserved as output when you create a version using \"Save & Run All\" \n",
    "# You can also write temporary files to /kaggle/temp/, but they won\"t be saved outside of the current session"
   ]
  },
  {
   "cell_type": "code",
   "execution_count": 2,
   "id": "28abb35b",
   "metadata": {
    "execution": {
     "iopub.execute_input": "2024-01-12T03:54:03.541724Z",
     "iopub.status.busy": "2024-01-12T03:54:03.541115Z",
     "iopub.status.idle": "2024-01-12T03:58:53.538051Z",
     "shell.execute_reply": "2024-01-12T03:58:53.535041Z"
    },
    "papermill": {
     "duration": 290.004178,
     "end_time": "2024-01-12T03:58:53.541435",
     "exception": false,
     "start_time": "2024-01-12T03:54:03.537257",
     "status": "completed"
    },
    "tags": []
   },
   "outputs": [],
   "source": [
    "import pandas as pd\n",
    "\n",
    "df_132w = pd.read_csv(\"/kaggle/input/slimpajama-train-chunk1-sel/merged_df_sel150_600_1324132.csv\")\n",
    "df_80w = pd.read_parquet(\"/kaggle/input/human-vs-llm-text-corpus/data.parquet\")\n",
    "df_30w = pd.read_csv(\"/kaggle/input/splitted-800k-llm-ai-detected-text/30w_wiki_dataset.csv\")\n",
    "df_80w_simple_512 = pd.read_csv(\"/kaggle/input/splitted-800k-llm-ai-detected-text/split_text_simple_512.csv\")\n",
    "df_80w_improved_512 = pd.read_csv(\"/kaggle/input/splitted-800k-llm-ai-detected-text/split_text_improved_512.csv\")\n",
    "\n",
    "\n",
    "df_80w.rename(columns={\"source\": \"label\"}, inplace=True)\n",
    "df_80w = df_80w[[\"text\", \"label\"]]\n",
    "df_80w[\"label\"] = df_80w[\"label\"].apply(lambda x: 0 if x == \"Human\" else 1)\n",
    "\n",
    "df_80w_simple_512.rename(columns={\"source\": \"label\"}, inplace=True)\n",
    "df_80w_simple_512 = df_80w_simple_512[[\"text\", \"label\"]]\n",
    "df_80w_simple_512[\"label\"] = df_80w_simple_512[\"label\"].apply(lambda x: 0 if x == \"Human\" else 1)\n",
    "\n",
    "df_80w_improved_512.rename(columns={\"source\": \"label\"}, inplace=True)\n",
    "df_80w_improved_512 = df_80w_improved_512[[\"text\", \"label\"]]\n",
    "df_80w_improved_512[\"label\"] = df_80w_improved_512[\"label\"].apply(lambda x: 0 if x == \"Human\" else 1)\n",
    "\n",
    "df_132w[\"label\"] = df_132w[\"label\"].apply(lambda x: 0 if x == 1 else 0)\n",
    "df_132w = df_132w[[\"text\", \"label\"]]\n",
    "\n",
    "df_30w = df_30w[[\"text\", \"label\"]]"
   ]
  },
  {
   "cell_type": "code",
   "execution_count": null,
   "id": "cf6c8521",
   "metadata": {},
   "outputs": [],
   "source": [
    "df_30w.reset_index(drop=True, inplace=True)\n",
    "df_30w.to_parquet(\"30w_dataset.parquet\", index=False)\n",
    "df_30w.head()\n",
    "\n",
    "df_80w.reset_index(drop=True, inplace=True)\n",
    "df_80w.to_parquet(\"80w_dataset.parquet\", index=False)\n",
    "df_80w.head()\n",
    "\n",
    "df_80w_simple_512.reset_index(drop=True, inplace=True)\n",
    "df_80w_simple_512.to_parquet(\"80w_simple_512_dataset.parquet\", index=False)\n",
    "df_80w_simple_512.head()\n",
    "\n",
    "df_80w_improved_512.reset_index(drop=True, inplace=True)\n",
    "df_80w_improved_512.to_parquet(\"80w_improved_512_dataset.parquet\", index=False)\n",
    "df_80w_improved_512.head()\n",
    "\n",
    "df_212w = pd.concat([df_132w, df_80w])\n",
    "df_212w.reset_index(drop=True, inplace=True)\n",
    "df_212w.to_parquet(\"212w_dataset.parquet\", index=False)\n",
    "df_212w.head()\n",
    "\n",
    "df_110w = pd.concat([df_80w, df_30w])\n",
    "df_110w.reset_index(drop=True, inplace=True)\n",
    "df_110w.to_parquet(\"110w_dataset.parquet\", index=False)\n",
    "\n",
    "df_242w = pd.concat([df_80w, df_30w, df_132w])\n",
    "df_242w.reset_index(drop=True, inplace=True)\n",
    "df_242w.to_parquet(\"242w_dataset.parquet\", index=False)"
   ]
  },
  {
   "cell_type": "code",
   "execution_count": 3,
   "id": "0cff17c4",
   "metadata": {
    "execution": {
     "iopub.execute_input": "2024-01-12T03:58:53.552185Z",
     "iopub.status.busy": "2024-01-12T03:58:53.551467Z",
     "iopub.status.idle": "2024-01-12T03:58:53.567259Z",
     "shell.execute_reply": "2024-01-12T03:58:53.566554Z"
    },
    "papermill": {
     "duration": 0.023751,
     "end_time": "2024-01-12T03:58:53.569993",
     "exception": false,
     "start_time": "2024-01-12T03:58:53.546242",
     "status": "completed"
    },
    "tags": []
   },
   "outputs": [
    {
     "data": {
      "text/plain": [
       "label\n",
       "0    150000\n",
       "1    150000\n",
       "Name: count, dtype: int64"
      ]
     },
     "execution_count": 3,
     "metadata": {},
     "output_type": "execute_result"
    }
   ],
   "source": [
    "df_30w[\"label\"].value_counts()"
   ]
  },
  {
   "cell_type": "code",
   "execution_count": 4,
   "id": "bbcdb955",
   "metadata": {
    "execution": {
     "iopub.execute_input": "2024-01-12T03:58:53.577744Z",
     "iopub.status.busy": "2024-01-12T03:58:53.577262Z",
     "iopub.status.idle": "2024-01-12T03:58:53.590675Z",
     "shell.execute_reply": "2024-01-12T03:58:53.590024Z"
    },
    "papermill": {
     "duration": 0.019342,
     "end_time": "2024-01-12T03:58:53.592494",
     "exception": false,
     "start_time": "2024-01-12T03:58:53.573152",
     "status": "completed"
    },
    "tags": []
   },
   "outputs": [
    {
     "data": {
      "text/plain": [
       "label\n",
       "1    441230\n",
       "0    347692\n",
       "Name: count, dtype: int64"
      ]
     },
     "execution_count": 4,
     "metadata": {},
     "output_type": "execute_result"
    }
   ],
   "source": [
    "df_80w[\"label\"].value_counts()"
   ]
  },
  {
   "cell_type": "code",
   "execution_count": 5,
   "id": "dc8ab064",
   "metadata": {
    "execution": {
     "iopub.execute_input": "2024-01-12T03:58:53.600994Z",
     "iopub.status.busy": "2024-01-12T03:58:53.600555Z",
     "iopub.status.idle": "2024-01-12T03:58:53.618804Z",
     "shell.execute_reply": "2024-01-12T03:58:53.617454Z"
    },
    "papermill": {
     "duration": 0.025547,
     "end_time": "2024-01-12T03:58:53.621341",
     "exception": false,
     "start_time": "2024-01-12T03:58:53.595794",
     "status": "completed"
    },
    "tags": []
   },
   "outputs": [
    {
     "data": {
      "text/plain": [
       "label\n",
       "1    591230\n",
       "0    497692\n",
       "Name: count, dtype: int64"
      ]
     },
     "execution_count": 5,
     "metadata": {},
     "output_type": "execute_result"
    }
   ],
   "source": [
    "df_110w[\"label\"].value_counts()"
   ]
  },
  {
   "cell_type": "code",
   "execution_count": 6,
   "id": "0cce183f",
   "metadata": {
    "execution": {
     "iopub.execute_input": "2024-01-12T03:58:53.629205Z",
     "iopub.status.busy": "2024-01-12T03:58:53.628882Z",
     "iopub.status.idle": "2024-01-12T03:58:53.659063Z",
     "shell.execute_reply": "2024-01-12T03:58:53.657949Z"
    },
    "papermill": {
     "duration": 0.036373,
     "end_time": "2024-01-12T03:58:53.661102",
     "exception": false,
     "start_time": "2024-01-12T03:58:53.624729",
     "status": "completed"
    },
    "tags": []
   },
   "outputs": [
    {
     "data": {
      "text/plain": [
       "label\n",
       "0    1671824\n",
       "1     441230\n",
       "Name: count, dtype: int64"
      ]
     },
     "execution_count": 6,
     "metadata": {},
     "output_type": "execute_result"
    }
   ],
   "source": [
    "df_212w[\"label\"].value_counts()"
   ]
  },
  {
   "cell_type": "code",
   "execution_count": 7,
   "id": "81ced715",
   "metadata": {
    "execution": {
     "iopub.execute_input": "2024-01-12T03:58:53.668959Z",
     "iopub.status.busy": "2024-01-12T03:58:53.668601Z",
     "iopub.status.idle": "2024-01-12T03:58:53.700396Z",
     "shell.execute_reply": "2024-01-12T03:58:53.698961Z"
    },
    "papermill": {
     "duration": 0.038654,
     "end_time": "2024-01-12T03:58:53.703077",
     "exception": false,
     "start_time": "2024-01-12T03:58:53.664423",
     "status": "completed"
    },
    "tags": []
   },
   "outputs": [
    {
     "data": {
      "text/plain": [
       "label\n",
       "0    1821824\n",
       "1     591230\n",
       "Name: count, dtype: int64"
      ]
     },
     "execution_count": 7,
     "metadata": {},
     "output_type": "execute_result"
    }
   ],
   "source": [
    "df_242w[\"label\"].value_counts()"
   ]
  },
  {
   "cell_type": "code",
   "execution_count": 8,
   "id": "226197b9",
   "metadata": {
    "execution": {
     "iopub.execute_input": "2024-01-12T03:58:53.711584Z",
     "iopub.status.busy": "2024-01-12T03:58:53.711210Z",
     "iopub.status.idle": "2024-01-12T03:58:53.731684Z",
     "shell.execute_reply": "2024-01-12T03:58:53.730643Z"
    },
    "papermill": {
     "duration": 0.027246,
     "end_time": "2024-01-12T03:58:53.733971",
     "exception": false,
     "start_time": "2024-01-12T03:58:53.706725",
     "status": "completed"
    },
    "tags": []
   },
   "outputs": [
    {
     "data": {
      "text/plain": [
       "label\n",
       "0    768551\n",
       "1    595266\n",
       "Name: count, dtype: int64"
      ]
     },
     "execution_count": 8,
     "metadata": {},
     "output_type": "execute_result"
    }
   ],
   "source": [
    "df_80w_simple_512[\"label\"].value_counts()"
   ]
  },
  {
   "cell_type": "code",
   "execution_count": 9,
   "id": "ff639607",
   "metadata": {
    "execution": {
     "iopub.execute_input": "2024-01-12T03:58:53.742222Z",
     "iopub.status.busy": "2024-01-12T03:58:53.741833Z",
     "iopub.status.idle": "2024-01-12T03:58:53.762954Z",
     "shell.execute_reply": "2024-01-12T03:58:53.761937Z"
    },
    "papermill": {
     "duration": 0.027664,
     "end_time": "2024-01-12T03:58:53.765154",
     "exception": false,
     "start_time": "2024-01-12T03:58:53.737490",
     "status": "completed"
    },
    "tags": []
   },
   "outputs": [
    {
     "data": {
      "text/plain": [
       "label\n",
       "0    773426\n",
       "1    593272\n",
       "Name: count, dtype: int64"
      ]
     },
     "execution_count": 9,
     "metadata": {},
     "output_type": "execute_result"
    }
   ],
   "source": [
    "df_80w_improved_512[\"label\"].value_counts()"
   ]
  }
 ],
 "metadata": {
  "kaggle": {
   "accelerator": "none",
   "dataSources": [
    {
     "datasetId": 4287904,
     "sourceId": 7378735,
     "sourceType": "datasetVersion"
    },
    {
     "datasetId": 4292774,
     "sourceId": 7385558,
     "sourceType": "datasetVersion"
    },
    {
     "datasetId": 4292458,
     "sourceId": 7386924,
     "sourceType": "datasetVersion"
    }
   ],
   "dockerImageVersionId": 30635,
   "isGpuEnabled": false,
   "isInternetEnabled": true,
   "language": "python",
   "sourceType": "notebook"
  },
  "kernelspec": {
   "display_name": "Python 3",
   "language": "python",
   "name": "python3"
  },
  "language_info": {
   "codemirror_mode": {
    "name": "ipython",
    "version": 3
   },
   "file_extension": ".py",
   "mimetype": "text/x-python",
   "name": "python",
   "nbconvert_exporter": "python",
   "pygments_lexer": "ipython3",
   "version": "3.10.12"
  },
  "papermill": {
   "default_parameters": {},
   "duration": 297.224197,
   "end_time": "2024-01-12T03:58:57.882606",
   "environment_variables": {},
   "exception": null,
   "input_path": "__notebook__.ipynb",
   "output_path": "__notebook__.ipynb",
   "parameters": {},
   "start_time": "2024-01-12T03:54:00.658409",
   "version": "2.4.0"
  }
 },
 "nbformat": 4,
 "nbformat_minor": 5
}
