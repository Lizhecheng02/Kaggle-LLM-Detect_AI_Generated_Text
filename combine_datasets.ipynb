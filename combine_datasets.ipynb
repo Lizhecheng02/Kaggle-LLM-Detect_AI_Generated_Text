{
 "cells": [
  {
   "cell_type": "code",
   "execution_count": 1,
   "id": "f165f83a",
   "metadata": {
    "_cell_guid": "b1076dfc-b9ad-4769-8c92-a6c4dae69d19",
    "_uuid": "8f2839f25d086af736a60e9eeb907d3b93b6e0e5",
    "execution": {
     "iopub.execute_input": "2024-01-12T06:44:02.919504Z",
     "iopub.status.busy": "2024-01-12T06:44:02.918408Z",
     "iopub.status.idle": "2024-01-12T06:44:03.462013Z",
     "shell.execute_reply": "2024-01-12T06:44:03.460218Z"
    },
    "papermill": {
     "duration": 0.55389,
     "end_time": "2024-01-12T06:44:03.465600",
     "exception": false,
     "start_time": "2024-01-12T06:44:02.911710",
     "status": "completed"
    },
    "tags": []
   },
   "outputs": [
    {
     "name": "stdout",
     "output_type": "stream",
     "text": [
      "/kaggle/input/human-vs-llm-text-corpus/distribution.parquet\n",
      "/kaggle/input/human-vs-llm-text-corpus/data.parquet\n",
      "/kaggle/input/human-vs-llm-text-corpus/distribution.csv\n",
      "/kaggle/input/human-vs-llm-text-corpus/prompts.csv\n",
      "/kaggle/input/human-vs-llm-text-corpus/data.csv\n",
      "/kaggle/input/human-vs-llm-text-corpus/prompts.parquet\n",
      "/kaggle/input/splitted-800k-llm-ai-detected-text/data.parquet\n",
      "/kaggle/input/splitted-800k-llm-ai-detected-text/split_text_simple_512.csv\n",
      "/kaggle/input/splitted-800k-llm-ai-detected-text/132w_dataset.csv\n",
      "/kaggle/input/splitted-800k-llm-ai-detected-text/30w_wiki_dataset.csv\n",
      "/kaggle/input/splitted-800k-llm-ai-detected-text/split_text_improved_512.csv\n",
      "/kaggle/input/splitted-800k-llm-ai-detected-text/data.csv\n",
      "/kaggle/input/slimpajama-train-chunk1-sel/merged_df_sel150_600_1324132.csv\n"
     ]
    }
   ],
   "source": [
    "# This Python 3 environment comes with many helpful analytics libraries installed\n",
    "# It is defined by the kaggle/python Docker image: https://github.com/kaggle/docker-python\n",
    "# For example, here's several helpful packages to load\n",
    "\n",
    "import numpy as np # linear algebra\n",
    "import pandas as pd # data processing, CSV file I/O (e.g. pd.read_csv)\n",
    "\n",
    "# Input data files are available in the read-only \"../input/\" directory\n",
    "# For example, running this (by clicking run or pressing Shift+Enter) will list all files under the input directory\n",
    "\n",
    "import os\n",
    "for dirname, _, filenames in os.walk('/kaggle/input'):\n",
    "    for filename in filenames:\n",
    "        print(os.path.join(dirname, filename))\n",
    "\n",
    "# You can write up to 20GB to the current directory (/kaggle/working/) that gets preserved as output when you create a version using \"Save & Run All\" \n",
    "# You can also write temporary files to /kaggle/temp/, but they won't be saved outside of the current session"
   ]
  },
  {
   "cell_type": "code",
   "execution_count": 2,
   "id": "5e9831ef",
   "metadata": {
    "execution": {
     "iopub.execute_input": "2024-01-12T06:44:03.477871Z",
     "iopub.status.busy": "2024-01-12T06:44:03.477009Z",
     "iopub.status.idle": "2024-01-12T06:51:40.604533Z",
     "shell.execute_reply": "2024-01-12T06:51:40.601572Z"
    },
    "papermill": {
     "duration": 457.140939,
     "end_time": "2024-01-12T06:51:40.611567",
     "exception": false,
     "start_time": "2024-01-12T06:44:03.470628",
     "status": "completed"
    },
    "tags": []
   },
   "outputs": [],
   "source": [
    "import pandas as pd\n",
    "\n",
    "df_132w = pd.read_csv(\"/kaggle/input/slimpajama-train-chunk1-sel/merged_df_sel150_600_1324132.csv\")\n",
    "df_80w = pd.read_parquet(\"/kaggle/input/human-vs-llm-text-corpus/data.parquet\")\n",
    "df_30w = pd.read_csv(\"/kaggle/input/splitted-800k-llm-ai-detected-text/30w_wiki_dataset.csv\")\n",
    "df_80w_simple_512 = pd.read_csv(\"/kaggle/input/splitted-800k-llm-ai-detected-text/split_text_simple_512.csv\")\n",
    "df_80w_improved_512 = pd.read_csv(\"/kaggle/input/splitted-800k-llm-ai-detected-text/split_text_improved_512.csv\")\n",
    "\n",
    "\n",
    "df_80w.rename(columns={\"source\": \"label\"}, inplace=True)\n",
    "df_80w = df_80w[[\"text\", \"label\"]]\n",
    "df_80w[\"label\"] = df_80w[\"label\"].apply(lambda x: 0 if x == \"Human\" else 1)\n",
    "\n",
    "df_80w_simple_512.rename(columns={\"source\": \"label\"}, inplace=True)\n",
    "df_80w_simple_512 = df_80w_simple_512[[\"text\", \"label\"]]\n",
    "df_80w_simple_512[\"label\"] = df_80w_simple_512[\"label\"].apply(lambda x: 0 if x == \"Human\" else 1)\n",
    "\n",
    "df_80w_improved_512.rename(columns={\"source\": \"label\"}, inplace=True)\n",
    "df_80w_improved_512 = df_80w_improved_512[[\"text\", \"label\"]]\n",
    "df_80w_improved_512[\"label\"] = df_80w_improved_512[\"label\"].apply(lambda x: 0 if x == \"Human\" else 1)\n",
    "\n",
    "df_132w[\"label\"] = df_132w[\"label\"].apply(lambda x: 0 if x == 1 else 0)\n",
    "df_132w = df_132w[[\"text\", \"label\"]]\n",
    "\n",
    "df_30w = df_30w[[\"text\", \"label\"]]\n",
    "\n",
    "df_30w.reset_index(drop=True, inplace=True)\n",
    "df_30w.to_parquet(\"30w_dataset.parquet\", index=False)\n",
    "df_30w.head()\n",
    "\n",
    "df_80w.reset_index(drop=True, inplace=True)\n",
    "df_80w.to_parquet(\"80w_dataset.parquet\", index=False)\n",
    "df_80w.head()\n",
    "\n",
    "df_80w_simple_512.reset_index(drop=True, inplace=True)\n",
    "df_80w_simple_512.to_parquet(\"80w_simple_512_dataset.parquet\", index=False)\n",
    "df_80w_simple_512.head()\n",
    "\n",
    "df_80w_improved_512.reset_index(drop=True, inplace=True)\n",
    "df_80w_improved_512.to_parquet(\"80w_improved_512_dataset.parquet\", index=False)\n",
    "df_80w_improved_512.head()\n",
    "\n",
    "df_212w = pd.concat([df_132w, df_80w])\n",
    "df_212w.reset_index(drop=True, inplace=True)\n",
    "df_212w.to_parquet(\"212w_dataset.parquet\", index=False)\n",
    "df_212w.head()\n",
    "\n",
    "df_110w = pd.concat([df_80w, df_30w])\n",
    "df_110w.reset_index(drop=True, inplace=True)\n",
    "df_110w.to_parquet(\"110w_dataset.parquet\", index=False)\n",
    "\n",
    "df_242w = pd.concat([df_80w, df_30w, df_132w])\n",
    "df_242w.reset_index(drop=True, inplace=True)\n",
    "df_242w.to_parquet(\"242w_dataset.parquet\", index=False)\n",
    "\n",
    "df_242w = df_242w.drop_duplicates(subset=[\"text\"])\n",
    "train_label_0 = df_242w[df_242w[\"label\"] == 0]\n",
    "train_label_1 = df_242w[df_242w[\"label\"] == 1]\n",
    "num_sample = min(len(train_label_0), len(train_label_1))\n",
    "train_label_0 = train_label_0.sample(num_sample)\n",
    "train_label_1 = train_label_1.sample(num_sample)\n",
    "df_242w_balanced = pd.concat([train_label_0, train_label_1])\n",
    "df_242w_balanced = df_242w_balanced.sample(len(df_242w_balanced))\n",
    "df_242w_balanced.reset_index(drop=True, inplace=True)\n",
    "df_242w_balanced.to_parquet(\"242w_dataset_balanced_120w.parquet\", index=False)"
   ]
  },
  {
   "cell_type": "code",
   "execution_count": 3,
   "id": "65fd886c",
   "metadata": {
    "execution": {
     "iopub.execute_input": "2024-01-12T06:51:40.637691Z",
     "iopub.status.busy": "2024-01-12T06:51:40.636154Z",
     "iopub.status.idle": "2024-01-12T06:51:40.659570Z",
     "shell.execute_reply": "2024-01-12T06:51:40.657729Z"
    },
    "papermill": {
     "duration": 0.035581,
     "end_time": "2024-01-12T06:51:40.663724",
     "exception": false,
     "start_time": "2024-01-12T06:51:40.628143",
     "status": "completed"
    },
    "tags": []
   },
   "outputs": [
    {
     "data": {
      "text/plain": [
       "label\n",
       "0    150000\n",
       "1    150000\n",
       "Name: count, dtype: int64"
      ]
     },
     "execution_count": 3,
     "metadata": {},
     "output_type": "execute_result"
    }
   ],
   "source": [
    "df_30w[\"label\"].value_counts()"
   ]
  },
  {
   "cell_type": "code",
   "execution_count": 4,
   "id": "a00426d8",
   "metadata": {
    "execution": {
     "iopub.execute_input": "2024-01-12T06:51:40.677521Z",
     "iopub.status.busy": "2024-01-12T06:51:40.676798Z",
     "iopub.status.idle": "2024-01-12T06:51:40.699248Z",
     "shell.execute_reply": "2024-01-12T06:51:40.697653Z"
    },
    "papermill": {
     "duration": 0.034424,
     "end_time": "2024-01-12T06:51:40.703520",
     "exception": false,
     "start_time": "2024-01-12T06:51:40.669096",
     "status": "completed"
    },
    "tags": []
   },
   "outputs": [
    {
     "data": {
      "text/plain": [
       "label\n",
       "1    441230\n",
       "0    347692\n",
       "Name: count, dtype: int64"
      ]
     },
     "execution_count": 4,
     "metadata": {},
     "output_type": "execute_result"
    }
   ],
   "source": [
    "df_80w[\"label\"].value_counts()"
   ]
  },
  {
   "cell_type": "code",
   "execution_count": 5,
   "id": "e6f4d9e9",
   "metadata": {
    "execution": {
     "iopub.execute_input": "2024-01-12T06:51:40.719245Z",
     "iopub.status.busy": "2024-01-12T06:51:40.716827Z",
     "iopub.status.idle": "2024-01-12T06:51:40.739958Z",
     "shell.execute_reply": "2024-01-12T06:51:40.738303Z"
    },
    "papermill": {
     "duration": 0.034491,
     "end_time": "2024-01-12T06:51:40.743626",
     "exception": false,
     "start_time": "2024-01-12T06:51:40.709135",
     "status": "completed"
    },
    "tags": []
   },
   "outputs": [
    {
     "data": {
      "text/plain": [
       "label\n",
       "1    591230\n",
       "0    497692\n",
       "Name: count, dtype: int64"
      ]
     },
     "execution_count": 5,
     "metadata": {},
     "output_type": "execute_result"
    }
   ],
   "source": [
    "df_110w[\"label\"].value_counts()"
   ]
  },
  {
   "cell_type": "code",
   "execution_count": 6,
   "id": "f720fc35",
   "metadata": {
    "execution": {
     "iopub.execute_input": "2024-01-12T06:51:40.760709Z",
     "iopub.status.busy": "2024-01-12T06:51:40.758943Z",
     "iopub.status.idle": "2024-01-12T06:51:40.797749Z",
     "shell.execute_reply": "2024-01-12T06:51:40.796204Z"
    },
    "papermill": {
     "duration": 0.051621,
     "end_time": "2024-01-12T06:51:40.801674",
     "exception": false,
     "start_time": "2024-01-12T06:51:40.750053",
     "status": "completed"
    },
    "tags": []
   },
   "outputs": [
    {
     "data": {
      "text/plain": [
       "label\n",
       "0    1671824\n",
       "1     441230\n",
       "Name: count, dtype: int64"
      ]
     },
     "execution_count": 6,
     "metadata": {},
     "output_type": "execute_result"
    }
   ],
   "source": [
    "df_212w[\"label\"].value_counts()"
   ]
  },
  {
   "cell_type": "code",
   "execution_count": 7,
   "id": "dd78e833",
   "metadata": {
    "execution": {
     "iopub.execute_input": "2024-01-12T06:51:40.817216Z",
     "iopub.status.busy": "2024-01-12T06:51:40.816694Z",
     "iopub.status.idle": "2024-01-12T06:51:40.854487Z",
     "shell.execute_reply": "2024-01-12T06:51:40.852851Z"
    },
    "papermill": {
     "duration": 0.050246,
     "end_time": "2024-01-12T06:51:40.858273",
     "exception": false,
     "start_time": "2024-01-12T06:51:40.808027",
     "status": "completed"
    },
    "tags": []
   },
   "outputs": [
    {
     "data": {
      "text/plain": [
       "label\n",
       "0    1820790\n",
       "1     591229\n",
       "Name: count, dtype: int64"
      ]
     },
     "execution_count": 7,
     "metadata": {},
     "output_type": "execute_result"
    }
   ],
   "source": [
    "df_242w[\"label\"].value_counts()"
   ]
  },
  {
   "cell_type": "code",
   "execution_count": 8,
   "id": "741e0fcf",
   "metadata": {
    "execution": {
     "iopub.execute_input": "2024-01-12T06:51:40.874065Z",
     "iopub.status.busy": "2024-01-12T06:51:40.873520Z",
     "iopub.status.idle": "2024-01-12T06:51:40.901604Z",
     "shell.execute_reply": "2024-01-12T06:51:40.899485Z"
    },
    "papermill": {
     "duration": 0.040282,
     "end_time": "2024-01-12T06:51:40.905065",
     "exception": false,
     "start_time": "2024-01-12T06:51:40.864783",
     "status": "completed"
    },
    "tags": []
   },
   "outputs": [
    {
     "data": {
      "text/plain": [
       "label\n",
       "0    768551\n",
       "1    595266\n",
       "Name: count, dtype: int64"
      ]
     },
     "execution_count": 8,
     "metadata": {},
     "output_type": "execute_result"
    }
   ],
   "source": [
    "df_80w_simple_512[\"label\"].value_counts()"
   ]
  },
  {
   "cell_type": "code",
   "execution_count": 9,
   "id": "0b16bb0e",
   "metadata": {
    "execution": {
     "iopub.execute_input": "2024-01-12T06:51:40.921905Z",
     "iopub.status.busy": "2024-01-12T06:51:40.920566Z",
     "iopub.status.idle": "2024-01-12T06:51:40.947935Z",
     "shell.execute_reply": "2024-01-12T06:51:40.945845Z"
    },
    "papermill": {
     "duration": 0.040196,
     "end_time": "2024-01-12T06:51:40.952169",
     "exception": false,
     "start_time": "2024-01-12T06:51:40.911973",
     "status": "completed"
    },
    "tags": []
   },
   "outputs": [
    {
     "data": {
      "text/plain": [
       "label\n",
       "0    773426\n",
       "1    593272\n",
       "Name: count, dtype: int64"
      ]
     },
     "execution_count": 9,
     "metadata": {},
     "output_type": "execute_result"
    }
   ],
   "source": [
    "df_80w_improved_512[\"label\"].value_counts()"
   ]
  },
  {
   "cell_type": "code",
   "execution_count": 10,
   "id": "3752e029",
   "metadata": {
    "execution": {
     "iopub.execute_input": "2024-01-12T06:51:40.968597Z",
     "iopub.status.busy": "2024-01-12T06:51:40.968091Z",
     "iopub.status.idle": "2024-01-12T06:51:40.996429Z",
     "shell.execute_reply": "2024-01-12T06:51:40.994422Z"
    },
    "papermill": {
     "duration": 0.040784,
     "end_time": "2024-01-12T06:51:41.000555",
     "exception": false,
     "start_time": "2024-01-12T06:51:40.959771",
     "status": "completed"
    },
    "tags": []
   },
   "outputs": [
    {
     "data": {
      "text/plain": [
       "label\n",
       "1    591229\n",
       "0    591229\n",
       "Name: count, dtype: int64"
      ]
     },
     "execution_count": 10,
     "metadata": {},
     "output_type": "execute_result"
    }
   ],
   "source": [
    "df_242w_balanced[\"label\"].value_counts()"
   ]
  }
 ],
 "metadata": {
  "kaggle": {
   "accelerator": "none",
   "dataSources": [
    {
     "datasetId": 4287904,
     "sourceId": 7378735,
     "sourceType": "datasetVersion"
    },
    {
     "datasetId": 4292774,
     "sourceId": 7385558,
     "sourceType": "datasetVersion"
    },
    {
     "datasetId": 4292458,
     "sourceId": 7386924,
     "sourceType": "datasetVersion"
    }
   ],
   "dockerImageVersionId": 30635,
   "isGpuEnabled": false,
   "isInternetEnabled": true,
   "language": "python",
   "sourceType": "notebook"
  },
  "kernelspec": {
   "display_name": "Python 3",
   "language": "python",
   "name": "python3"
  },
  "language_info": {
   "codemirror_mode": {
    "name": "ipython",
    "version": 3
   },
   "file_extension": ".py",
   "mimetype": "text/x-python",
   "name": "python",
   "nbconvert_exporter": "python",
   "pygments_lexer": "ipython3",
   "version": "3.10.12"
  },
  "papermill": {
   "default_parameters": {},
   "duration": 466.325896,
   "end_time": "2024-01-12T06:51:45.145221",
   "environment_variables": {},
   "exception": null,
   "input_path": "__notebook__.ipynb",
   "output_path": "__notebook__.ipynb",
   "parameters": {},
   "start_time": "2024-01-12T06:43:58.819325",
   "version": "2.4.0"
  }
 },
 "nbformat": 4,
 "nbformat_minor": 5
}
