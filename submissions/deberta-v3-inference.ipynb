{
 "cells": [
  {
   "cell_type": "code",
   "execution_count": 1,
   "id": "4c8b38b3",
   "metadata": {
    "_cell_guid": "b1076dfc-b9ad-4769-8c92-a6c4dae69d19",
    "_uuid": "8f2839f25d086af736a60e9eeb907d3b93b6e0e5",
    "execution": {
     "iopub.execute_input": "2024-01-13T00:19:25.689190Z",
     "iopub.status.busy": "2024-01-13T00:19:25.688724Z",
     "iopub.status.idle": "2024-01-13T00:19:26.415793Z",
     "shell.execute_reply": "2024-01-13T00:19:26.414811Z"
    },
    "papermill": {
     "duration": 0.734702,
     "end_time": "2024-01-13T00:19:26.418244",
     "exception": false,
     "start_time": "2024-01-13T00:19:25.683542",
     "status": "completed"
    },
    "tags": []
   },
   "outputs": [
    {
     "name": "stdout",
     "output_type": "stream",
     "text": [
      "/kaggle/input/deberta-v3-ai-generated/checkpoint-10000-base-50w-93-0112/config.json\n",
      "/kaggle/input/deberta-v3-ai-generated/checkpoint-10000-base-50w-93-0112/trainer_state.json\n",
      "/kaggle/input/deberta-v3-ai-generated/checkpoint-10000-base-50w-93-0112/training_args.bin\n",
      "/kaggle/input/deberta-v3-ai-generated/checkpoint-10000-base-50w-93-0112/scheduler.pt\n",
      "/kaggle/input/deberta-v3-ai-generated/checkpoint-10000-base-50w-93-0112/model.safetensors\n",
      "/kaggle/input/deberta-v3-ai-generated/checkpoint-10000-base-50w-93-0112/rng_state.pth\n",
      "/kaggle/input/deberta-v3-ai-generated/debertav3-base-tokenizer/spm.model\n",
      "/kaggle/input/deberta-v3-ai-generated/debertav3-base-tokenizer/config.json\n",
      "/kaggle/input/deberta-v3-ai-generated/debertav3-base-tokenizer/tokenizer_config.json\n",
      "/kaggle/input/llm-detect-ai-generated-text/sample_submission.csv\n",
      "/kaggle/input/llm-detect-ai-generated-text/train_prompts.csv\n",
      "/kaggle/input/llm-detect-ai-generated-text/test_essays.csv\n",
      "/kaggle/input/llm-detect-ai-generated-text/train_essays.csv\n"
     ]
    }
   ],
   "source": [
    "# This Python 3 environment comes with many helpful analytics libraries installed\n",
    "# It is defined by the kaggle/python Docker image: https://github.com/kaggle/docker-python\n",
    "# For example, here's several helpful packages to load\n",
    "\n",
    "import numpy as np # linear algebra\n",
    "import pandas as pd # data processing, CSV file I/O (e.g. pd.read_csv)\n",
    "\n",
    "# Input data files are available in the read-only \"../input/\" directory\n",
    "# For example, running this (by clicking run or pressing Shift+Enter) will list all files under the input directory\n",
    "\n",
    "import os\n",
    "for dirname, _, filenames in os.walk('/kaggle/input'):\n",
    "    for filename in filenames:\n",
    "        print(os.path.join(dirname, filename))\n",
    "\n",
    "# You can write up to 20GB to the current directory (/kaggle/working/) that gets preserved as output when you create a version using \"Save & Run All\" \n",
    "# You can also write temporary files to /kaggle/temp/, but they won't be saved outside of the current session"
   ]
  },
  {
   "cell_type": "code",
   "execution_count": 2,
   "id": "82b711de",
   "metadata": {
    "execution": {
     "iopub.execute_input": "2024-01-13T00:19:26.427159Z",
     "iopub.status.busy": "2024-01-13T00:19:26.426551Z",
     "iopub.status.idle": "2024-01-13T00:19:32.259427Z",
     "shell.execute_reply": "2024-01-13T00:19:32.258445Z"
    },
    "papermill": {
     "duration": 5.839596,
     "end_time": "2024-01-13T00:19:32.261885",
     "exception": false,
     "start_time": "2024-01-13T00:19:26.422289",
     "status": "completed"
    },
    "tags": []
   },
   "outputs": [],
   "source": [
    "from torch.nn.functional import softmax\n",
    "import torch\n",
    "from transformers import DebertaV2Tokenizer, DebertaV2ForSequenceClassification"
   ]
  },
  {
   "cell_type": "code",
   "execution_count": 3,
   "id": "be1f8152",
   "metadata": {
    "execution": {
     "iopub.execute_input": "2024-01-13T00:19:32.270424Z",
     "iopub.status.busy": "2024-01-13T00:19:32.269899Z",
     "iopub.status.idle": "2024-01-13T00:19:38.741122Z",
     "shell.execute_reply": "2024-01-13T00:19:38.740029Z"
    },
    "papermill": {
     "duration": 6.478087,
     "end_time": "2024-01-13T00:19:38.743592",
     "exception": false,
     "start_time": "2024-01-13T00:19:32.265505",
     "status": "completed"
    },
    "tags": []
   },
   "outputs": [],
   "source": [
    "tokenizer_path = \"/kaggle/input/deberta-v3-ai-generated/debertav3-base-tokenizer\"\n",
    "model_name = \"/kaggle/input/deberta-v3-ai-generated/checkpoint-10000-base-50w-93-0112\"\n",
    "tokenizer = DebertaV2Tokenizer.from_pretrained(tokenizer_path)\n",
    "model = DebertaV2ForSequenceClassification.from_pretrained(model_name)"
   ]
  },
  {
   "cell_type": "code",
   "execution_count": 4,
   "id": "a96bcd0c",
   "metadata": {
    "execution": {
     "iopub.execute_input": "2024-01-13T00:19:38.751781Z",
     "iopub.status.busy": "2024-01-13T00:19:38.751499Z",
     "iopub.status.idle": "2024-01-13T00:19:38.759569Z",
     "shell.execute_reply": "2024-01-13T00:19:38.758700Z"
    },
    "papermill": {
     "duration": 0.014352,
     "end_time": "2024-01-13T00:19:38.761561",
     "exception": false,
     "start_time": "2024-01-13T00:19:38.747209",
     "status": "completed"
    },
    "tags": []
   },
   "outputs": [
    {
     "data": {
      "text/plain": [
       "DebertaV2ForSequenceClassification(\n",
       "  (deberta): DebertaV2Model(\n",
       "    (embeddings): DebertaV2Embeddings(\n",
       "      (word_embeddings): Embedding(128100, 768, padding_idx=0)\n",
       "      (LayerNorm): LayerNorm((768,), eps=1e-07, elementwise_affine=True)\n",
       "      (dropout): StableDropout()\n",
       "    )\n",
       "    (encoder): DebertaV2Encoder(\n",
       "      (layer): ModuleList(\n",
       "        (0-11): 12 x DebertaV2Layer(\n",
       "          (attention): DebertaV2Attention(\n",
       "            (self): DisentangledSelfAttention(\n",
       "              (query_proj): Linear(in_features=768, out_features=768, bias=True)\n",
       "              (key_proj): Linear(in_features=768, out_features=768, bias=True)\n",
       "              (value_proj): Linear(in_features=768, out_features=768, bias=True)\n",
       "              (pos_dropout): StableDropout()\n",
       "              (dropout): StableDropout()\n",
       "            )\n",
       "            (output): DebertaV2SelfOutput(\n",
       "              (dense): Linear(in_features=768, out_features=768, bias=True)\n",
       "              (LayerNorm): LayerNorm((768,), eps=1e-07, elementwise_affine=True)\n",
       "              (dropout): StableDropout()\n",
       "            )\n",
       "          )\n",
       "          (intermediate): DebertaV2Intermediate(\n",
       "            (dense): Linear(in_features=768, out_features=3072, bias=True)\n",
       "            (intermediate_act_fn): GELUActivation()\n",
       "          )\n",
       "          (output): DebertaV2Output(\n",
       "            (dense): Linear(in_features=3072, out_features=768, bias=True)\n",
       "            (LayerNorm): LayerNorm((768,), eps=1e-07, elementwise_affine=True)\n",
       "            (dropout): StableDropout()\n",
       "          )\n",
       "        )\n",
       "      )\n",
       "      (rel_embeddings): Embedding(512, 768)\n",
       "      (LayerNorm): LayerNorm((768,), eps=1e-07, elementwise_affine=True)\n",
       "    )\n",
       "  )\n",
       "  (pooler): ContextPooler(\n",
       "    (dense): Linear(in_features=768, out_features=768, bias=True)\n",
       "    (dropout): StableDropout()\n",
       "  )\n",
       "  (classifier): Linear(in_features=768, out_features=2, bias=True)\n",
       "  (dropout): StableDropout()\n",
       ")"
      ]
     },
     "execution_count": 4,
     "metadata": {},
     "output_type": "execute_result"
    }
   ],
   "source": [
    "model"
   ]
  },
  {
   "cell_type": "code",
   "execution_count": 5,
   "id": "29784d20",
   "metadata": {
    "execution": {
     "iopub.execute_input": "2024-01-13T00:19:38.769461Z",
     "iopub.status.busy": "2024-01-13T00:19:38.769223Z",
     "iopub.status.idle": "2024-01-13T00:19:38.798486Z",
     "shell.execute_reply": "2024-01-13T00:19:38.797681Z"
    },
    "papermill": {
     "duration": 0.035364,
     "end_time": "2024-01-13T00:19:38.800427",
     "exception": false,
     "start_time": "2024-01-13T00:19:38.765063",
     "status": "completed"
    },
    "tags": []
   },
   "outputs": [
    {
     "data": {
      "text/html": [
       "<div>\n",
       "<style scoped>\n",
       "    .dataframe tbody tr th:only-of-type {\n",
       "        vertical-align: middle;\n",
       "    }\n",
       "\n",
       "    .dataframe tbody tr th {\n",
       "        vertical-align: top;\n",
       "    }\n",
       "\n",
       "    .dataframe thead th {\n",
       "        text-align: right;\n",
       "    }\n",
       "</style>\n",
       "<table border=\"1\" class=\"dataframe\">\n",
       "  <thead>\n",
       "    <tr style=\"text-align: right;\">\n",
       "      <th></th>\n",
       "      <th>id</th>\n",
       "      <th>prompt_id</th>\n",
       "      <th>text</th>\n",
       "    </tr>\n",
       "  </thead>\n",
       "  <tbody>\n",
       "    <tr>\n",
       "      <th>0</th>\n",
       "      <td>0000aaaa</td>\n",
       "      <td>2</td>\n",
       "      <td>Aaa bbb ccc.</td>\n",
       "    </tr>\n",
       "    <tr>\n",
       "      <th>1</th>\n",
       "      <td>1111bbbb</td>\n",
       "      <td>3</td>\n",
       "      <td>Bbb ccc ddd.</td>\n",
       "    </tr>\n",
       "    <tr>\n",
       "      <th>2</th>\n",
       "      <td>2222cccc</td>\n",
       "      <td>4</td>\n",
       "      <td>CCC ddd eee.</td>\n",
       "    </tr>\n",
       "  </tbody>\n",
       "</table>\n",
       "</div>"
      ],
      "text/plain": [
       "         id  prompt_id          text\n",
       "0  0000aaaa          2  Aaa bbb ccc.\n",
       "1  1111bbbb          3  Bbb ccc ddd.\n",
       "2  2222cccc          4  CCC ddd eee."
      ]
     },
     "execution_count": 5,
     "metadata": {},
     "output_type": "execute_result"
    }
   ],
   "source": [
    "df = pd.read_csv(\"/kaggle/input/llm-detect-ai-generated-text/test_essays.csv\")\n",
    "df.head()"
   ]
  },
  {
   "cell_type": "code",
   "execution_count": 6,
   "id": "7ba82660",
   "metadata": {
    "execution": {
     "iopub.execute_input": "2024-01-13T00:19:38.808799Z",
     "iopub.status.busy": "2024-01-13T00:19:38.808531Z",
     "iopub.status.idle": "2024-01-13T00:19:38.822211Z",
     "shell.execute_reply": "2024-01-13T00:19:38.821381Z"
    },
    "papermill": {
     "duration": 0.019822,
     "end_time": "2024-01-13T00:19:38.823999",
     "exception": false,
     "start_time": "2024-01-13T00:19:38.804177",
     "status": "completed"
    },
    "tags": []
   },
   "outputs": [
    {
     "data": {
      "text/html": [
       "<div>\n",
       "<style scoped>\n",
       "    .dataframe tbody tr th:only-of-type {\n",
       "        vertical-align: middle;\n",
       "    }\n",
       "\n",
       "    .dataframe tbody tr th {\n",
       "        vertical-align: top;\n",
       "    }\n",
       "\n",
       "    .dataframe thead th {\n",
       "        text-align: right;\n",
       "    }\n",
       "</style>\n",
       "<table border=\"1\" class=\"dataframe\">\n",
       "  <thead>\n",
       "    <tr style=\"text-align: right;\">\n",
       "      <th></th>\n",
       "      <th>id</th>\n",
       "      <th>generated</th>\n",
       "    </tr>\n",
       "  </thead>\n",
       "  <tbody>\n",
       "    <tr>\n",
       "      <th>0</th>\n",
       "      <td>0000aaaa</td>\n",
       "      <td>0.1</td>\n",
       "    </tr>\n",
       "    <tr>\n",
       "      <th>1</th>\n",
       "      <td>1111bbbb</td>\n",
       "      <td>0.9</td>\n",
       "    </tr>\n",
       "    <tr>\n",
       "      <th>2</th>\n",
       "      <td>2222cccc</td>\n",
       "      <td>0.4</td>\n",
       "    </tr>\n",
       "  </tbody>\n",
       "</table>\n",
       "</div>"
      ],
      "text/plain": [
       "         id  generated\n",
       "0  0000aaaa        0.1\n",
       "1  1111bbbb        0.9\n",
       "2  2222cccc        0.4"
      ]
     },
     "execution_count": 6,
     "metadata": {},
     "output_type": "execute_result"
    }
   ],
   "source": [
    "submission = pd.read_csv(\"/kaggle/input/llm-detect-ai-generated-text/sample_submission.csv\")\n",
    "submission.head()"
   ]
  },
  {
   "cell_type": "code",
   "execution_count": 7,
   "id": "266411fd",
   "metadata": {
    "execution": {
     "iopub.execute_input": "2024-01-13T00:19:38.832989Z",
     "iopub.status.busy": "2024-01-13T00:19:38.832742Z",
     "iopub.status.idle": "2024-01-13T00:19:39.656558Z",
     "shell.execute_reply": "2024-01-13T00:19:39.655642Z"
    },
    "papermill": {
     "duration": 0.831007,
     "end_time": "2024-01-13T00:19:39.658820",
     "exception": false,
     "start_time": "2024-01-13T00:19:38.827813",
     "status": "completed"
    },
    "tags": []
   },
   "outputs": [
    {
     "data": {
      "text/html": [
       "<div>\n",
       "<style scoped>\n",
       "    .dataframe tbody tr th:only-of-type {\n",
       "        vertical-align: middle;\n",
       "    }\n",
       "\n",
       "    .dataframe tbody tr th {\n",
       "        vertical-align: top;\n",
       "    }\n",
       "\n",
       "    .dataframe thead th {\n",
       "        text-align: right;\n",
       "    }\n",
       "</style>\n",
       "<table border=\"1\" class=\"dataframe\">\n",
       "  <thead>\n",
       "    <tr style=\"text-align: right;\">\n",
       "      <th></th>\n",
       "      <th>id</th>\n",
       "      <th>prompt_id</th>\n",
       "      <th>text</th>\n",
       "      <th>generated</th>\n",
       "    </tr>\n",
       "  </thead>\n",
       "  <tbody>\n",
       "    <tr>\n",
       "      <th>0</th>\n",
       "      <td>0000aaaa</td>\n",
       "      <td>2</td>\n",
       "      <td>Aaa bbb ccc.</td>\n",
       "      <td>0.165391</td>\n",
       "    </tr>\n",
       "    <tr>\n",
       "      <th>1</th>\n",
       "      <td>1111bbbb</td>\n",
       "      <td>3</td>\n",
       "      <td>Bbb ccc ddd.</td>\n",
       "      <td>0.158366</td>\n",
       "    </tr>\n",
       "    <tr>\n",
       "      <th>2</th>\n",
       "      <td>2222cccc</td>\n",
       "      <td>4</td>\n",
       "      <td>CCC ddd eee.</td>\n",
       "      <td>0.136918</td>\n",
       "    </tr>\n",
       "  </tbody>\n",
       "</table>\n",
       "</div>"
      ],
      "text/plain": [
       "         id  prompt_id          text  generated\n",
       "0  0000aaaa          2  Aaa bbb ccc.   0.165391\n",
       "1  1111bbbb          3  Bbb ccc ddd.   0.158366\n",
       "2  2222cccc          4  CCC ddd eee.   0.136918"
      ]
     },
     "execution_count": 7,
     "metadata": {},
     "output_type": "execute_result"
    }
   ],
   "source": [
    "def predict_ai_generated(text):\n",
    "    inputs = tokenizer(\n",
    "        text=text, \n",
    "        return_tensors=\"pt\", \n",
    "        truncation=True, \n",
    "        max_length=512\n",
    "    )\n",
    "    with torch.no_grad():\n",
    "        outputs = model(**inputs)\n",
    "    probs = softmax(outputs.logits, dim=1)\n",
    "    return probs[0, 1].item()\n",
    "\n",
    "df['generated'] = df['text'].apply(predict_ai_generated)\n",
    "df.head()"
   ]
  },
  {
   "cell_type": "code",
   "execution_count": 8,
   "id": "e82c4dd7",
   "metadata": {
    "execution": {
     "iopub.execute_input": "2024-01-13T00:19:39.668937Z",
     "iopub.status.busy": "2024-01-13T00:19:39.668625Z",
     "iopub.status.idle": "2024-01-13T00:19:39.677135Z",
     "shell.execute_reply": "2024-01-13T00:19:39.676238Z"
    },
    "papermill": {
     "duration": 0.015355,
     "end_time": "2024-01-13T00:19:39.679007",
     "exception": false,
     "start_time": "2024-01-13T00:19:39.663652",
     "status": "completed"
    },
    "tags": []
   },
   "outputs": [
    {
     "data": {
      "text/html": [
       "<div>\n",
       "<style scoped>\n",
       "    .dataframe tbody tr th:only-of-type {\n",
       "        vertical-align: middle;\n",
       "    }\n",
       "\n",
       "    .dataframe tbody tr th {\n",
       "        vertical-align: top;\n",
       "    }\n",
       "\n",
       "    .dataframe thead th {\n",
       "        text-align: right;\n",
       "    }\n",
       "</style>\n",
       "<table border=\"1\" class=\"dataframe\">\n",
       "  <thead>\n",
       "    <tr style=\"text-align: right;\">\n",
       "      <th></th>\n",
       "      <th>id</th>\n",
       "      <th>generated</th>\n",
       "    </tr>\n",
       "  </thead>\n",
       "  <tbody>\n",
       "    <tr>\n",
       "      <th>0</th>\n",
       "      <td>0000aaaa</td>\n",
       "      <td>0.165391</td>\n",
       "    </tr>\n",
       "    <tr>\n",
       "      <th>1</th>\n",
       "      <td>1111bbbb</td>\n",
       "      <td>0.158366</td>\n",
       "    </tr>\n",
       "    <tr>\n",
       "      <th>2</th>\n",
       "      <td>2222cccc</td>\n",
       "      <td>0.136918</td>\n",
       "    </tr>\n",
       "  </tbody>\n",
       "</table>\n",
       "</div>"
      ],
      "text/plain": [
       "         id  generated\n",
       "0  0000aaaa   0.165391\n",
       "1  1111bbbb   0.158366\n",
       "2  2222cccc   0.136918"
      ]
     },
     "execution_count": 8,
     "metadata": {},
     "output_type": "execute_result"
    }
   ],
   "source": [
    "submission['generated'] = df['generated']\n",
    "submission.head()"
   ]
  },
  {
   "cell_type": "code",
   "execution_count": 9,
   "id": "5b0e6eca",
   "metadata": {
    "execution": {
     "iopub.execute_input": "2024-01-13T00:19:39.688534Z",
     "iopub.status.busy": "2024-01-13T00:19:39.688250Z",
     "iopub.status.idle": "2024-01-13T00:19:39.694685Z",
     "shell.execute_reply": "2024-01-13T00:19:39.693792Z"
    },
    "papermill": {
     "duration": 0.013382,
     "end_time": "2024-01-13T00:19:39.696754",
     "exception": false,
     "start_time": "2024-01-13T00:19:39.683372",
     "status": "completed"
    },
    "tags": []
   },
   "outputs": [],
   "source": [
    "submission.to_csv(\"submission.csv\", index=False)"
   ]
  }
 ],
 "metadata": {
  "kaggle": {
   "accelerator": "gpu",
   "dataSources": [
    {
     "databundleVersionId": 6888007,
     "sourceId": 61542,
     "sourceType": "competition"
    },
    {
     "datasetId": 4297433,
     "isSourceIdPinned": true,
     "sourceId": 7392261,
     "sourceType": "datasetVersion"
    }
   ],
   "dockerImageVersionId": 30636,
   "isGpuEnabled": true,
   "isInternetEnabled": false,
   "language": "python",
   "sourceType": "notebook"
  },
  "kernelspec": {
   "display_name": "Python 3",
   "language": "python",
   "name": "python3"
  },
  "language_info": {
   "codemirror_mode": {
    "name": "ipython",
    "version": 3
   },
   "file_extension": ".py",
   "mimetype": "text/x-python",
   "name": "python",
   "nbconvert_exporter": "python",
   "pygments_lexer": "ipython3",
   "version": "3.10.12"
  },
  "papermill": {
   "default_parameters": {},
   "duration": 18.936387,
   "end_time": "2024-01-13T00:19:41.222510",
   "environment_variables": {},
   "exception": null,
   "input_path": "__notebook__.ipynb",
   "output_path": "__notebook__.ipynb",
   "parameters": {},
   "start_time": "2024-01-13T00:19:22.286123",
   "version": "2.4.0"
  }
 },
 "nbformat": 4,
 "nbformat_minor": 5
}
