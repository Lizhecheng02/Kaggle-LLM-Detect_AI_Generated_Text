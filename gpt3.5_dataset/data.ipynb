{
 "cells": [
  {
   "cell_type": "code",
   "execution_count": 1,
   "metadata": {},
   "outputs": [],
   "source": [
    "import pandas as pd"
   ]
  },
  {
   "cell_type": "code",
   "execution_count": 2,
   "metadata": {},
   "outputs": [
    {
     "data": {
      "text/html": [
       "<div>\n",
       "<style scoped>\n",
       "    .dataframe tbody tr th:only-of-type {\n",
       "        vertical-align: middle;\n",
       "    }\n",
       "\n",
       "    .dataframe tbody tr th {\n",
       "        vertical-align: top;\n",
       "    }\n",
       "\n",
       "    .dataframe thead th {\n",
       "        text-align: right;\n",
       "    }\n",
       "</style>\n",
       "<table border=\"1\" class=\"dataframe\">\n",
       "  <thead>\n",
       "    <tr style=\"text-align: right;\">\n",
       "      <th></th>\n",
       "      <th>text</th>\n",
       "      <th>label</th>\n",
       "      <th>prompt_name</th>\n",
       "      <th>type</th>\n",
       "    </tr>\n",
       "  </thead>\n",
       "  <tbody>\n",
       "    <tr>\n",
       "      <th>0</th>\n",
       "      <td>Luke the Seagoing Cowboy: An Adventure Worth E...</td>\n",
       "      <td>1</td>\n",
       "      <td>\"A Cowboy Who Rode the Waves\"</td>\n",
       "      <td>based_on_human_text_no_source</td>\n",
       "    </tr>\n",
       "    <tr>\n",
       "      <th>1</th>\n",
       "      <td>Luke the Seagoing Cowboy: An Adventure Worth T...</td>\n",
       "      <td>1</td>\n",
       "      <td>\"A Cowboy Who Rode the Waves\"</td>\n",
       "      <td>based_on_human_text_no_source</td>\n",
       "    </tr>\n",
       "    <tr>\n",
       "      <th>2</th>\n",
       "      <td>People should join the Seagoing Cowboys progra...</td>\n",
       "      <td>1</td>\n",
       "      <td>\"A Cowboy Who Rode the Waves\"</td>\n",
       "      <td>based_on_human_text_no_source</td>\n",
       "    </tr>\n",
       "    <tr>\n",
       "      <th>3</th>\n",
       "      <td>People should join the Seagoing Cowboys progra...</td>\n",
       "      <td>1</td>\n",
       "      <td>\"A Cowboy Who Rode the Waves\"</td>\n",
       "      <td>based_on_human_text_no_source</td>\n",
       "    </tr>\n",
       "    <tr>\n",
       "      <th>4</th>\n",
       "      <td>Title: The Seagoing Cowboys: An Adventure of a...</td>\n",
       "      <td>1</td>\n",
       "      <td>\"A Cowboy Who Rode the Waves\"</td>\n",
       "      <td>based_on_human_text_no_source</td>\n",
       "    </tr>\n",
       "  </tbody>\n",
       "</table>\n",
       "</div>"
      ],
      "text/plain": [
       "                                                text  label  \\\n",
       "0  Luke the Seagoing Cowboy: An Adventure Worth E...      1   \n",
       "1  Luke the Seagoing Cowboy: An Adventure Worth T...      1   \n",
       "2  People should join the Seagoing Cowboys progra...      1   \n",
       "3  People should join the Seagoing Cowboys progra...      1   \n",
       "4  Title: The Seagoing Cowboys: An Adventure of a...      1   \n",
       "\n",
       "                     prompt_name                           type  \n",
       "0  \"A Cowboy Who Rode the Waves\"  based_on_human_text_no_source  \n",
       "1  \"A Cowboy Who Rode the Waves\"  based_on_human_text_no_source  \n",
       "2  \"A Cowboy Who Rode the Waves\"  based_on_human_text_no_source  \n",
       "3  \"A Cowboy Who Rode the Waves\"  based_on_human_text_no_source  \n",
       "4  \"A Cowboy Who Rode the Waves\"  based_on_human_text_no_source  "
      ]
     },
     "execution_count": 2,
     "metadata": {},
     "output_type": "execute_result"
    }
   ],
   "source": [
    "df = pd.read_csv(\"lzc_dataset_0.csv\")\n",
    "df.head()"
   ]
  },
  {
   "cell_type": "code",
   "execution_count": 3,
   "metadata": {},
   "outputs": [
    {
     "data": {
      "text/plain": [
       "(8000, 4)"
      ]
     },
     "execution_count": 3,
     "metadata": {},
     "output_type": "execute_result"
    }
   ],
   "source": [
    "df = pd.DataFrame(\n",
    "    columns=[\"text\", \"label\", \"prompt_name\", \"type\"]\n",
    ")\n",
    "\n",
    "for i in range(4):\n",
    "    tmp_df = pd.read_csv(f\"lzc_dataset_{i}.csv\")\n",
    "    df = pd.concat([df, tmp_df], ignore_index=True)\n",
    "\n",
    "df.reset_index(drop=True, inplace=True)\n",
    "df.shape"
   ]
  },
  {
   "cell_type": "code",
   "execution_count": 4,
   "metadata": {},
   "outputs": [
    {
     "data": {
      "text/plain": [
       "(7982, 4)"
      ]
     },
     "execution_count": 4,
     "metadata": {},
     "output_type": "execute_result"
    }
   ],
   "source": [
    "df.drop_duplicates(subset=[\"text\"], inplace=True)\n",
    "df.shape"
   ]
  },
  {
   "cell_type": "code",
   "execution_count": 5,
   "metadata": {},
   "outputs": [
    {
     "data": {
      "text/html": [
       "<div>\n",
       "<style scoped>\n",
       "    .dataframe tbody tr th:only-of-type {\n",
       "        vertical-align: middle;\n",
       "    }\n",
       "\n",
       "    .dataframe tbody tr th {\n",
       "        vertical-align: top;\n",
       "    }\n",
       "\n",
       "    .dataframe thead th {\n",
       "        text-align: right;\n",
       "    }\n",
       "</style>\n",
       "<table border=\"1\" class=\"dataframe\">\n",
       "  <thead>\n",
       "    <tr style=\"text-align: right;\">\n",
       "      <th></th>\n",
       "      <th>text</th>\n",
       "      <th>label</th>\n",
       "      <th>prompt_name</th>\n",
       "      <th>type</th>\n",
       "    </tr>\n",
       "  </thead>\n",
       "  <tbody>\n",
       "    <tr>\n",
       "      <th>0</th>\n",
       "      <td>Luke the Seagoing Cowboy: An Adventure Worth E...</td>\n",
       "      <td>1</td>\n",
       "      <td>\"A Cowboy Who Rode the Waves\"</td>\n",
       "      <td>based_on_human_text_no_source</td>\n",
       "    </tr>\n",
       "    <tr>\n",
       "      <th>1</th>\n",
       "      <td>Luke the Seagoing Cowboy: An Adventure Worth T...</td>\n",
       "      <td>1</td>\n",
       "      <td>\"A Cowboy Who Rode the Waves\"</td>\n",
       "      <td>based_on_human_text_no_source</td>\n",
       "    </tr>\n",
       "    <tr>\n",
       "      <th>2</th>\n",
       "      <td>People should join the Seagoing Cowboys progra...</td>\n",
       "      <td>1</td>\n",
       "      <td>\"A Cowboy Who Rode the Waves\"</td>\n",
       "      <td>based_on_human_text_no_source</td>\n",
       "    </tr>\n",
       "    <tr>\n",
       "      <th>3</th>\n",
       "      <td>People should join the Seagoing Cowboys progra...</td>\n",
       "      <td>1</td>\n",
       "      <td>\"A Cowboy Who Rode the Waves\"</td>\n",
       "      <td>based_on_human_text_no_source</td>\n",
       "    </tr>\n",
       "    <tr>\n",
       "      <th>4</th>\n",
       "      <td>Title: The Seagoing Cowboys: An Adventure of a...</td>\n",
       "      <td>1</td>\n",
       "      <td>\"A Cowboy Who Rode the Waves\"</td>\n",
       "      <td>based_on_human_text_no_source</td>\n",
       "    </tr>\n",
       "  </tbody>\n",
       "</table>\n",
       "</div>"
      ],
      "text/plain": [
       "                                                text label  \\\n",
       "0  Luke the Seagoing Cowboy: An Adventure Worth E...     1   \n",
       "1  Luke the Seagoing Cowboy: An Adventure Worth T...     1   \n",
       "2  People should join the Seagoing Cowboys progra...     1   \n",
       "3  People should join the Seagoing Cowboys progra...     1   \n",
       "4  Title: The Seagoing Cowboys: An Adventure of a...     1   \n",
       "\n",
       "                     prompt_name                           type  \n",
       "0  \"A Cowboy Who Rode the Waves\"  based_on_human_text_no_source  \n",
       "1  \"A Cowboy Who Rode the Waves\"  based_on_human_text_no_source  \n",
       "2  \"A Cowboy Who Rode the Waves\"  based_on_human_text_no_source  \n",
       "3  \"A Cowboy Who Rode the Waves\"  based_on_human_text_no_source  \n",
       "4  \"A Cowboy Who Rode the Waves\"  based_on_human_text_no_source  "
      ]
     },
     "execution_count": 5,
     "metadata": {},
     "output_type": "execute_result"
    }
   ],
   "source": [
    "df.head()"
   ]
  },
  {
   "cell_type": "code",
   "execution_count": 6,
   "metadata": {},
   "outputs": [],
   "source": [
    "df.to_csv(\"lzc_dataset_all.csv\", index=False)"
   ]
  },
  {
   "cell_type": "code",
   "execution_count": 19,
   "metadata": {},
   "outputs": [
    {
     "data": {
      "text/html": [
       "<div>\n",
       "<style scoped>\n",
       "    .dataframe tbody tr th:only-of-type {\n",
       "        vertical-align: middle;\n",
       "    }\n",
       "\n",
       "    .dataframe tbody tr th {\n",
       "        vertical-align: top;\n",
       "    }\n",
       "\n",
       "    .dataframe thead th {\n",
       "        text-align: right;\n",
       "    }\n",
       "</style>\n",
       "<table border=\"1\" class=\"dataframe\">\n",
       "  <thead>\n",
       "    <tr style=\"text-align: right;\">\n",
       "      <th></th>\n",
       "      <th>text</th>\n",
       "      <th>label</th>\n",
       "      <th>prompt_name</th>\n",
       "      <th>type</th>\n",
       "    </tr>\n",
       "  </thead>\n",
       "  <tbody>\n",
       "    <tr>\n",
       "      <th>0</th>\n",
       "      <td>Luke the Seagoing Cowboy: An Adventure Worth E...</td>\n",
       "      <td>1</td>\n",
       "      <td>\"A Cowboy Who Rode the Waves\"</td>\n",
       "      <td>based_on_human_text_no_source</td>\n",
       "    </tr>\n",
       "    <tr>\n",
       "      <th>1</th>\n",
       "      <td>Luke the Seagoing Cowboy: An Adventure Worth T...</td>\n",
       "      <td>1</td>\n",
       "      <td>\"A Cowboy Who Rode the Waves\"</td>\n",
       "      <td>based_on_human_text_no_source</td>\n",
       "    </tr>\n",
       "    <tr>\n",
       "      <th>2</th>\n",
       "      <td>People should join the Seagoing Cowboys progra...</td>\n",
       "      <td>1</td>\n",
       "      <td>\"A Cowboy Who Rode the Waves\"</td>\n",
       "      <td>based_on_human_text_no_source</td>\n",
       "    </tr>\n",
       "    <tr>\n",
       "      <th>3</th>\n",
       "      <td>People should join the Seagoing Cowboys progra...</td>\n",
       "      <td>1</td>\n",
       "      <td>\"A Cowboy Who Rode the Waves\"</td>\n",
       "      <td>based_on_human_text_no_source</td>\n",
       "    </tr>\n",
       "    <tr>\n",
       "      <th>4</th>\n",
       "      <td>Title: The Seagoing Cowboys: An Adventure of a...</td>\n",
       "      <td>1</td>\n",
       "      <td>\"A Cowboy Who Rode the Waves\"</td>\n",
       "      <td>based_on_human_text_no_source</td>\n",
       "    </tr>\n",
       "  </tbody>\n",
       "</table>\n",
       "</div>"
      ],
      "text/plain": [
       "                                                text  label  \\\n",
       "0  Luke the Seagoing Cowboy: An Adventure Worth E...      1   \n",
       "1  Luke the Seagoing Cowboy: An Adventure Worth T...      1   \n",
       "2  People should join the Seagoing Cowboys progra...      1   \n",
       "3  People should join the Seagoing Cowboys progra...      1   \n",
       "4  Title: The Seagoing Cowboys: An Adventure of a...      1   \n",
       "\n",
       "                     prompt_name                           type  \n",
       "0  \"A Cowboy Who Rode the Waves\"  based_on_human_text_no_source  \n",
       "1  \"A Cowboy Who Rode the Waves\"  based_on_human_text_no_source  \n",
       "2  \"A Cowboy Who Rode the Waves\"  based_on_human_text_no_source  \n",
       "3  \"A Cowboy Who Rode the Waves\"  based_on_human_text_no_source  \n",
       "4  \"A Cowboy Who Rode the Waves\"  based_on_human_text_no_source  "
      ]
     },
     "execution_count": 19,
     "metadata": {},
     "output_type": "execute_result"
    }
   ],
   "source": [
    "self_generated_all = pd.read_csv(\"lzc_dataset_all.csv\")\n",
    "self_generated_all.head()"
   ]
  },
  {
   "cell_type": "code",
   "execution_count": 20,
   "metadata": {},
   "outputs": [
    {
     "data": {
      "text/html": [
       "<div>\n",
       "<style scoped>\n",
       "    .dataframe tbody tr th:only-of-type {\n",
       "        vertical-align: middle;\n",
       "    }\n",
       "\n",
       "    .dataframe tbody tr th {\n",
       "        vertical-align: top;\n",
       "    }\n",
       "\n",
       "    .dataframe thead th {\n",
       "        text-align: right;\n",
       "    }\n",
       "</style>\n",
       "<table border=\"1\" class=\"dataframe\">\n",
       "  <thead>\n",
       "    <tr style=\"text-align: right;\">\n",
       "      <th></th>\n",
       "      <th>text</th>\n",
       "      <th>label</th>\n",
       "      <th>prompt_name</th>\n",
       "      <th>source</th>\n",
       "    </tr>\n",
       "  </thead>\n",
       "  <tbody>\n",
       "    <tr>\n",
       "      <th>0</th>\n",
       "      <td>Phones\\n\\nModern humans today are always on th...</td>\n",
       "      <td>0</td>\n",
       "      <td>Phones and driving</td>\n",
       "      <td>persuade_corpus</td>\n",
       "    </tr>\n",
       "    <tr>\n",
       "      <th>1</th>\n",
       "      <td>This essay will explain if drivers should or s...</td>\n",
       "      <td>0</td>\n",
       "      <td>Phones and driving</td>\n",
       "      <td>persuade_corpus</td>\n",
       "    </tr>\n",
       "    <tr>\n",
       "      <th>2</th>\n",
       "      <td>Driving while the use of cellular devices\\n\\nT...</td>\n",
       "      <td>0</td>\n",
       "      <td>Phones and driving</td>\n",
       "      <td>persuade_corpus</td>\n",
       "    </tr>\n",
       "    <tr>\n",
       "      <th>3</th>\n",
       "      <td>Phones &amp; Driving\\n\\nDrivers should not be able...</td>\n",
       "      <td>0</td>\n",
       "      <td>Phones and driving</td>\n",
       "      <td>persuade_corpus</td>\n",
       "    </tr>\n",
       "    <tr>\n",
       "      <th>4</th>\n",
       "      <td>Cell Phone Operation While Driving\\n\\nThe abil...</td>\n",
       "      <td>0</td>\n",
       "      <td>Phones and driving</td>\n",
       "      <td>persuade_corpus</td>\n",
       "    </tr>\n",
       "  </tbody>\n",
       "</table>\n",
       "</div>"
      ],
      "text/plain": [
       "                                                text  label  \\\n",
       "0  Phones\\n\\nModern humans today are always on th...      0   \n",
       "1  This essay will explain if drivers should or s...      0   \n",
       "2  Driving while the use of cellular devices\\n\\nT...      0   \n",
       "3  Phones & Driving\\n\\nDrivers should not be able...      0   \n",
       "4  Cell Phone Operation While Driving\\n\\nThe abil...      0   \n",
       "\n",
       "          prompt_name           source  \n",
       "0  Phones and driving  persuade_corpus  \n",
       "1  Phones and driving  persuade_corpus  \n",
       "2  Phones and driving  persuade_corpus  \n",
       "3  Phones and driving  persuade_corpus  \n",
       "4  Phones and driving  persuade_corpus  "
      ]
     },
     "execution_count": 20,
     "metadata": {},
     "output_type": "execute_result"
    }
   ],
   "source": [
    "kaggle_dataset = pd.read_csv(\"../combined_dataset_v3_gemini.csv\")\n",
    "kaggle_dataset.head()"
   ]
  },
  {
   "cell_type": "code",
   "execution_count": 21,
   "metadata": {},
   "outputs": [
    {
     "data": {
      "text/plain": [
       "(76980, 3)"
      ]
     },
     "execution_count": 21,
     "metadata": {},
     "output_type": "execute_result"
    }
   ],
   "source": [
    "self_generated_all = self_generated_all[[\"text\", \"label\", \"prompt_name\"]]\n",
    "kaggle_dataset = kaggle_dataset[[\"text\", \"label\", \"prompt_name\"]]\n",
    "all_dataset = pd.concat([self_generated_all, kaggle_dataset], ignore_index=True)\n",
    "all_dataset.shape"
   ]
  },
  {
   "cell_type": "code",
   "execution_count": 22,
   "metadata": {},
   "outputs": [
    {
     "data": {
      "text/plain": [
       "(76980, 3)"
      ]
     },
     "execution_count": 22,
     "metadata": {},
     "output_type": "execute_result"
    }
   ],
   "source": [
    "all_dataset.drop_duplicates(subset=[\"text\"], inplace=True)\n",
    "all_dataset.shape"
   ]
  },
  {
   "cell_type": "code",
   "execution_count": 23,
   "metadata": {},
   "outputs": [],
   "source": [
    "all_dataset.to_csv(\"../v3_gemini_self.csv\", index=False)"
   ]
  }
 ],
 "metadata": {
  "kernelspec": {
   "display_name": "base",
   "language": "python",
   "name": "python3"
  },
  "language_info": {
   "codemirror_mode": {
    "name": "ipython",
    "version": 3
   },
   "file_extension": ".py",
   "mimetype": "text/x-python",
   "name": "python",
   "nbconvert_exporter": "python",
   "pygments_lexer": "ipython3",
   "version": "3.10.9"
  }
 },
 "nbformat": 4,
 "nbformat_minor": 2
}
